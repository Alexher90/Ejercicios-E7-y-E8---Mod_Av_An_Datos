{
 "cells": [
  {
   "cell_type": "markdown",
   "metadata": {},
   "source": [
    "# Project 2\n",
    "\n",
    "# Used Vehicle Price Prediction"
   ]
  },
  {
   "cell_type": "markdown",
   "metadata": {},
   "source": [
    "## Introduction\n",
    "\n",
    "- 1.2 Million listings scraped from TrueCar.com - Price, Mileage, Make, Model dataset from Kaggle: [data](https://www.kaggle.com/jpayne/852k-used-car-listings)\n",
    "- Each observation represents the price of an used car"
   ]
  },
  {
   "cell_type": "code",
   "execution_count": 1,
   "metadata": {},
   "outputs": [],
   "source": [
    "%matplotlib inline\n",
    "import pandas as pd"
   ]
  },
  {
   "cell_type": "code",
   "execution_count": 2,
   "metadata": {},
   "outputs": [],
   "source": [
    "data = pd.read_csv(\"dataTrain_carListings.csv\")"
   ]
  },
  {
   "cell_type": "code",
   "execution_count": 3,
   "metadata": {},
   "outputs": [
    {
     "data": {
      "text/html": [
       "<div>\n",
       "<style scoped>\n",
       "    .dataframe tbody tr th:only-of-type {\n",
       "        vertical-align: middle;\n",
       "    }\n",
       "\n",
       "    .dataframe tbody tr th {\n",
       "        vertical-align: top;\n",
       "    }\n",
       "\n",
       "    .dataframe thead th {\n",
       "        text-align: right;\n",
       "    }\n",
       "</style>\n",
       "<table border=\"1\" class=\"dataframe\">\n",
       "  <thead>\n",
       "    <tr style=\"text-align: right;\">\n",
       "      <th></th>\n",
       "      <th>Price</th>\n",
       "      <th>Year</th>\n",
       "      <th>Mileage</th>\n",
       "      <th>State</th>\n",
       "      <th>Make</th>\n",
       "      <th>Model</th>\n",
       "    </tr>\n",
       "  </thead>\n",
       "  <tbody>\n",
       "    <tr>\n",
       "      <td>0</td>\n",
       "      <td>21490</td>\n",
       "      <td>2014</td>\n",
       "      <td>31909</td>\n",
       "      <td>MD</td>\n",
       "      <td>Nissan</td>\n",
       "      <td>MuranoAWD</td>\n",
       "    </tr>\n",
       "    <tr>\n",
       "      <td>1</td>\n",
       "      <td>21250</td>\n",
       "      <td>2016</td>\n",
       "      <td>25741</td>\n",
       "      <td>KY</td>\n",
       "      <td>Chevrolet</td>\n",
       "      <td>CamaroCoupe</td>\n",
       "    </tr>\n",
       "    <tr>\n",
       "      <td>2</td>\n",
       "      <td>20925</td>\n",
       "      <td>2016</td>\n",
       "      <td>24633</td>\n",
       "      <td>SC</td>\n",
       "      <td>Hyundai</td>\n",
       "      <td>Santa</td>\n",
       "    </tr>\n",
       "    <tr>\n",
       "      <td>3</td>\n",
       "      <td>14500</td>\n",
       "      <td>2012</td>\n",
       "      <td>84026</td>\n",
       "      <td>OK</td>\n",
       "      <td>Jeep</td>\n",
       "      <td>Grand</td>\n",
       "    </tr>\n",
       "    <tr>\n",
       "      <td>4</td>\n",
       "      <td>32488</td>\n",
       "      <td>2013</td>\n",
       "      <td>22816</td>\n",
       "      <td>TN</td>\n",
       "      <td>Jeep</td>\n",
       "      <td>Wrangler</td>\n",
       "    </tr>\n",
       "  </tbody>\n",
       "</table>\n",
       "</div>"
      ],
      "text/plain": [
       "   Price  Year  Mileage State       Make        Model\n",
       "0  21490  2014    31909    MD     Nissan    MuranoAWD\n",
       "1  21250  2016    25741    KY  Chevrolet  CamaroCoupe\n",
       "2  20925  2016    24633    SC    Hyundai        Santa\n",
       "3  14500  2012    84026    OK       Jeep        Grand\n",
       "4  32488  2013    22816    TN       Jeep     Wrangler"
      ]
     },
     "execution_count": 3,
     "metadata": {},
     "output_type": "execute_result"
    }
   ],
   "source": [
    "data.head()"
   ]
  },
  {
   "cell_type": "code",
   "execution_count": 4,
   "metadata": {},
   "outputs": [
    {
     "data": {
      "text/plain": [
       "(500000, 6)"
      ]
     },
     "execution_count": 4,
     "metadata": {},
     "output_type": "execute_result"
    }
   ],
   "source": [
    "data.shape"
   ]
  },
  {
   "cell_type": "code",
   "execution_count": 5,
   "metadata": {},
   "outputs": [
    {
     "data": {
      "text/plain": [
       "count    500000.000000\n",
       "mean      21144.186304\n",
       "std       10753.259704\n",
       "min        5001.000000\n",
       "25%       13499.000000\n",
       "50%       18450.000000\n",
       "75%       26998.000000\n",
       "max       79999.000000\n",
       "Name: Price, dtype: float64"
      ]
     },
     "execution_count": 5,
     "metadata": {},
     "output_type": "execute_result"
    }
   ],
   "source": [
    "data.Price.describe()"
   ]
  },
  {
   "cell_type": "code",
   "execution_count": 6,
   "metadata": {},
   "outputs": [
    {
     "data": {
      "text/plain": [
       "<matplotlib.axes._subplots.AxesSubplot at 0x7ff1ec44ac50>"
      ]
     },
     "execution_count": 6,
     "metadata": {},
     "output_type": "execute_result"
    },
    {
     "data": {
      "image/png": "[encoded data removed]",
      "text/plain": [
       "<Figure size 432x288 with 1 Axes>"
      ]
     },
     "metadata": {
      "needs_background": "light"
     },
     "output_type": "display_data"
    }
   ],
   "source": [
    "data.plot(kind='scatter', y='Price', x='Year')"
   ]
  },
  {
   "cell_type": "code",
   "execution_count": 7,
   "metadata": {},
   "outputs": [
    {
     "data": {
      "text/plain": [
       "<matplotlib.axes._subplots.AxesSubplot at 0x7ff1e9a1f450>"
      ]
     },
     "execution_count": 7,
     "metadata": {},
     "output_type": "execute_result"
    },
    {
     "data": {
      "image/png": "[encoded data removed]",
      "text/plain": [
       "<Figure size 432x288 with 1 Axes>"
      ]
     },
     "metadata": {
      "needs_background": "light"
     },
     "output_type": "display_data"
    }
   ],
   "source": [
    "data.plot(kind='scatter', y='Price', x='Mileage')"
   ]
  },
  {
   "cell_type": "code",
   "execution_count": 8,
   "metadata": {},
   "outputs": [
    {
     "data": {
      "text/plain": [
       "Index(['Price', 'Year', 'Mileage', 'State', 'Make', 'Model'], dtype='object')"
      ]
     },
     "execution_count": 8,
     "metadata": {},
     "output_type": "execute_result"
    }
   ],
   "source": [
    "data.columns"
   ]
  },
  {
   "cell_type": "markdown",
   "metadata": {},
   "source": [
    "# Exercise P2.1 (50%)\n",
    "\n",
    "Develop a machine learning model that predicts the price of the of car using as an input ['Year', 'Mileage', 'State', 'Make', 'Model']\n",
    "\n",
    "#### Evaluation:\n",
    "- 25% - Performance of the model using K-Fold (K=10) cross-validation\n",
    "- 25% - Notebook explaining the modeling process\n"
   ]
  },
  {
   "cell_type": "markdown",
   "metadata": {},
   "source": [
    "### Librerias"
   ]
  },
  {
   "cell_type": "code",
   "execution_count": 17,
   "metadata": {},
   "outputs": [],
   "source": [
    "from sklearn.model_selection import cross_val_score\n",
    "from sklearn.ensemble import AdaBoostRegressor\n",
    "from sklearn.ensemble import GradientBoostingRegressor\n",
    "from sklearn.metrics import mean_squared_error\n",
    "from sklearn.model_selection import GridSearchCV\n",
    "from sklearn.model_selection import train_test_split\n",
    "import numpy as np\n",
    "import math as math"
   ]
  },
  {
   "cell_type": "markdown",
   "metadata": {},
   "source": [
    "### Edición de datos"
   ]
  },
  {
   "cell_type": "markdown",
   "metadata": {},
   "source": [
    "Dado que se tienen numerosas categorias de naturaleza string, se procede a realizar un diccionario, en donde a cada refrencia de estad, marca y modelo se le asigna un un número que a su vez se considera como una varaible categorica. de esta manera el modelo podra leer estas columnas que originalmente venian en texto."
   ]
  },
  {
   "cell_type": "code",
   "execution_count": 18,
   "metadata": {},
   "outputs": [
    {
     "data": {
      "text/html": [
       "<div>\n",
       "<style scoped>\n",
       "    .dataframe tbody tr th:only-of-type {\n",
       "        vertical-align: middle;\n",
       "    }\n",
       "\n",
       "    .dataframe tbody tr th {\n",
       "        vertical-align: top;\n",
       "    }\n",
       "\n",
       "    .dataframe thead th {\n",
       "        text-align: right;\n",
       "    }\n",
       "</style>\n",
       "<table border=\"1\" class=\"dataframe\">\n",
       "  <thead>\n",
       "    <tr style=\"text-align: right;\">\n",
       "      <th></th>\n",
       "      <th>Price</th>\n",
       "      <th>Year</th>\n",
       "      <th>Mileage</th>\n",
       "      <th>State1</th>\n",
       "      <th>Make1</th>\n",
       "      <th>Model1</th>\n",
       "    </tr>\n",
       "  </thead>\n",
       "  <tbody>\n",
       "    <tr>\n",
       "      <td>0</td>\n",
       "      <td>21490</td>\n",
       "      <td>2014</td>\n",
       "      <td>31909</td>\n",
       "      <td>0</td>\n",
       "      <td>0</td>\n",
       "      <td>0</td>\n",
       "    </tr>\n",
       "    <tr>\n",
       "      <td>1</td>\n",
       "      <td>21250</td>\n",
       "      <td>2016</td>\n",
       "      <td>25741</td>\n",
       "      <td>1</td>\n",
       "      <td>1</td>\n",
       "      <td>1</td>\n",
       "    </tr>\n",
       "    <tr>\n",
       "      <td>2</td>\n",
       "      <td>20925</td>\n",
       "      <td>2016</td>\n",
       "      <td>24633</td>\n",
       "      <td>2</td>\n",
       "      <td>2</td>\n",
       "      <td>2</td>\n",
       "    </tr>\n",
       "    <tr>\n",
       "      <td>3</td>\n",
       "      <td>14500</td>\n",
       "      <td>2012</td>\n",
       "      <td>84026</td>\n",
       "      <td>3</td>\n",
       "      <td>3</td>\n",
       "      <td>3</td>\n",
       "    </tr>\n",
       "    <tr>\n",
       "      <td>4</td>\n",
       "      <td>32488</td>\n",
       "      <td>2013</td>\n",
       "      <td>22816</td>\n",
       "      <td>4</td>\n",
       "      <td>3</td>\n",
       "      <td>4</td>\n",
       "    </tr>\n",
       "  </tbody>\n",
       "</table>\n",
       "</div>"
      ],
      "text/plain": [
       "   Price  Year  Mileage State1 Make1 Model1\n",
       "0  21490  2014    31909      0     0      0\n",
       "1  21250  2016    25741      1     1      1\n",
       "2  20925  2016    24633      2     2      2\n",
       "3  14500  2012    84026      3     3      3\n",
       "4  32488  2013    22816      4     3      4"
      ]
     },
     "execution_count": 18,
     "metadata": {},
     "output_type": "execute_result"
    }
   ],
   "source": [
    "#Generación de categóricas\n",
    "\n",
    "estado = pd.DataFrame( data.State.unique() ) \n",
    "marca =  pd.DataFrame(   data.Make.unique() )\n",
    "Modelo = pd. DataFrame(data.Model.unique())\n",
    "\n",
    "estado[\"Statek\"] = estado.index \n",
    "marca[\"marcak\"] = marca.index\n",
    "Modelo[\"modelok\"] = Modelo.index \n",
    "\n",
    "estado.columns =[\"State\" , \"State1\"] \n",
    "marca.columns =[\"Make\" , \"Make1\"] \n",
    "Modelo.columns =[\"Model\" , \"Model1\"] \n",
    "\n",
    "#modificar los datos \n",
    "\n",
    "data2 = data.merge(estado, on= \"State\", how='left')\n",
    "data2 = data2.merge(marca, on= \"Make\", how='left')\n",
    "data2 = data2.merge(Modelo, on= \"Model\", how='left')\n",
    "\n",
    "data2  = data2.loc[:, [\"Price\" , \"Year\" , \"Mileage\" , \"State1\" , \"Make1\" ,\"Model1\"]]\n",
    " \n",
    "data2.State1 = pd.Categorical(data2.State1)\n",
    "data2.Make1 = pd.Categorical(data2.Make1)\n",
    "data2.Model1 = pd.Categorical(data2.Model1)\n",
    "\n",
    "data2.head()"
   ]
  },
  {
   "cell_type": "code",
   "execution_count": 19,
   "metadata": {},
   "outputs": [
    {
     "data": {
      "text/plain": [
       "21144.186304"
      ]
     },
     "execution_count": 19,
     "metadata": {},
     "output_type": "execute_result"
    }
   ],
   "source": [
    "data2.Price.mean()"
   ]
  },
  {
   "cell_type": "code",
   "execution_count": 20,
   "metadata": {},
   "outputs": [],
   "source": [
    "estado.to_csv(\"estado.csv\")\n",
    "marca.to_csv(\"marca.csv\")\n",
    "Modelo.to_csv(\"modelo.csv\")"
   ]
  },
  {
   "cell_type": "markdown",
   "metadata": {},
   "source": [
    "### Train y Test"
   ]
  },
  {
   "cell_type": "code",
   "execution_count": 21,
   "metadata": {},
   "outputs": [],
   "source": [
    "Data_train, Data_test = train_test_split(data2, test_size=0.3, random_state=42)"
   ]
  },
  {
   "cell_type": "code",
   "execution_count": 22,
   "metadata": {},
   "outputs": [
    {
     "data": {
      "text/html": [
       "<div>\n",
       "<style scoped>\n",
       "    .dataframe tbody tr th:only-of-type {\n",
       "        vertical-align: middle;\n",
       "    }\n",
       "\n",
       "    .dataframe tbody tr th {\n",
       "        vertical-align: top;\n",
       "    }\n",
       "\n",
       "    .dataframe thead th {\n",
       "        text-align: right;\n",
       "    }\n",
       "</style>\n",
       "<table border=\"1\" class=\"dataframe\">\n",
       "  <thead>\n",
       "    <tr style=\"text-align: right;\">\n",
       "      <th></th>\n",
       "      <th>Price</th>\n",
       "      <th>Year</th>\n",
       "      <th>Mileage</th>\n",
       "      <th>State1</th>\n",
       "      <th>Make1</th>\n",
       "      <th>Model1</th>\n",
       "    </tr>\n",
       "  </thead>\n",
       "  <tbody>\n",
       "    <tr>\n",
       "      <td>226114</td>\n",
       "      <td>26990</td>\n",
       "      <td>2017</td>\n",
       "      <td>12430</td>\n",
       "      <td>4</td>\n",
       "      <td>5</td>\n",
       "      <td>89</td>\n",
       "    </tr>\n",
       "    <tr>\n",
       "      <td>435187</td>\n",
       "      <td>12995</td>\n",
       "      <td>2010</td>\n",
       "      <td>76254</td>\n",
       "      <td>10</td>\n",
       "      <td>14</td>\n",
       "      <td>102</td>\n",
       "    </tr>\n",
       "    <tr>\n",
       "      <td>294452</td>\n",
       "      <td>19629</td>\n",
       "      <td>2014</td>\n",
       "      <td>59097</td>\n",
       "      <td>13</td>\n",
       "      <td>10</td>\n",
       "      <td>241</td>\n",
       "    </tr>\n",
       "    <tr>\n",
       "      <td>427864</td>\n",
       "      <td>10800</td>\n",
       "      <td>2014</td>\n",
       "      <td>109175</td>\n",
       "      <td>9</td>\n",
       "      <td>1</td>\n",
       "      <td>121</td>\n",
       "    </tr>\n",
       "    <tr>\n",
       "      <td>188822</td>\n",
       "      <td>25999</td>\n",
       "      <td>2015</td>\n",
       "      <td>24840</td>\n",
       "      <td>27</td>\n",
       "      <td>10</td>\n",
       "      <td>227</td>\n",
       "    </tr>\n",
       "  </tbody>\n",
       "</table>\n",
       "</div>"
      ],
      "text/plain": [
       "        Price  Year  Mileage State1 Make1 Model1\n",
       "226114  26990  2017    12430      4     5     89\n",
       "435187  12995  2010    76254     10    14    102\n",
       "294452  19629  2014    59097     13    10    241\n",
       "427864  10800  2014   109175      9     1    121\n",
       "188822  25999  2015    24840     27    10    227"
      ]
     },
     "execution_count": 22,
     "metadata": {},
     "output_type": "execute_result"
    }
   ],
   "source": [
    "Data_train.head()"
   ]
  },
  {
   "cell_type": "code",
   "execution_count": 23,
   "metadata": {},
   "outputs": [
    {
     "data": {
      "text/html": [
       "<div>\n",
       "<style scoped>\n",
       "    .dataframe tbody tr th:only-of-type {\n",
       "        vertical-align: middle;\n",
       "    }\n",
       "\n",
       "    .dataframe tbody tr th {\n",
       "        vertical-align: top;\n",
       "    }\n",
       "\n",
       "    .dataframe thead th {\n",
       "        text-align: right;\n",
       "    }\n",
       "</style>\n",
       "<table border=\"1\" class=\"dataframe\">\n",
       "  <thead>\n",
       "    <tr style=\"text-align: right;\">\n",
       "      <th></th>\n",
       "      <th>Price</th>\n",
       "      <th>Year</th>\n",
       "      <th>Mileage</th>\n",
       "      <th>State1</th>\n",
       "      <th>Make1</th>\n",
       "      <th>Model1</th>\n",
       "    </tr>\n",
       "  </thead>\n",
       "  <tbody>\n",
       "    <tr>\n",
       "      <td>104241</td>\n",
       "      <td>18231</td>\n",
       "      <td>2017</td>\n",
       "      <td>30223</td>\n",
       "      <td>13</td>\n",
       "      <td>5</td>\n",
       "      <td>260</td>\n",
       "    </tr>\n",
       "    <tr>\n",
       "      <td>199676</td>\n",
       "      <td>22982</td>\n",
       "      <td>2015</td>\n",
       "      <td>12764</td>\n",
       "      <td>22</td>\n",
       "      <td>1</td>\n",
       "      <td>121</td>\n",
       "    </tr>\n",
       "    <tr>\n",
       "      <td>140199</td>\n",
       "      <td>16219</td>\n",
       "      <td>2017</td>\n",
       "      <td>37951</td>\n",
       "      <td>0</td>\n",
       "      <td>4</td>\n",
       "      <td>73</td>\n",
       "    </tr>\n",
       "    <tr>\n",
       "      <td>132814</td>\n",
       "      <td>21995</td>\n",
       "      <td>2016</td>\n",
       "      <td>80649</td>\n",
       "      <td>29</td>\n",
       "      <td>15</td>\n",
       "      <td>166</td>\n",
       "    </tr>\n",
       "    <tr>\n",
       "      <td>408697</td>\n",
       "      <td>17995</td>\n",
       "      <td>2014</td>\n",
       "      <td>24579</td>\n",
       "      <td>8</td>\n",
       "      <td>11</td>\n",
       "      <td>77</td>\n",
       "    </tr>\n",
       "  </tbody>\n",
       "</table>\n",
       "</div>"
      ],
      "text/plain": [
       "        Price  Year  Mileage State1 Make1 Model1\n",
       "104241  18231  2017    30223     13     5    260\n",
       "199676  22982  2015    12764     22     1    121\n",
       "140199  16219  2017    37951      0     4     73\n",
       "132814  21995  2016    80649     29    15    166\n",
       "408697  17995  2014    24579      8    11     77"
      ]
     },
     "execution_count": 23,
     "metadata": {},
     "output_type": "execute_result"
    }
   ],
   "source": [
    "Data_test.head()"
   ]
  },
  {
   "cell_type": "markdown",
   "metadata": {},
   "source": [
    "## Random Forest Regressor"
   ]
  },
  {
   "cell_type": "markdown",
   "metadata": {},
   "source": [
    "El primer modelo que se prueba es la realización de un randomforest con el fin de dar una primera aproximación al desempeño del pronostico, la medida de desemeño utilizada para la comparación es la media del error cuadratico medio para un CV de 10 "
   ]
  },
  {
   "cell_type": "code",
   "execution_count": 9,
   "metadata": {},
   "outputs": [],
   "source": [
    "from sklearn.ensemble import RandomForestRegressor\n",
    "from sklearn.datasets import make_regression\n",
    "from sklearn.model_selection import cross_val_score"
   ]
  },
  {
   "cell_type": "code",
   "execution_count": 10,
   "metadata": {},
   "outputs": [],
   "source": [
    "reg = RandomForestRegressor()"
   ]
  },
  {
   "cell_type": "code",
   "execution_count": 136,
   "metadata": {
    "scrolled": true
   },
   "outputs": [
    {
     "name": "stderr",
     "output_type": "stream",
     "text": [
      "C:\\Users\\IVAN\\Anaconda3\\lib\\site-packages\\sklearn\\ensemble\\forest.py:245: FutureWarning: The default value of n_estimators will change from 10 in version 0.20 to 100 in 0.22.\n",
      "  \"10 in version 0.20 to 100 in 0.22.\", FutureWarning)\n"
     ]
    },
    {
     "data": {
      "text/plain": [
       "RandomForestRegressor(bootstrap=True, criterion='mse', max_depth=None,\n",
       "                      max_features='auto', max_leaf_nodes=None,\n",
       "                      min_impurity_decrease=0.0, min_impurity_split=None,\n",
       "                      min_samples_leaf=1, min_samples_split=2,\n",
       "                      min_weight_fraction_leaf=0.0, n_estimators=10,\n",
       "                      n_jobs=None, oob_score=False, random_state=None,\n",
       "                      verbose=0, warm_start=False)"
      ]
     },
     "execution_count": 136,
     "metadata": {},
     "output_type": "execute_result"
    }
   ],
   "source": [
    "X = Data_train.iloc[:,1:]\n",
    "y = Data_train.iloc[:,0]\n",
    "reg.fit(X, y)"
   ]
  },
  {
   "cell_type": "code",
   "execution_count": 137,
   "metadata": {},
   "outputs": [
    {
     "data": {
      "text/plain": [
       "3961.0266271553273"
      ]
     },
     "execution_count": 137,
     "metadata": {},
     "output_type": "execute_result"
    }
   ],
   "source": [
    "X_test = Data_test.iloc[:,1:]\n",
    "y_test = Data_test.iloc[:,0]\n",
    "math.sqrt(mean_squared_error(y_test, reg.predict(X_test)))"
   ]
  },
  {
   "cell_type": "markdown",
   "metadata": {},
   "source": [
    "La primera aproximación del pronostico brinda una raiz de error medio de 3961 usd, este valor inicia como punto de referencia para poder encontrar un mejor modelo."
   ]
  },
  {
   "cell_type": "markdown",
   "metadata": {},
   "source": [
    "### Random Forest Regressor Tunning"
   ]
  },
  {
   "cell_type": "markdown",
   "metadata": {},
   "source": [
    "## Cross-validation"
   ]
  },
  {
   "cell_type": "markdown",
   "metadata": {},
   "source": [
    "Creación de k-folds para cross-validation y tunning de parametros."
   ]
  },
  {
   "cell_type": "code",
   "execution_count": 103,
   "metadata": {},
   "outputs": [
    {
     "name": "stdout",
     "output_type": "stream",
     "text": [
      "350000\n"
     ]
    }
   ],
   "source": [
    "# set a seed for reproducibility\n",
    "np.random.seed(123)\n",
    "\n",
    "n_samples = Data_train.shape[0]\n",
    "n_B = 10\n",
    "print(n_samples)"
   ]
  },
  {
   "cell_type": "code",
   "execution_count": 104,
   "metadata": {},
   "outputs": [
    {
     "data": {
      "text/plain": [
       "[array([171019, 102195,  89844, ...,   4690,  53624, 310462]),\n",
       " array([ 25493, 340961, 235729, ..., 113814, 254940, 275959]),\n",
       " array([ 17356,  47142, 280753, ..., 215843,  92175, 252405]),\n",
       " array([182810,   1064, 202009, ..., 137333, 205232, 256836]),\n",
       " array([255518,   7849, 289096, ..., 210963,  64924,  65650]),\n",
       " array([156722, 200348, 169264, ..., 249600, 197775,  55558]),\n",
       " array([ 95576, 269254, 255375, ..., 200203, 262233, 307033]),\n",
       " array([ 84463, 115951,  34767, ..., 161027, 315553, 256996]),\n",
       " array([183504,   6808, 193542, ..., 154581, 140276, 125598]),\n",
       " array([339313, 195651, 263726, ...,  43687, 249328, 178922])]"
      ]
     },
     "execution_count": 104,
     "metadata": {},
     "output_type": "execute_result"
    }
   ],
   "source": [
    "# create ten bootstrap samples (will be used to select rows from the DataFrame)\n",
    "samples = [np.random.choice(a=n_samples, size=int(n_samples*0.1) , replace=False) for _ in range(1, n_B +1 )]\n",
    "samples"
   ]
  },
  {
   "cell_type": "markdown",
   "metadata": {},
   "source": [
    "### Características"
   ]
  },
  {
   "cell_type": "markdown",
   "metadata": {},
   "source": [
    "Elección del mejor estimador para random forest.Como primera iteración se busca calibrar el parametro n_estimators el cual se utiliza como el número de arboles que son utilizados en cada iteración con el fin de calibrar el modelo, con un mayor número de stimadores el modelo se vuelve mas robusto al poderse complementar facilmente abarcando muchas mas posibles sets de datos, logrando un mejor aprendizaje. Se procede a mover este valor de 10 en 10 hasta un maximo de 100 estimadores en el modelo."
   ]
  },
  {
   "cell_type": "code",
   "execution_count": 147,
   "metadata": {},
   "outputs": [
    {
     "data": {
      "text/plain": [
       "[3924.521540630205,\n",
       " 3940.1807001378165,\n",
       " 3950.2420322600215,\n",
       " 3918.9410720146116,\n",
       " 3938.3111176036427,\n",
       " 3919.7305392480866,\n",
       " 3962.782742197445,\n",
       " 3919.1293597754266,\n",
       " 3923.278200311982,\n",
       " 3908.7425482477097,\n",
       " 3858.3248522007652,\n",
       " 3864.832118800209,\n",
       " 3881.0825394753124,\n",
       " 3849.4274614353503,\n",
       " 3870.2665963408535,\n",
       " 3850.4407333411377,\n",
       " 3886.935696841622,\n",
       " 3850.597647775031,\n",
       " 3851.5325978483943,\n",
       " 3838.116452141276,\n",
       " 3838.8358072044252,\n",
       " 3841.3850325700305,\n",
       " 3853.83686682001,\n",
       " 3825.8946593655764,\n",
       " 3847.2175082792623,\n",
       " 3827.8138050912235,\n",
       " 3866.2533293526153,\n",
       " 3829.296102109187,\n",
       " 3828.7261157794383,\n",
       " 3815.989611725299,\n",
       " 3826.1181335652886,\n",
       " 3831.6403119022893,\n",
       " 3839.7702438988367,\n",
       " 3816.20623193372,\n",
       " 3833.4678101769346,\n",
       " 3818.264073120483,\n",
       " 3855.6432215266377,\n",
       " 3816.0676957951687,\n",
       " 3815.424457547991,\n",
       " 3803.211162572432,\n",
       " 3818.1210878820107,\n",
       " 3824.578432589633,\n",
       " 3831.804784445944,\n",
       " 3811.786185271668,\n",
       " 3824.5759638068985,\n",
       " 3811.9506359201896,\n",
       " 3847.9596223546105,\n",
       " 3810.0082510043103,\n",
       " 3811.1852563310176,\n",
       " 3793.8873921942322,\n",
       " 3813.176671108604,\n",
       " 3820.286432076555,\n",
       " 3827.7823711308383,\n",
       " 3806.843406445095,\n",
       " 3819.245747594005,\n",
       " 3807.31026609434,\n",
       " 3843.050145584246,\n",
       " 3805.371404619383,\n",
       " 3805.616373756315,\n",
       " 3787.854233476034,\n",
       " 3809.220417193545,\n",
       " 3817.133874926382,\n",
       " 3825.92943869244,\n",
       " 3802.2686812189836,\n",
       " 3815.2701059344936,\n",
       " 3803.710944593307,\n",
       " 3841.2385466349783,\n",
       " 3799.603814341291,\n",
       " 3802.897260624886,\n",
       " 3785.0262880368523,\n",
       " 3808.1120969436224,\n",
       " 3814.156767614113,\n",
       " 3825.0957536075975,\n",
       " 3799.292786521206,\n",
       " 3812.499781404831,\n",
       " 3800.5297839864447,\n",
       " 3838.516133358445,\n",
       " 3799.023797690664,\n",
       " 3799.944307326313,\n",
       " 3782.99198490747,\n",
       " 3805.9380319687157,\n",
       " 3812.2819598418605,\n",
       " 3823.5473741648834,\n",
       " 3798.8811691381475,\n",
       " 3810.928305079469,\n",
       " 3797.5604407697056,\n",
       " 3836.6591249678327,\n",
       " 3797.8403846357137,\n",
       " 3798.9738203275883,\n",
       " 3780.962977769638]"
      ]
     },
     "execution_count": 147,
     "metadata": {},
     "output_type": "execute_result"
    }
   ],
   "source": [
    "\n",
    "np.random.seed(123)\n",
    "\n",
    "n_samples = data2.shape[0]\n",
    "n_B = 10\n",
    "\n",
    "samples = [np.random.choice(a=n_samples, size=int(n_samples*0.3) , replace=False) for _ in range(1, n_B +1 )]\n",
    "\n",
    "estimator_range = range(10, 100, 10)\n",
    "\n",
    "mse_score =[] \n",
    "for estimator in estimator_range:\n",
    "    reg = RandomForestRegressor(n_estimators=estimator, random_state=1, n_jobs=-1)\n",
    "    for sample in range(10):\n",
    "        Data_train = data2.drop(samples[sample], axis=0)\n",
    "        Data_test = data2.iloc[samples[sample],:]\n",
    "        \n",
    "        X = Data_train.iloc[:,1:]\n",
    "        y = Data_train.iloc[:,0]\n",
    "        reg.fit( X , y)\n",
    "        y_pred = reg.predict(Data_test.iloc[:,1:])\n",
    "        mse_score.append(math.sqrt(mean_squared_error(Data_test.iloc[:,0].values,y_pred)))  \n",
    "mse_score"
   ]
  },
  {
   "cell_type": "code",
   "execution_count": 164,
   "metadata": {},
   "outputs": [],
   "source": [
    "mse_grp = np.array_split(mse_score, 9)"
   ]
  },
  {
   "cell_type": "code",
   "execution_count": 165,
   "metadata": {},
   "outputs": [
    {
     "data": {
      "text/plain": [
       "[3930.5859852426947,\n",
       " 3860.155669619996,\n",
       " 3837.524883829707,\n",
       " 3825.581334203978,\n",
       " 3818.5857611800516,\n",
       " 3813.6537051885416,\n",
       " 3810.229937219716,\n",
       " 3808.0163193360704,\n",
       " 3806.3573588663553]"
      ]
     },
     "execution_count": 165,
     "metadata": {},
     "output_type": "execute_result"
    }
   ],
   "source": [
    "rmse = []\n",
    "for t in range(len(mse_grp)):\n",
    "    rmse.append( np.mean(mse_grp[t]))\n",
    "rmse"
   ]
  },
  {
   "cell_type": "markdown",
   "metadata": {},
   "source": [
    "Como se puede observar, a medida que el número de estimadores aumenta, el error va disminuyendo, llegando a un nivel donde la disminución resulta marginal posterior a los 60 estimadores, donde la ganancia es baja comparativa con el costo operacional de incrementar el número de estimadores."
   ]
  },
  {
   "cell_type": "markdown",
   "metadata": {},
   "source": [
    "### MSE"
   ]
  },
  {
   "cell_type": "code",
   "execution_count": 166,
   "metadata": {},
   "outputs": [
    {
     "data": {
      "text/plain": [
       "Text(0, 0.5, 'RMSE')"
      ]
     },
     "execution_count": 166,
     "metadata": {},
     "output_type": "execute_result"
    },
    {
     "data": {
      "image/png": "[encoded data removed]",
      "text/plain": [
       "<Figure size 432x288 with 1 Axes>"
      ]
     },
     "metadata": {
      "needs_background": "light"
     },
     "output_type": "display_data"
    }
   ],
   "source": [
    "%matplotlib inline\n",
    "import matplotlib.pyplot as plt \n",
    "\n",
    "# plot estimator_range (x-axis) versus RMSE (y-axis)\n",
    "plt.plot(estimator_range, rmse)\n",
    "plt.xlabel('estimator_range')\n",
    "plt.ylabel('RMSE')"
   ]
  },
  {
   "cell_type": "markdown",
   "metadata": {},
   "source": [
    "En la grafica se observa de una mejor manera la convergencia del error luego de los 60 estimadores y de igual forma  el modelo empieza a presentar una mejora con respecto a la primera aproximación sin calibrar. Se procede a seguir con los demas parametros del random forest"
   ]
  },
  {
   "cell_type": "markdown",
   "metadata": {},
   "source": [
    "Elección del mejor número de features para random forest.\n",
    "En este caso se busca realziar la iteración del número de variables que se van a incluir como maximo en cada arbol del random forest. La aleatorización de la selección de variables busca la mejora del perfromance del modelo al incluir una mayor flexibilidad y buscando sinergias entre la variables que puede no darsen si las varaibles siemrpe son las mismas, de esta manera se busca en las iteraciones evaluar desde un número de variables de 1 hasta el maximo de varaibles disponibles que es 5."
   ]
  },
  {
   "cell_type": "code",
   "execution_count": 171,
   "metadata": {},
   "outputs": [
    {
     "data": {
      "text/plain": [
       "[4610.2672676061275,\n",
       " 4558.609861047434,\n",
       " 4612.6088497181,\n",
       " 4564.873864532434,\n",
       " 4642.213232676843,\n",
       " 4558.246032806965,\n",
       " 4633.496904029002,\n",
       " 4614.065304985241,\n",
       " 4582.736677673638,\n",
       " 4593.970390076965,\n",
       " 4013.215899409892,\n",
       " 3996.7942494654353,\n",
       " 4014.0160676941446,\n",
       " 3990.2766116693047,\n",
       " 3990.0924116213323,\n",
       " 3991.3931630232264,\n",
       " 4031.272826881117,\n",
       " 3984.719128541243,\n",
       " 3990.240369295998,\n",
       " 3983.791716465276,\n",
       " 3834.8555946844444,\n",
       " 3836.0689658116607,\n",
       " 3846.216705223981,\n",
       " 3825.1538304136384,\n",
       " 3834.849645074071,\n",
       " 3819.9099048637863,\n",
       " 3860.3586283109266,\n",
       " 3827.777731584771,\n",
       " 3823.461602789318,\n",
       " 3807.6021049208284,\n",
       " 3786.8626873778494,\n",
       " 3799.646407039974,\n",
       " 3810.978211821296,\n",
       " 3782.886286943136,\n",
       " 3794.128349933103,\n",
       " 3774.8524829509856,\n",
       " 3820.7726566236133,\n",
       " 3781.113661725109,\n",
       " 3784.7582682098696,\n",
       " 3767.1426918125167,\n",
       " 3803.999048291874,\n",
       " 3811.361917685537,\n",
       " 3822.267441191564,\n",
       " 3797.3450345054753,\n",
       " 3808.8085009566767,\n",
       " 3794.383689392031,\n",
       " 3835.3216444902714,\n",
       " 3795.2709838917144,\n",
       " 3798.648516296635,\n",
       " 3779.5640327065544]"
      ]
     },
     "execution_count": 171,
     "metadata": {},
     "output_type": "execute_result"
    }
   ],
   "source": [
    "feature_cols = data2.columns\n",
    "feature_cols = feature_cols[1:]\n",
    "feature_cols\n",
    "feature_range = range(1, len(feature_cols)+1)\n",
    "\n",
    "mse_score_f =[] \n",
    "for feature in feature_range:\n",
    "    reg = RandomForestRegressor(n_estimators=100, max_features=feature, random_state=1, n_jobs=-1)\n",
    "    for sample in range(10):\n",
    "        Data_train = data2.drop(samples[sample], axis=0)\n",
    "        Data_test = data2.iloc[samples[sample],:]\n",
    "        \n",
    "        X = Data_train.iloc[:,1:]\n",
    "        y = Data_train.iloc[:,0]\n",
    "        reg.fit( X , y)\n",
    "        y_pred = reg.predict(Data_test.iloc[:,1:])\n",
    "        mse_score_f.append(math.sqrt(mean_squared_error(Data_test.iloc[:,0].values,y_pred)))  \n",
    "mse_score_f"
   ]
  },
  {
   "cell_type": "code",
   "execution_count": null,
   "metadata": {},
   "outputs": [],
   "source": [
    "mse_score_f_grp = np.array_split(mse_score, 5)"
   ]
  },
  {
   "cell_type": "code",
   "execution_count": 173,
   "metadata": {},
   "outputs": [
    {
     "data": {
      "text/plain": [
       "[3900.987083257625,\n",
       " 3835.0202607157935,\n",
       " 3819.127390555768,\n",
       " 3810.7231337710673,\n",
       " 3806.74821763703]"
      ]
     },
     "execution_count": 173,
     "metadata": {},
     "output_type": "execute_result"
    }
   ],
   "source": [
    "rmse_f = []\n",
    "for t in range(len(mse_score_f_grp)):\n",
    "    rmse_f.append( np.mean(mse_score_f_grp[t]))\n",
    "rmse_f"
   ]
  },
  {
   "cell_type": "code",
   "execution_count": 174,
   "metadata": {},
   "outputs": [
    {
     "data": {
      "text/plain": [
       "Text(0, 0.5, 'RMSE')"
      ]
     },
     "execution_count": 174,
     "metadata": {},
     "output_type": "execute_result"
    },
    {
     "data": {
      "image/png": "[encoded data removed]",
      "text/plain": [
       "<Figure size 432x288 with 1 Axes>"
      ]
     },
     "metadata": {
      "needs_background": "light"
     },
     "output_type": "display_data"
    }
   ],
   "source": [
    "%matplotlib inline\n",
    "import matplotlib.pyplot as plt \n",
    "\n",
    "# plot estimator_range (x-axis) versus RMSE (y-axis)\n",
    "plt.plot(feature_range, rmse_f)\n",
    "plt.xlabel('feature_range')\n",
    "plt.ylabel('RMSE')"
   ]
  },
  {
   "cell_type": "markdown",
   "metadata": {},
   "source": [
    "numevamente se evidencia que el modelo presenta una mejora importante a medida que se ingresan mas variables en la aleatorización se consigue un mejor desempeño, el modelo repsenta un error de  3806 dolares como la media de la raiz de error medio en cross validation."
   ]
  },
  {
   "cell_type": "markdown",
   "metadata": {},
   "source": [
    "### Modelo"
   ]
  },
  {
   "cell_type": "code",
   "execution_count": 28,
   "metadata": {
    "scrolled": false
   },
   "outputs": [
    {
     "data": {
      "text/plain": [
       "RandomForestRegressor(bootstrap=True, criterion='mse', max_depth=None,\n",
       "                      max_features=4, max_leaf_nodes=None,\n",
       "                      min_impurity_decrease=0.0, min_impurity_split=None,\n",
       "                      min_samples_leaf=1, min_samples_split=2,\n",
       "                      min_weight_fraction_leaf=0.0, n_estimators=60, n_jobs=-1,\n",
       "                      oob_score=False, random_state=1, verbose=0,\n",
       "                      warm_start=False)"
      ]
     },
     "execution_count": 28,
     "metadata": {},
     "output_type": "execute_result"
    }
   ],
   "source": [
    "Data_train, Data_test = train_test_split(data2, test_size=0.3, random_state=5)\n",
    "\n",
    "X = Data_train.iloc[:,1:]\n",
    "y = Data_train.iloc[:,0]\n",
    "\n",
    "modelo_final = RandomForestRegressor(n_estimators=60, max_features=4, random_state=1, n_jobs=-1)\n",
    "modelo_final.fit( X , y)"
   ]
  },
  {
   "cell_type": "code",
   "execution_count": 29,
   "metadata": {},
   "outputs": [
    {
     "name": "stdout",
     "output_type": "stream",
     "text": [
      "RMSE:  3774.22857721688\n"
     ]
    }
   ],
   "source": [
    "X_test = Data_test.iloc[:,1:]\n",
    "y_test = Data_test.iloc[:,0]\n",
    "y_pred = modelo_final.predict(X_test)\n",
    "print(\"RMSE: \", math.sqrt(mean_squared_error(y_test, y_pred)))"
   ]
  },
  {
   "cell_type": "markdown",
   "metadata": {},
   "source": [
    "### Adaboost Model"
   ]
  },
  {
   "cell_type": "markdown",
   "metadata": {},
   "source": [
    "Se prueban  otros tipos de ensambles, el primero de estos es adaboost, buscando que de forma iterativa, a partir de modelos debiles se consiga un mejor MSE, se inicia tambien ajustando el maximo nùmero de estimadores del modelo."
   ]
  },
  {
   "cell_type": "code",
   "execution_count": 25,
   "metadata": {},
   "outputs": [
    {
     "data": {
      "text/plain": [
       "[8656.68203784545,\n",
       " 8658.35233322067,\n",
       " 8703.556277514237,\n",
       " 8676.378528087596,\n",
       " 8691.439024259105,\n",
       " 8676.612149388275,\n",
       " 8735.245409918469,\n",
       " 8672.368471832136,\n",
       " 8678.941285681576,\n",
       " 8733.110865208895,\n",
       " 8635.362569795154,\n",
       " 8610.027584222287,\n",
       " 8671.596598867216,\n",
       " 8662.998091929356,\n",
       " 8652.569658017715,\n",
       " 8634.657036172104,\n",
       " 8615.817268801089,\n",
       " 8655.87881340882,\n",
       " 8680.604352833858,\n",
       " 8577.895286765446,\n",
       " 8694.578549975002,\n",
       " 8703.133908262453,\n",
       " 8709.256592014337,\n",
       " 8714.891955004307,\n",
       " 8727.911940379865,\n",
       " 8704.097195465278,\n",
       " 8743.180504921045,\n",
       " 8730.746588653636,\n",
       " 8736.2280797039,\n",
       " 8676.780219720269,\n",
       " 8745.750172565853,\n",
       " 8777.851439258078,\n",
       " 8799.27174163396,\n",
       " 8792.382318064267,\n",
       " 8785.616158356659,\n",
       " 8776.895563828983,\n",
       " 8811.022417785969,\n",
       " 8769.422311669001,\n",
       " 8807.153057350693,\n",
       " 8764.089410162249,\n",
       " 8816.845555426235,\n",
       " 8843.396993159911,\n",
       " 8860.4353615671,\n",
       " 8845.525022681735,\n",
       " 8849.157163619537,\n",
       " 8842.55523959783,\n",
       " 8868.418639893458,\n",
       " 8833.405223610545,\n",
       " 8880.740808470784,\n",
       " 8828.068176783738,\n",
       " 8895.761693118477,\n",
       " 8929.804087897634,\n",
       " 8909.877253694469,\n",
       " 8914.769694680552,\n",
       " 8920.868522373103,\n",
       " 8907.669059885593,\n",
       " 8942.971148111163,\n",
       " 8907.545979141436,\n",
       " 8953.206888722641,\n",
       " 8916.656781789134,\n",
       " 8965.011319779545,\n",
       " 9018.841022741311,\n",
       " 9006.40762138724,\n",
       " 9007.316624159457,\n",
       " 8997.795630791674,\n",
       " 8975.859794602995,\n",
       " 9021.358813632693,\n",
       " 8998.074213102183,\n",
       " 9044.384305908196,\n",
       " 8984.442832523126,\n",
       " 9071.306561978616,\n",
       " 9107.431184287943,\n",
       " 9090.528172539409,\n",
       " 9090.654383919811,\n",
       " 9087.376622286052,\n",
       " 9054.321928515192,\n",
       " 9095.537270125978,\n",
       " 9071.364267149122,\n",
       " 9105.912654881908,\n",
       " 9079.543231249068,\n",
       " 9176.18033052833,\n",
       " 9195.111045565576,\n",
       " 9192.472465249877,\n",
       " 9200.462690837745,\n",
       " 9210.691348516979,\n",
       " 9149.551829483386,\n",
       " 9191.59381648196,\n",
       " 9168.147794266479,\n",
       " 9198.07700489528,\n",
       " 9187.959601112352]"
      ]
     },
     "execution_count": 25,
     "metadata": {},
     "output_type": "execute_result"
    }
   ],
   "source": [
    "\n",
    "np.random.seed(123)\n",
    "\n",
    "n_samples = data2.shape[0]\n",
    "n_B = 10\n",
    "\n",
    "samples = [np.random.choice(a=n_samples, size=int(n_samples*0.3) , replace=False) for _ in range(1, n_B +1 )]\n",
    "\n",
    "estimator_range = range(10, 100, 10)\n",
    "\n",
    "mse_score_ad =[] \n",
    "for estimator in estimator_range:\n",
    "    reg = AdaBoostRegressor(n_estimators=estimator, random_state=1 , learning_rate = 0.1)\n",
    "    for sample in range(10):\n",
    "        Data_train = data2.drop(samples[sample], axis=0)\n",
    "        Data_test = data2.iloc[samples[sample],:]\n",
    "        \n",
    "        X = Data_train.iloc[:,1:]\n",
    "        y = Data_train.iloc[:,0]\n",
    "        reg.fit( X , y)\n",
    "        y_pred = reg.predict(Data_test.iloc[:,1:])\n",
    "        mse_score_ad.append(math.sqrt(mean_squared_error(Data_test.iloc[:,0].values,y_pred)))  \n",
    "mse_score_ad"
   ]
  },
  {
   "cell_type": "markdown",
   "metadata": {},
   "source": [
    "Se acuerdo a los valores obtenidos, se observa como el uso de este ensamble empeora el rendimiento con respecto a la primera aproximación de randomforest. se descarta el uso de Adaboost."
   ]
  },
  {
   "cell_type": "markdown",
   "metadata": {},
   "source": [
    "## XGB Regression"
   ]
  },
  {
   "cell_type": "code",
   "execution_count": 56,
   "metadata": {},
   "outputs": [],
   "source": [
    "from sklearn.ensemble import GradientBoostingRegressor"
   ]
  },
  {
   "cell_type": "markdown",
   "metadata": {},
   "source": [
    "La segunda aproximación que se realiza es el uso de GradientBoosting, en el cual a partir de la estimación del eror con respecto a su media inicia a generar modelos y de forma iterativa buscando conseguir un mejor desempeño. El primer parametro que se utilizara para la calibración de este modelo es subsample, que indica el tamaño de las meustras en cada uno de los arboles que utiliza el metodo. Si este toma el valor de 1 es un GradientBoosting normal y si ya asume algun procentaje(valor inferior a 1) resulta en un estochastic gradient boosting, al tomar observaciones aleatorias de un tamaño de muestra menor."
   ]
  },
  {
   "cell_type": "code",
   "execution_count": 33,
   "metadata": {},
   "outputs": [
    {
     "data": {
      "text/plain": [
       "[6857.817862765964,\n",
       " 6915.8355539434315,\n",
       " 6976.6959911245995,\n",
       " 6905.795218166055,\n",
       " 6956.42452478991,\n",
       " 6855.596326201341,\n",
       " 6948.034204759359,\n",
       " 6927.526633381841,\n",
       " 6884.191740454849,\n",
       " 6861.478298335607,\n",
       " 6872.772644770086,\n",
       " 6911.728277721578,\n",
       " 7004.8590872280565,\n",
       " 6847.428123764043,\n",
       " 6932.171384791839,\n",
       " 6868.076762523712,\n",
       " 6934.467190913203,\n",
       " 6894.928469951788,\n",
       " 6953.427189488725,\n",
       " 6942.038806624353,\n",
       " 6910.991208585878,\n",
       " 6897.367651877772,\n",
       " 6936.562520446735,\n",
       " 6933.846188348065,\n",
       " 6936.481143979158,\n",
       " 6903.312689875135,\n",
       " 6973.555792040628,\n",
       " 6918.796787049868,\n",
       " 6934.380668048997,\n",
       " 6930.508328101624,\n",
       " 6899.477797962681,\n",
       " 6944.084955861042,\n",
       " 6925.301207676264,\n",
       " 6884.629924762533,\n",
       " 6932.242272249308,\n",
       " 6974.987017222421,\n",
       " 6937.031833377589,\n",
       " 6948.758473177347,\n",
       " 6891.785737689921,\n",
       " 6870.235153147548,\n",
       " 6903.486624120731,\n",
       " 6959.721557655773,\n",
       " 6945.345103018493,\n",
       " 6960.556038646998,\n",
       " 6963.516654915103,\n",
       " 6988.157110560762,\n",
       " 6918.794216909336,\n",
       " 6952.411997413697,\n",
       " 7006.057495133766,\n",
       " 6895.478647077483]"
      ]
     },
     "execution_count": 33,
     "metadata": {},
     "output_type": "execute_result"
    }
   ],
   "source": [
    "\n",
    "np.random.seed(123)\n",
    "\n",
    "n_samples = data2.shape[0]\n",
    "n_B = 10\n",
    "\n",
    "samples = [np.random.choice(a=n_samples, size=int(n_samples*0.3) , replace=False) for _ in range(1, n_B +1 )]\n",
    "\n",
    "estimator_range = range(10, 100, 10)\n",
    "sumsample_range = [  0.2, 0.4, 0.6 , 0.8 , 1]\n",
    "\n",
    "mse_score_xg =[] \n",
    "\n",
    "for estimator in sumsample_range:\n",
    "    reg = GradientBoostingRegressor(n_estimators=100, random_state=1 , learning_rate = 0.1,subsample = estimator)\n",
    "    for sample in range(10):\n",
    "        Data_train = data2.drop(samples[sample], axis=0)\n",
    "        Data_test = data2.iloc[samples[sample],:]\n",
    "        \n",
    "        X = Data_train.iloc[:,1:]\n",
    "        y = Data_train.iloc[:,0]\n",
    "        reg.fit( X , y)\n",
    "        y_pred = reg.predict(Data_test.iloc[:,1:])\n",
    "        mse_score_xg.append(math.sqrt(mean_squared_error(Data_test.iloc[:,0].values,y_pred)))  \n",
    "mse_score_xg"
   ]
  },
  {
   "cell_type": "code",
   "execution_count": 51,
   "metadata": {},
   "outputs": [
    {
     "data": {
      "text/plain": [
       "0.2    6908.939635\n",
       "0.4    6916.189794\n",
       "0.6    6927.580298\n",
       "0.8    6920.853437\n",
       "1.0    6949.352545\n",
       "dtype: float64"
      ]
     },
     "execution_count": 51,
     "metadata": {},
     "output_type": "execute_result"
    }
   ],
   "source": [
    "errores_subsample = df = pd.DataFrame(index=range(0,10),columns=sumsample_range, dtype='float')\n",
    "errores_subsample.iloc[:,0] = mse_score_xg[0:10]\n",
    "errores_subsample.iloc[:,1] = mse_score_xg[10:20]\n",
    "errores_subsample.iloc[:,2] = mse_score_xg[20:30]\n",
    "errores_subsample.iloc[:,3] = mse_score_xg[30:40]\n",
    "errores_subsample.iloc[:,4] = mse_score_xg[40:50]\n",
    "\n",
    "errores_subsample.mean()"
   ]
  },
  {
   "cell_type": "code",
   "execution_count": 52,
   "metadata": {},
   "outputs": [
    {
     "data": {
      "text/html": [
       "<div>\n",
       "<style scoped>\n",
       "    .dataframe tbody tr th:only-of-type {\n",
       "        vertical-align: middle;\n",
       "    }\n",
       "\n",
       "    .dataframe tbody tr th {\n",
       "        vertical-align: top;\n",
       "    }\n",
       "\n",
       "    .dataframe thead th {\n",
       "        text-align: right;\n",
       "    }\n",
       "</style>\n",
       "<table border=\"1\" class=\"dataframe\">\n",
       "  <thead>\n",
       "    <tr style=\"text-align: right;\">\n",
       "      <th></th>\n",
       "      <th>0.2</th>\n",
       "      <th>0.4</th>\n",
       "      <th>0.6</th>\n",
       "      <th>0.8</th>\n",
       "      <th>1.0</th>\n",
       "    </tr>\n",
       "  </thead>\n",
       "  <tbody>\n",
       "    <tr>\n",
       "      <td>0</td>\n",
       "      <td>6857.817863</td>\n",
       "      <td>6872.772645</td>\n",
       "      <td>6910.991209</td>\n",
       "      <td>6899.477798</td>\n",
       "      <td>6903.486624</td>\n",
       "    </tr>\n",
       "    <tr>\n",
       "      <td>1</td>\n",
       "      <td>6915.835554</td>\n",
       "      <td>6911.728278</td>\n",
       "      <td>6897.367652</td>\n",
       "      <td>6944.084956</td>\n",
       "      <td>6959.721558</td>\n",
       "    </tr>\n",
       "    <tr>\n",
       "      <td>2</td>\n",
       "      <td>6976.695991</td>\n",
       "      <td>7004.859087</td>\n",
       "      <td>6936.562520</td>\n",
       "      <td>6925.301208</td>\n",
       "      <td>6945.345103</td>\n",
       "    </tr>\n",
       "    <tr>\n",
       "      <td>3</td>\n",
       "      <td>6905.795218</td>\n",
       "      <td>6847.428124</td>\n",
       "      <td>6933.846188</td>\n",
       "      <td>6884.629925</td>\n",
       "      <td>6960.556039</td>\n",
       "    </tr>\n",
       "    <tr>\n",
       "      <td>4</td>\n",
       "      <td>6956.424525</td>\n",
       "      <td>6932.171385</td>\n",
       "      <td>6936.481144</td>\n",
       "      <td>6932.242272</td>\n",
       "      <td>6963.516655</td>\n",
       "    </tr>\n",
       "    <tr>\n",
       "      <td>5</td>\n",
       "      <td>6855.596326</td>\n",
       "      <td>6868.076763</td>\n",
       "      <td>6903.312690</td>\n",
       "      <td>6974.987017</td>\n",
       "      <td>6988.157111</td>\n",
       "    </tr>\n",
       "    <tr>\n",
       "      <td>6</td>\n",
       "      <td>6948.034205</td>\n",
       "      <td>6934.467191</td>\n",
       "      <td>6973.555792</td>\n",
       "      <td>6937.031833</td>\n",
       "      <td>6918.794217</td>\n",
       "    </tr>\n",
       "    <tr>\n",
       "      <td>7</td>\n",
       "      <td>6927.526633</td>\n",
       "      <td>6894.928470</td>\n",
       "      <td>6918.796787</td>\n",
       "      <td>6948.758473</td>\n",
       "      <td>6952.411997</td>\n",
       "    </tr>\n",
       "    <tr>\n",
       "      <td>8</td>\n",
       "      <td>6884.191740</td>\n",
       "      <td>6953.427189</td>\n",
       "      <td>6934.380668</td>\n",
       "      <td>6891.785738</td>\n",
       "      <td>7006.057495</td>\n",
       "    </tr>\n",
       "    <tr>\n",
       "      <td>9</td>\n",
       "      <td>6861.478298</td>\n",
       "      <td>6942.038807</td>\n",
       "      <td>6930.508328</td>\n",
       "      <td>6870.235153</td>\n",
       "      <td>6895.478647</td>\n",
       "    </tr>\n",
       "  </tbody>\n",
       "</table>\n",
       "</div>"
      ],
      "text/plain": [
       "           0.2          0.4          0.6          0.8          1.0\n",
       "0  6857.817863  6872.772645  6910.991209  6899.477798  6903.486624\n",
       "1  6915.835554  6911.728278  6897.367652  6944.084956  6959.721558\n",
       "2  6976.695991  7004.859087  6936.562520  6925.301208  6945.345103\n",
       "3  6905.795218  6847.428124  6933.846188  6884.629925  6960.556039\n",
       "4  6956.424525  6932.171385  6936.481144  6932.242272  6963.516655\n",
       "5  6855.596326  6868.076763  6903.312690  6974.987017  6988.157111\n",
       "6  6948.034205  6934.467191  6973.555792  6937.031833  6918.794217\n",
       "7  6927.526633  6894.928470  6918.796787  6948.758473  6952.411997\n",
       "8  6884.191740  6953.427189  6934.380668  6891.785738  7006.057495\n",
       "9  6861.478298  6942.038807  6930.508328  6870.235153  6895.478647"
      ]
     },
     "execution_count": 52,
     "metadata": {},
     "output_type": "execute_result"
    }
   ],
   "source": [
    "errores_subsample"
   ]
  },
  {
   "cell_type": "markdown",
   "metadata": {},
   "source": [
    "Se observa que el GradientBoosting presenta un mejor desempeño que el adaboost, sin embargo aun no se aproxima a los niveles iniciales de erorro que se observaron en la primera parte, se busca la calibración de otro parametro buscando una disminución del MSE"
   ]
  },
  {
   "cell_type": "markdown",
   "metadata": {},
   "source": [
    "El segundo parametro ajustado fue la tasa de aprendizaje del modelo, esta hacer referencia a que tan grande es el paso en cada iteración lo que se traduce en las ponderaciones de cada uno de los modelos que respectivamente van surgiendo, donde cada uno de ellos ha aprendido respectivamnte de los errores previos. Es necesario entender la relación inversa entre la tasa de aprendizaje y el número de estimadores, en donde al tener tasas mas altas, el paso que se da hacia el gradiente es mas grande, donde se requeriran menos estimadores, pero el modelo puede no ser tan exacto, caso contrario ocurre cuando se tiene una tasa baja, en donde el ensamble requerira muchos arboles y podria alcanzar un mejor de sempeño rapidamente, sin embargo computacionalmente podria resultar mas costoso. Se varian algunos de los valores, buscando una mejora en el desempeño del error con cross validation."
   ]
  },
  {
   "cell_type": "code",
   "execution_count": 53,
   "metadata": {},
   "outputs": [
    {
     "data": {
      "text/plain": [
       "[8864.955224006457,\n",
       " 8867.387330608766,\n",
       " 8900.370122615197,\n",
       " 8895.590785393833,\n",
       " 8909.320298939998,\n",
       " 8889.467161816738,\n",
       " 8909.070114384915,\n",
       " 8907.457953839164,\n",
       " 8894.294190492707,\n",
       " 8857.388613435933,\n",
       " 7619.7524180166,\n",
       " 7626.241250109183,\n",
       " 7630.408740991581,\n",
       " 7629.950435102464,\n",
       " 7670.611370460549,\n",
       " 7633.724881752532,\n",
       " 7664.98957322811,\n",
       " 7671.288668196521,\n",
       " 7670.174108832824,\n",
       " 7613.057294974824,\n",
       " 7149.162868092516,\n",
       " 7209.18620549372,\n",
       " 7198.5756276032225,\n",
       " 7225.044199816292,\n",
       " 7202.797403844913,\n",
       " 7226.7447526926735,\n",
       " 7233.06867997073,\n",
       " 7244.20575632509,\n",
       " 7175.458851866279,\n",
       " 7201.824529250497,\n",
       " 6857.817862765964,\n",
       " 6915.8355539434315,\n",
       " 6976.6959911245995,\n",
       " 6905.795218166055,\n",
       " 6956.42452478991,\n",
       " 6855.596326201341,\n",
       " 6948.034204759359,\n",
       " 6927.526633381841,\n",
       " 6884.191740454849,\n",
       " 6861.478298335607,\n",
       " 4916.73275655118,\n",
       " 4850.223578964766,\n",
       " 4967.428802626138,\n",
       " 4775.772517764228,\n",
       " 4891.3965105145735,\n",
       " 4871.161320439639,\n",
       " 4887.766681787607,\n",
       " 4848.360214604011,\n",
       " 4923.652467669983,\n",
       " 4844.7572727905535,\n",
       " 4791.898471190438,\n",
       " 6781.7403992262525,\n",
       " 5083.4371148984565,\n",
       " 4714.813570412619,\n",
       " 4981.71294713779,\n",
       " 4753.728887669671,\n",
       " 4680.932663567836,\n",
       " 4936.341134894217,\n",
       " 4748.249399770252,\n",
       " 4776.342411236207]"
      ]
     },
     "execution_count": 53,
     "metadata": {},
     "output_type": "execute_result"
    }
   ],
   "source": [
    "\n",
    "np.random.seed(123)\n",
    "\n",
    "n_samples = data2.shape[0]\n",
    "n_B = 10\n",
    "\n",
    "samples = [np.random.choice(a=n_samples, size=int(n_samples*0.3) , replace=False) for _ in range(1, n_B +1 )]\n",
    "\n",
    "estimator_range = range(10, 100, 10)\n",
    "learning = [  0.01, 0.05, 0.075 , 0.1 ,  0.5 , 1]\n",
    "\n",
    "mse_score_xg2 =[] \n",
    "\n",
    "for estimator in learning:\n",
    "    reg = GradientBoostingRegressor(random_state=1 , learning_rate = estimator ,subsample = 0.2)\n",
    "    for sample in range(10):\n",
    "        Data_train = data2.drop(samples[sample], axis=0)\n",
    "        Data_test = data2.iloc[samples[sample],:]\n",
    "        \n",
    "        X = Data_train.iloc[:,1:]\n",
    "        y = Data_train.iloc[:,0]\n",
    "        reg.fit( X , y)\n",
    "        y_pred = reg.predict(Data_test.iloc[:,1:])\n",
    "        mse_score_xg2.append(math.sqrt(mean_squared_error(Data_test.iloc[:,0].values,y_pred)))  \n",
    "mse_score_xg2"
   ]
  },
  {
   "cell_type": "code",
   "execution_count": 54,
   "metadata": {},
   "outputs": [
    {
     "data": {
      "text/plain": [
       "0.010    8889.530180\n",
       "0.050    7643.019874\n",
       "0.075    7206.606887\n",
       "0.100    6908.939635\n",
       "0.500    4877.725212\n",
       "1.000    4877.725212\n",
       "dtype: float64"
      ]
     },
     "execution_count": 54,
     "metadata": {},
     "output_type": "execute_result"
    }
   ],
   "source": [
    "errores_subsample2 = df = pd.DataFrame(index=range(0,10),columns=learning, dtype='float')\n",
    "errores_subsample2.iloc[:,0] = mse_score_xg2[0:10]\n",
    "errores_subsample2.iloc[:,1] = mse_score_xg2[10:20]\n",
    "errores_subsample2.iloc[:,2] = mse_score_xg2[20:30]\n",
    "errores_subsample2.iloc[:,3] = mse_score_xg2[30:40]\n",
    "errores_subsample2.iloc[:,4] = mse_score_xg2[40:50]\n",
    "errores_subsample2.iloc[:,5] = mse_score_xg2[40:50]\n",
    "\n",
    "errores_subsample2.mean()"
   ]
  },
  {
   "cell_type": "markdown",
   "metadata": {},
   "source": [
    "En este caso el mejor modelo da un error de 4877 usd el cual es mucho mas alto de lo estimado por el modelo inicial de random forest, por lo que tambien es descartado."
   ]
  },
  {
   "cell_type": "markdown",
   "metadata": {},
   "source": [
    "## **Modelo optimo con mejor desempeño**\n",
    "Posterior a la evaluación de diferentes modelos se evidencio que el uso de random forest fue el que tuvo un mejor desempeño con la raiz media del error cuadratico medio de 3780 usd en el cross validation, mientras que los demas ensambles leseguian con desempeños en promedio de 4500 usd para el caso de de GradientBoosting y con un peor desmepeño para adaboost. De esta manera como modelo final para el uso en producción se establece un modelo de random forest con 100 estimadores y un maximo de variables de 5. "
   ]
  },
  {
   "cell_type": "markdown",
   "metadata": {},
   "source": [
    "# Exercise P2.2 (50%)\n",
    "\n",
    "Create an API of the model.\n",
    "\n",
    "Example:\n",
    "![](https://raw.githubusercontent.com/albahnsen/PracticalMachineLearningClass/master/notebooks/images/img015.PNG)\n",
    "\n",
    "#### Evaluation:\n",
    "- 40% - API hosted on a cloud service\n",
    "- 10% - Show screenshots of the model doing the predictions on the local machine\n"
   ]
  },
  {
   "cell_type": "markdown",
   "metadata": {},
   "source": [
    "## **Save Model**"
   ]
  },
  {
   "cell_type": "markdown",
   "metadata": {},
   "source": [
    "Luego del cargue del modelo definitivo, que habia presentado la mejor medida de desempeño su peso era de 581 MB, los cuales excedian las capacidades computacionales disponibles de forma gratuita en AWS. Debido a este motivo se busco configurar un modelo de menor tamaño que puede ser articulado con el microservicio sin sacrificar de manera significativa la calidad del pronostico.\n",
    "\n",
    "Se propuso el uso de un randomforest al ser el mejor modelo que se habia obtenido, posterior a esto se entreno con un menor número de observaciones en el entrenamiento, inicialmente se habian utilizado 350.000 datos para su ajuste, en el modelo pequeño se redujo a 15.000 observaciones con el fin de que se redujera el tamaño.Adicionalente se modificaron el número de estimadores a 60 y max features a 4 lo cual no representaba una disiminución sustancial en el desmepeño pero si una mejora importante a nivel de espacio. El archivo paso a pesar 34 mb con un error de 4446 usd. "
   ]
  },
  {
   "cell_type": "code",
   "execution_count": 17,
   "metadata": {
    "scrolled": false
   },
   "outputs": [
    {
     "name": "stderr",
     "output_type": "stream",
     "text": [
      "C:\\Users\\IVAN\\Anaconda3\\lib\\site-packages\\sklearn\\externals\\joblib\\__init__.py:15: DeprecationWarning: sklearn.externals.joblib is deprecated in 0.21 and will be removed in 0.23. Please import this functionality directly from joblib, which can be installed with: pip install joblib. If this warning is raised when loading pickled models, you may need to re-serialize those models with scikit-learn 0.21+.\n",
      "  warnings.warn(msg, category=DeprecationWarning)\n"
     ]
    }
   ],
   "source": [
    "from sklearn.externals import joblib"
   ]
  },
  {
   "cell_type": "code",
   "execution_count": 30,
   "metadata": {},
   "outputs": [
    {
     "data": {
      "text/plain": [
       "['model_deployment/modelo.pkl']"
      ]
     },
     "execution_count": 30,
     "metadata": {},
     "output_type": "execute_result"
    }
   ],
   "source": [
    "joblib.dump(modelo_final, 'model_deployment/modelo.pkl', compress=3)"
   ]
  },
  {
   "cell_type": "markdown",
   "metadata": {},
   "source": [
    "## Consumir el Modelo por Local Host\n",
    "Creación del archivo python que transforma las variables ingresadas por el usuario y consume el modelo"
   ]
  },
  {
   "cell_type": "code",
   "execution_count": 31,
   "metadata": {},
   "outputs": [],
   "source": [
    "def predict_price(year, Mileage, est, marc, modeloc):\n",
    "\n",
    "    clf = joblib.load( 'model_deployment/modelo.pkl') \n",
    "\n",
    "    estado =  pd.DataFrame(pd.read_csv(\"estado.csv\") )\n",
    "    marca =   pd.DataFrame( pd.read_csv(\"marca.csv\"))\n",
    "    modelo = pd.DataFrame( pd.read_csv(\"modelo.csv\") )\n",
    "    \n",
    "    \n",
    "    \n",
    "    carro = np.array([[year], [Mileage] , [str(\" \" + est)] ,[marc] , [modeloc] ])   \n",
    "    carro = pd.DataFrame({'Year': carro[0, :], 'Mileage': carro[1, :], 'State': carro[2, :]  , 'Make': carro[3, :], \n",
    "                            'Model': carro[4, :] })\n",
    "\n",
    "    carro = carro.merge(estado, on= \"State\", how='left')\n",
    "    carro = carro.merge(marca, on= \"Make\", how='left')\n",
    "    carro = carro.merge(Modelo, on= \"Model\", how='left')\n",
    "    carro  = carro.loc[:, [\"Year\" , \"Mileage\" , \"State1\" , \"Make1\" ,\"Model1\"]]\n",
    "\n",
    "    carro.State1 = pd.Categorical(carro.State1)\n",
    "    carro.Make1 = pd.Categorical(carro.Make1)\n",
    "    carro.Model1 = pd.Categorical(carro.Model1)\n",
    "\n",
    "\n",
    "    \n",
    "    # Make prediction\n",
    "    p1 = clf.predict(carro)\n",
    "\n",
    "    return   p1"
   ]
  },
  {
   "cell_type": "code",
   "execution_count": 32,
   "metadata": {},
   "outputs": [],
   "source": [
    "from model_deployment.funcion6 import predict_price"
   ]
  },
  {
   "cell_type": "markdown",
   "metadata": {},
   "source": [
    "Resultado de la prueba de la función de pronostico de precio desde el archivo de python"
   ]
  },
  {
   "cell_type": "code",
   "execution_count": 33,
   "metadata": {},
   "outputs": [
    {
     "data": {
      "text/plain": [
       "array([21983.18333333])"
      ]
     },
     "execution_count": 33,
     "metadata": {},
     "output_type": "execute_result"
    }
   ],
   "source": [
    "predict_price(2014, 35000,  \"KY\", \"Chevrolet\", \"CamaroCoupe\")"
   ]
  },
  {
   "cell_type": "markdown",
   "metadata": {},
   "source": [
    "Creación de la API para flask"
   ]
  },
  {
   "cell_type": "code",
   "execution_count": 34,
   "metadata": {},
   "outputs": [],
   "source": [
    "from flask import Flask\n",
    "from flask_restx import Api, Resource, fields\n",
    "import joblib"
   ]
  },
  {
   "cell_type": "code",
   "execution_count": 35,
   "metadata": {},
   "outputs": [],
   "source": [
    "app = Flask(__name__)\n",
    "\n",
    "api = Api(\n",
    "    app, \n",
    "    version='1.0', \n",
    "    title='Pronostico precio de vehiculos',\n",
    "    description='Pronostica el precio de un vehiculo')\n",
    "\n",
    "ns = api.namespace('Pronostico', \n",
    "description='El precio de carros en $us')\n",
    "parser = api.parser()\n",
    "parser.add_argument('Año', type=int, required=True, help='Año del vehiculo', location='args')\n",
    "parser.add_argument('Kilometraje', type=int, required=True, help='número de millas del vehiculo', location='args')\n",
    "parser.add_argument('Estado', type=str, required=True, help='Estado donde esta el vehiculo', location='args')\n",
    "parser.add_argument('Marca', type=str, required=True, help='Marca del vehiculo', location='args')\n",
    "parser.add_argument('Modelo', type=str, required=True, help='número de millas del vehiculo', location='args')\n",
    "        \n",
    "resource_fields = api.model('Resource', {\n",
    "        'result': fields.String,\n",
    "})"
   ]
  },
  {
   "cell_type": "code",
   "execution_count": 36,
   "metadata": {},
   "outputs": [],
   "source": [
    "@ns.route('/')\n",
    "class carroapi(Resource):\n",
    "\n",
    "    @api.doc(parser=parser)\n",
    "    @api.marshal_with(resource_fields)\n",
    "    def get(self):\n",
    "        args = parser.parse_args()\n",
    "        Año = args['Año' ]\n",
    "        Kilometraje = args['Kilometraje'] \n",
    "        Estado = args['Estado'] \n",
    "        Marca = args['Marca'] \n",
    "        Modelo = args['Modelo']\n",
    "        #urls = urls.split('%3B')\n",
    "        #print(urls)\n",
    "        \n",
    "        return {\n",
    "         \"result\": predict_price(Año , Kilometraje, Estado, Marca, Modelo)\n",
    "        }, 200"
   ]
  },
  {
   "cell_type": "code",
   "execution_count": 37,
   "metadata": {
    "scrolled": true
   },
   "outputs": [
    {
     "name": "stdout",
     "output_type": "stream",
     "text": [
      " * Serving Flask app \"__main__\" (lazy loading)\n",
      " * Environment: production\n",
      "   WARNING: This is a development server. Do not use it in a production deployment.\n",
      "   Use a production WSGI server instead.\n",
      " * Debug mode: on\n"
     ]
    },
    {
     "name": "stderr",
     "output_type": "stream",
     "text": [
      " * Running on http://0.0.0.0:5000/ (Press CTRL+C to quit)\n",
      "127.0.0.1 - - [29/Jun/2020 11:39:53] \"GET / HTTP/1.1\" 200 -\n",
      "127.0.0.1 - - [29/Jun/2020 11:40:03] \"GET /swaggerui/droid-sans.css HTTP/1.1\" 304 -\n",
      "127.0.0.1 - - [29/Jun/2020 11:40:03] \"GET /swaggerui/swagger-ui-bundle.js HTTP/1.1\" 304 -\n",
      "127.0.0.1 - - [29/Jun/2020 11:40:03] \"GET /swaggerui/swagger-ui.css HTTP/1.1\" 304 -\n",
      "127.0.0.1 - - [29/Jun/2020 11:40:03] \"GET /swaggerui/swagger-ui-standalone-preset.js HTTP/1.1\" 304 -\n",
      "127.0.0.1 - - [29/Jun/2020 11:40:04] \"GET /swagger.json HTTP/1.1\" 200 -\n",
      "C:\\Users\\IVAN\\Anaconda3\\lib\\site-packages\\sklearn\\ensemble\\base.py:154: UserWarning: Loky-backed parallel loops cannot be nested below threads, setting n_jobs=1\n",
      "  n_jobs = min(effective_n_jobs(n_jobs), n_estimators)\n",
      "127.0.0.1 - - [29/Jun/2020 11:41:10] \"GET /Pronostico/?Año=2006&Kilometraje=15000&Estado=KY&Marca=Nissan&Modelo=MuranoAWD HTTP/1.1\" 200 -\n"
     ]
    }
   ],
   "source": [
    "app.run(debug=True, use_reloader=False, host='0.0.0.0', port=5000)"
   ]
  },
  {
   "cell_type": "markdown",
   "metadata": {},
   "source": [
    "En el siguiente link se encuentra alojado el microservicio de pronstico de precio de vehiculos: \n",
    "http://ec2-3-135-221-23.us-east-2.compute.amazonaws.com:5000/"
   ]
  },
  {
   "cell_type": "markdown",
   "metadata": {},
   "source": [
    "En el siguiente link encontraran las capturas de pantalla de las fotografias de la api en funcionamiento en el localhost https://github.com/Alexher90/Grupo-10-Ejercicios-E7-y-E8---Mod_Av_An_Datos/blob/master/Fotos/Pic1.png"
   ]
  }
 ],
 "metadata": {
  "kernelspec": {
   "display_name": "Python 3",
   "language": "python",
   "name": "python3"
  },
  "language_info": {
   "codemirror_mode": {
    "name": "ipython",
    "version": 3
   },
   "file_extension": ".py",
   "mimetype": "text/x-python",
   "name": "python",
   "nbconvert_exporter": "python",
   "pygments_lexer": "ipython3",
   "version": "3.7.4"
  }
 },
 "nbformat": 4,
 "nbformat_minor": 4
}
