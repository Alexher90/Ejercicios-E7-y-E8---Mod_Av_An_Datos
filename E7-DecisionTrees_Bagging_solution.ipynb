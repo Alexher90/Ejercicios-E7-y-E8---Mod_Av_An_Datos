{
 "cells": [
  {
   "cell_type": "markdown",
   "metadata": {},
   "source": [
    "# Exercise 7\n",
    "\n",
    "# Part 1 - DT\n",
    "\n",
    "## Capital Bikeshare data"
   ]
  },
  {
   "cell_type": "markdown",
   "metadata": {},
   "source": [
    "## Introduction\n",
    "\n",
    "- Capital Bikeshare dataset from Kaggle: [data](https://github.com/justmarkham/DAT8/blob/master/data/bikeshare.csv), [data dictionary](https://www.kaggle.com/c/bike-sharing-demand/data)\n",
    "- Each observation represents the bikeshare rentals initiated during a given hour of a given day"
   ]
  },
  {
   "cell_type": "code",
   "execution_count": 288,
   "metadata": {},
   "outputs": [],
   "source": [
    "%matplotlib inline\n",
    "import pandas as pd\n",
    "import numpy as np\n",
    "import datetime\n",
    "from sklearn.model_selection import cross_val_score\n",
    "from sklearn.linear_model import LinearRegression\n",
    "from sklearn.tree import DecisionTreeRegressor, export_graphviz"
   ]
  },
  {
   "cell_type": "code",
   "execution_count": 289,
   "metadata": {},
   "outputs": [],
   "source": [
    "# read the data and set \"datetime\" as the index\n",
    "url = 'bikeshare.csv'\n",
    "bikes = pd.read_csv(url, index_col='datetime', parse_dates=True)"
   ]
  },
  {
   "cell_type": "code",
   "execution_count": 290,
   "metadata": {},
   "outputs": [],
   "source": [
    "# \"count\" is a method, so it's best to rename that column\n",
    "bikes.rename(columns={'count':'total'}, inplace=True)"
   ]
  },
  {
   "cell_type": "code",
   "execution_count": 291,
   "metadata": {},
   "outputs": [],
   "source": [
    "# create \"hour\" as its own feature\n",
    "bikes['hour'] = bikes.index.hour"
   ]
  },
  {
   "cell_type": "code",
   "execution_count": 292,
   "metadata": {},
   "outputs": [
    {
     "data": {
      "text/html": [
       "<div>\n",
       "<style scoped>\n",
       "    .dataframe tbody tr th:only-of-type {\n",
       "        vertical-align: middle;\n",
       "    }\n",
       "\n",
       "    .dataframe tbody tr th {\n",
       "        vertical-align: top;\n",
       "    }\n",
       "\n",
       "    .dataframe thead th {\n",
       "        text-align: right;\n",
       "    }\n",
       "</style>\n",
       "<table border=\"1\" class=\"dataframe\">\n",
       "  <thead>\n",
       "    <tr style=\"text-align: right;\">\n",
       "      <th></th>\n",
       "      <th>season</th>\n",
       "      <th>holiday</th>\n",
       "      <th>workingday</th>\n",
       "      <th>weather</th>\n",
       "      <th>temp</th>\n",
       "      <th>atemp</th>\n",
       "      <th>humidity</th>\n",
       "      <th>windspeed</th>\n",
       "      <th>casual</th>\n",
       "      <th>registered</th>\n",
       "      <th>total</th>\n",
       "      <th>hour</th>\n",
       "    </tr>\n",
       "    <tr>\n",
       "      <th>datetime</th>\n",
       "      <th></th>\n",
       "      <th></th>\n",
       "      <th></th>\n",
       "      <th></th>\n",
       "      <th></th>\n",
       "      <th></th>\n",
       "      <th></th>\n",
       "      <th></th>\n",
       "      <th></th>\n",
       "      <th></th>\n",
       "      <th></th>\n",
       "      <th></th>\n",
       "    </tr>\n",
       "  </thead>\n",
       "  <tbody>\n",
       "    <tr>\n",
       "      <th>2011-01-01 00:00:00</th>\n",
       "      <td>1</td>\n",
       "      <td>0</td>\n",
       "      <td>0</td>\n",
       "      <td>1</td>\n",
       "      <td>9.84</td>\n",
       "      <td>14.395</td>\n",
       "      <td>81</td>\n",
       "      <td>0.0</td>\n",
       "      <td>3</td>\n",
       "      <td>13</td>\n",
       "      <td>16</td>\n",
       "      <td>0</td>\n",
       "    </tr>\n",
       "    <tr>\n",
       "      <th>2011-01-01 01:00:00</th>\n",
       "      <td>1</td>\n",
       "      <td>0</td>\n",
       "      <td>0</td>\n",
       "      <td>1</td>\n",
       "      <td>9.02</td>\n",
       "      <td>13.635</td>\n",
       "      <td>80</td>\n",
       "      <td>0.0</td>\n",
       "      <td>8</td>\n",
       "      <td>32</td>\n",
       "      <td>40</td>\n",
       "      <td>1</td>\n",
       "    </tr>\n",
       "    <tr>\n",
       "      <th>2011-01-01 02:00:00</th>\n",
       "      <td>1</td>\n",
       "      <td>0</td>\n",
       "      <td>0</td>\n",
       "      <td>1</td>\n",
       "      <td>9.02</td>\n",
       "      <td>13.635</td>\n",
       "      <td>80</td>\n",
       "      <td>0.0</td>\n",
       "      <td>5</td>\n",
       "      <td>27</td>\n",
       "      <td>32</td>\n",
       "      <td>2</td>\n",
       "    </tr>\n",
       "    <tr>\n",
       "      <th>2011-01-01 03:00:00</th>\n",
       "      <td>1</td>\n",
       "      <td>0</td>\n",
       "      <td>0</td>\n",
       "      <td>1</td>\n",
       "      <td>9.84</td>\n",
       "      <td>14.395</td>\n",
       "      <td>75</td>\n",
       "      <td>0.0</td>\n",
       "      <td>3</td>\n",
       "      <td>10</td>\n",
       "      <td>13</td>\n",
       "      <td>3</td>\n",
       "    </tr>\n",
       "    <tr>\n",
       "      <th>2011-01-01 04:00:00</th>\n",
       "      <td>1</td>\n",
       "      <td>0</td>\n",
       "      <td>0</td>\n",
       "      <td>1</td>\n",
       "      <td>9.84</td>\n",
       "      <td>14.395</td>\n",
       "      <td>75</td>\n",
       "      <td>0.0</td>\n",
       "      <td>0</td>\n",
       "      <td>1</td>\n",
       "      <td>1</td>\n",
       "      <td>4</td>\n",
       "    </tr>\n",
       "  </tbody>\n",
       "</table>\n",
       "</div>"
      ],
      "text/plain": [
       "                     season  holiday  workingday  weather  temp   atemp  \\\n",
       "datetime                                                                  \n",
       "2011-01-01 00:00:00       1        0           0        1  9.84  14.395   \n",
       "2011-01-01 01:00:00       1        0           0        1  9.02  13.635   \n",
       "2011-01-01 02:00:00       1        0           0        1  9.02  13.635   \n",
       "2011-01-01 03:00:00       1        0           0        1  9.84  14.395   \n",
       "2011-01-01 04:00:00       1        0           0        1  9.84  14.395   \n",
       "\n",
       "                     humidity  windspeed  casual  registered  total  hour  \n",
       "datetime                                                                   \n",
       "2011-01-01 00:00:00        81        0.0       3          13     16     0  \n",
       "2011-01-01 01:00:00        80        0.0       8          32     40     1  \n",
       "2011-01-01 02:00:00        80        0.0       5          27     32     2  \n",
       "2011-01-01 03:00:00        75        0.0       3          10     13     3  \n",
       "2011-01-01 04:00:00        75        0.0       0           1      1     4  "
      ]
     },
     "execution_count": 292,
     "metadata": {},
     "output_type": "execute_result"
    }
   ],
   "source": [
    "bikes.head()"
   ]
  },
  {
   "cell_type": "markdown",
   "metadata": {},
   "source": [
    "- **hour** ranges from 0 (midnight) through 23 (11pm)\n",
    "- **workingday** is either 0 (weekend or holiday) or 1 (non-holiday weekday)"
   ]
  },
  {
   "cell_type": "markdown",
   "metadata": {},
   "source": [
    "# Exercise 7.1\n",
    "\n",
    "Run these two `groupby` statements and figure out what they tell you about the data."
   ]
  },
  {
   "cell_type": "code",
   "execution_count": 293,
   "metadata": {},
   "outputs": [
    {
     "data": {
      "text/plain": [
       "workingday\n",
       "0    188.506621\n",
       "1    193.011873\n",
       "Name: total, dtype: float64"
      ]
     },
     "execution_count": 293,
     "metadata": {},
     "output_type": "execute_result"
    }
   ],
   "source": [
    "# mean rentals for each value of \"workingday\"\n",
    "bikes.groupby('workingday').total.mean()"
   ]
  },
  {
   "cell_type": "markdown",
   "metadata": {},
   "source": [
    "El numero total de rentas promedio de bicicletas para un día laboral es de 193.01 y 188.50 para no laborales."
   ]
  },
  {
   "cell_type": "code",
   "execution_count": 294,
   "metadata": {},
   "outputs": [
    {
     "data": {
      "text/plain": [
       "hour\n",
       "0      55.138462\n",
       "1      33.859031\n",
       "2      22.899554\n",
       "3      11.757506\n",
       "4       6.407240\n",
       "5      19.767699\n",
       "6      76.259341\n",
       "7     213.116484\n",
       "8     362.769231\n",
       "9     221.780220\n",
       "10    175.092308\n",
       "11    210.674725\n",
       "12    256.508772\n",
       "13    257.787281\n",
       "14    243.442982\n",
       "15    254.298246\n",
       "16    316.372807\n",
       "17    468.765351\n",
       "18    430.859649\n",
       "19    315.278509\n",
       "20    228.517544\n",
       "21    173.370614\n",
       "22    133.576754\n",
       "23     89.508772\n",
       "Name: total, dtype: float64"
      ]
     },
     "execution_count": 294,
     "metadata": {},
     "output_type": "execute_result"
    }
   ],
   "source": [
    "# mean rentals for each value of \"hour\"\n",
    "bikes.groupby('hour').total.mean()"
   ]
  },
  {
   "cell_type": "markdown",
   "metadata": {},
   "source": [
    "# Exercise 7.2\n",
    "\n",
    "Run this plotting code, and make sure you understand the output. Then, separate this plot into two separate plots conditioned on \"workingday\". (In other words, one plot should display the hourly trend for \"workingday=0\", and the other should display the hourly trend for \"workingday=1\".)"
   ]
  },
  {
   "cell_type": "code",
   "execution_count": 295,
   "metadata": {},
   "outputs": [
    {
     "data": {
      "text/plain": [
       "<matplotlib.axes._subplots.AxesSubplot at 0x27468e86710>"
      ]
     },
     "execution_count": 295,
     "metadata": {},
     "output_type": "execute_result"
    },
    {
     "data": {
      "image/png": "[encoded data removed]",
      "text/plain": [
       "<Figure size 432x288 with 1 Axes>"
      ]
     },
     "metadata": {
      "needs_background": "light"
     },
     "output_type": "display_data"
    }
   ],
   "source": [
    "# mean rentals for each value of \"hour\"\n",
    "bikes.groupby('hour').total.mean().plot()"
   ]
  },
  {
   "cell_type": "markdown",
   "metadata": {},
   "source": [
    "Plot for workingday == 0 and workingday == 1"
   ]
  },
  {
   "cell_type": "code",
   "execution_count": 296,
   "metadata": {},
   "outputs": [
    {
     "data": {
      "text/plain": [
       "<matplotlib.axes._subplots.AxesSubplot at 0x27468ebbac8>"
      ]
     },
     "execution_count": 296,
     "metadata": {},
     "output_type": "execute_result"
    },
    {
     "data": {
      "image/png": "[encoded data removed]",
      "text/plain": [
       "<Figure size 432x288 with 1 Axes>"
      ]
     },
     "metadata": {
      "needs_background": "light"
     },
     "output_type": "display_data"
    }
   ],
   "source": [
    "# hourly rental trend for \"workingday=0\"\n",
    "bikes[bikes.workingday==0].groupby('hour').total.mean().plot()"
   ]
  },
  {
   "cell_type": "code",
   "execution_count": 297,
   "metadata": {},
   "outputs": [
    {
     "data": {
      "text/plain": [
       "<matplotlib.axes._subplots.AxesSubplot at 0x27468ee5a58>"
      ]
     },
     "execution_count": 297,
     "metadata": {},
     "output_type": "execute_result"
    },
    {
     "data": {
      "image/png": "[encoded data removed]",
      "text/plain": [
       "<Figure size 432x288 with 1 Axes>"
      ]
     },
     "metadata": {
      "needs_background": "light"
     },
     "output_type": "display_data"
    }
   ],
   "source": [
    "# hourly rental trend for \"workingday=1\"\n",
    "bikes[bikes.workingday==1].groupby('hour').total.mean().plot()"
   ]
  },
  {
   "cell_type": "code",
   "execution_count": 298,
   "metadata": {},
   "outputs": [
    {
     "data": {
      "text/plain": [
       "<matplotlib.axes._subplots.AxesSubplot at 0x27468f40b00>"
      ]
     },
     "execution_count": 298,
     "metadata": {},
     "output_type": "execute_result"
    },
    {
     "data": {
      "image/png": "[encoded data removed]",
      "text/plain": [
       "<Figure size 432x288 with 1 Axes>"
      ]
     },
     "metadata": {
      "needs_background": "light"
     },
     "output_type": "display_data"
    }
   ],
   "source": [
    "# combine the two plots\n",
    "bikes.groupby(['hour', 'workingday']).total.mean().unstack().plot()"
   ]
  },
  {
   "cell_type": "markdown",
   "metadata": {},
   "source": [
    "Es posible observar que el numero de rentas promedio alcanza un primer pico a las 8 am con 362 y el pico máximo se alcanza a las 5 pm con 468 rentas de bicicletas en promedio. Así mismo, se observa el valle entre las 10 am y las 3 pm, y el descenso constante desde las 5 pm.\n",
    "\n",
    "Para los días no laborales se muestra una tendecia muy similar respecto al promedio general, donde se aprecia el crecimiento\n",
    "de las rentas entre las 5 am y las 3 pm, luego de estas horas la tendencia es a la baja.\n",
    "\n",
    "Para los días no laborales la tendencia muestra el crecimiento de las rentas de bicicletas entre las 5 am y las 12 pm, alcanzando su pico máximo alrededor de las 375 rentas en promedio cerca de las 12 pm, luego de estas horas la tendencia es a la baja.\n",
    "\n",
    "Es claro que el comportamiento de los día no laborales es diferente al comportamiento de los días laborales, donde los picos para la renta promedio se alcanzan en momentos distintos. En general, se puede presumir que la renta de bicicletas concuerda con los horarios de entrada y salida en los días laborales y con las horas de esparcimiento de los fines de semana."
   ]
  },
  {
   "cell_type": "markdown",
   "metadata": {},
   "source": [
    "# Exercise 7.3\n",
    "\n",
    "Fit a linear regression model to the entire dataset, using \"total\" as the response and \"hour\" and \"workingday\" as the only features. Then, print the coefficients and interpret them. What are the limitations of linear regression in this instance?"
   ]
  },
  {
   "cell_type": "code",
   "execution_count": 299,
   "metadata": {},
   "outputs": [
    {
     "data": {
      "text/plain": [
       "array([[10.49206282,  4.07248627]])"
      ]
     },
     "execution_count": 299,
     "metadata": {},
     "output_type": "execute_result"
    }
   ],
   "source": [
    "X = bikes.loc[: , [\"hour\" ,\"workingday\" ]]\n",
    "y = bikes.loc[: , [\"total\" ]]\n",
    "from sklearn.linear_model import LinearRegression\n",
    "reg = LinearRegression()\n",
    "reg.fit(X, y)\n",
    "reg.coef_"
   ]
  },
  {
   "cell_type": "markdown",
   "metadata": {},
   "source": [
    "En una regresión lineal, los coeficientes brindarán o restaran importancia a una variable a medida de que esta crezca o disminuya. Es decir, para la variable *workingday* el  total de biciclitas rentadas incrementará en 4.072, conservando todo lo demás constante, si es un día laboral. Sin embargo, no funcionaria de la misma forma para la variable *hour*, dado que el pico se ve presentando en valores como 8, 16, 17, 18 y 19 y no en 22 o 23. Por lo tanto, esta estrategia de modelación no captura el comportamiento de horas valle y horas pico como debería."
   ]
  },
  {
   "cell_type": "markdown",
   "metadata": {},
   "source": [
    "# Exercice 7.4\n",
    "\n",
    "Create a Decision Tree to forecast \"total\" by manually iterating over the features \"hour\" and \"workingday\". The algorithm must at least have 6 end nodes."
   ]
  },
  {
   "cell_type": "code",
   "execution_count": 300,
   "metadata": {},
   "outputs": [
    {
     "data": {
      "text/html": [
       "<div>\n",
       "<style scoped>\n",
       "    .dataframe tbody tr th:only-of-type {\n",
       "        vertical-align: middle;\n",
       "    }\n",
       "\n",
       "    .dataframe tbody tr th {\n",
       "        vertical-align: top;\n",
       "    }\n",
       "\n",
       "    .dataframe thead th {\n",
       "        text-align: right;\n",
       "    }\n",
       "</style>\n",
       "<table border=\"1\" class=\"dataframe\">\n",
       "  <thead>\n",
       "    <tr style=\"text-align: right;\">\n",
       "      <th></th>\n",
       "      <th>datetime</th>\n",
       "      <th>season</th>\n",
       "      <th>holiday</th>\n",
       "      <th>workingday</th>\n",
       "      <th>weather</th>\n",
       "      <th>temp</th>\n",
       "      <th>atemp</th>\n",
       "      <th>humidity</th>\n",
       "      <th>windspeed</th>\n",
       "      <th>casual</th>\n",
       "      <th>registered</th>\n",
       "      <th>count</th>\n",
       "    </tr>\n",
       "  </thead>\n",
       "  <tbody>\n",
       "    <tr>\n",
       "      <th>0</th>\n",
       "      <td>2011-01-01 00:00:00</td>\n",
       "      <td>1</td>\n",
       "      <td>0</td>\n",
       "      <td>0</td>\n",
       "      <td>1</td>\n",
       "      <td>9.84</td>\n",
       "      <td>14.395</td>\n",
       "      <td>81</td>\n",
       "      <td>0.0</td>\n",
       "      <td>3</td>\n",
       "      <td>13</td>\n",
       "      <td>16</td>\n",
       "    </tr>\n",
       "    <tr>\n",
       "      <th>1</th>\n",
       "      <td>2011-01-01 01:00:00</td>\n",
       "      <td>1</td>\n",
       "      <td>0</td>\n",
       "      <td>0</td>\n",
       "      <td>1</td>\n",
       "      <td>9.02</td>\n",
       "      <td>13.635</td>\n",
       "      <td>80</td>\n",
       "      <td>0.0</td>\n",
       "      <td>8</td>\n",
       "      <td>32</td>\n",
       "      <td>40</td>\n",
       "    </tr>\n",
       "    <tr>\n",
       "      <th>2</th>\n",
       "      <td>2011-01-01 02:00:00</td>\n",
       "      <td>1</td>\n",
       "      <td>0</td>\n",
       "      <td>0</td>\n",
       "      <td>1</td>\n",
       "      <td>9.02</td>\n",
       "      <td>13.635</td>\n",
       "      <td>80</td>\n",
       "      <td>0.0</td>\n",
       "      <td>5</td>\n",
       "      <td>27</td>\n",
       "      <td>32</td>\n",
       "    </tr>\n",
       "    <tr>\n",
       "      <th>3</th>\n",
       "      <td>2011-01-01 03:00:00</td>\n",
       "      <td>1</td>\n",
       "      <td>0</td>\n",
       "      <td>0</td>\n",
       "      <td>1</td>\n",
       "      <td>9.84</td>\n",
       "      <td>14.395</td>\n",
       "      <td>75</td>\n",
       "      <td>0.0</td>\n",
       "      <td>3</td>\n",
       "      <td>10</td>\n",
       "      <td>13</td>\n",
       "    </tr>\n",
       "    <tr>\n",
       "      <th>4</th>\n",
       "      <td>2011-01-01 04:00:00</td>\n",
       "      <td>1</td>\n",
       "      <td>0</td>\n",
       "      <td>0</td>\n",
       "      <td>1</td>\n",
       "      <td>9.84</td>\n",
       "      <td>14.395</td>\n",
       "      <td>75</td>\n",
       "      <td>0.0</td>\n",
       "      <td>0</td>\n",
       "      <td>1</td>\n",
       "      <td>1</td>\n",
       "    </tr>\n",
       "  </tbody>\n",
       "</table>\n",
       "</div>"
      ],
      "text/plain": [
       "              datetime  season  holiday  workingday  weather  temp   atemp  \\\n",
       "0  2011-01-01 00:00:00       1        0           0        1  9.84  14.395   \n",
       "1  2011-01-01 01:00:00       1        0           0        1  9.02  13.635   \n",
       "2  2011-01-01 02:00:00       1        0           0        1  9.02  13.635   \n",
       "3  2011-01-01 03:00:00       1        0           0        1  9.84  14.395   \n",
       "4  2011-01-01 04:00:00       1        0           0        1  9.84  14.395   \n",
       "\n",
       "   humidity  windspeed  casual  registered  count  \n",
       "0        81        0.0       3          13     16  \n",
       "1        80        0.0       8          32     40  \n",
       "2        80        0.0       5          27     32  \n",
       "3        75        0.0       3          10     13  \n",
       "4        75        0.0       0           1      1  "
      ]
     },
     "execution_count": 300,
     "metadata": {},
     "output_type": "execute_result"
    }
   ],
   "source": [
    "# read the data and set \"datetime\" as the index\n",
    "url = 'bikeshare.csv'\n",
    "bikes = pd.read_csv(url)\n",
    "bikes.head()"
   ]
  },
  {
   "cell_type": "code",
   "execution_count": 301,
   "metadata": {},
   "outputs": [],
   "source": [
    "# \"count\" is a method, so it's best to rename that column\n",
    "bikes.rename(columns={'count':'total'}, inplace=True)\n"
   ]
  },
  {
   "cell_type": "code",
   "execution_count": 302,
   "metadata": {},
   "outputs": [],
   "source": [
    "# create \"hour\" as its own feature\n",
    "bikes['hour'] = pd.to_numeric(pd.to_datetime(bikes['datetime']).dt.hour)\n"
   ]
  },
  {
   "cell_type": "code",
   "execution_count": 377,
   "metadata": {},
   "outputs": [],
   "source": [
    "X = bikes.loc[: , [\"hour\" ,\"workingday\" ]]\n",
    "y = bikes.loc[: , [\"total\" ]] "
   ]
  },
  {
   "cell_type": "code",
   "execution_count": 304,
   "metadata": {},
   "outputs": [],
   "source": [
    "# calculate RMSE for those predictions\n",
    "from sklearn import metrics\n",
    "import numpy as np"
   ]
  },
  {
   "cell_type": "code",
   "execution_count": 305,
   "metadata": {},
   "outputs": [],
   "source": [
    "# define a function that calculates the RMSE for a given split of miles\n",
    "def split_rg(name, p, X, y):\n",
    "    train = pd.concat([X, y], axis=1)\n",
    "    x_lower = train[train[name] < p].total.mean()\n",
    "    x_higher = train[train[name] >= p].total.mean()\n",
    "    \n",
    "    train['prediction'] = np.where(train[name] < p, x_lower, x_higher)\n",
    "    \n",
    "    if train['prediction'].count() > 2:\n",
    "        return np.sqrt(metrics.mean_squared_error(y['total'], train.prediction))\n",
    "    else:\n",
    "        return [0]"
   ]
  },
  {
   "cell_type": "code",
   "execution_count": 306,
   "metadata": {},
   "outputs": [],
   "source": [
    "def best_split(X, y):\n",
    "    features = range(X.shape[1])\n",
    "    \n",
    "    best_split = [0, 0, 0]  # j, split, RMSE\n",
    "    split = 0\n",
    "    \n",
    "    # For all features\n",
    "    for j in features:\n",
    "        \n",
    "        x_range = list()\n",
    "        x_range = X.iloc[:,j]\n",
    "        x_range = np.unique(x_range)\n",
    "        print(j, sum(x_range))\n",
    "        if sum(x_range) == 0:\n",
    "            best_split = [0, 0, 0]\n",
    "            return best_split\n",
    "        else:    \n",
    "            RMSE = [split_rg(X.columns[j], x_i, X, y) for x_i in x_range]\n",
    "            split = int(sum(np.where(RMSE == min(RMSE))))\n",
    "        \n",
    "        \n",
    "        if min(RMSE) < best_split[2] or j==0:\n",
    "            best_split = [j, split, min(RMSE)]\n",
    "    \n",
    "    return best_split"
   ]
  },
  {
   "cell_type": "code",
   "execution_count": 307,
   "metadata": {},
   "outputs": [],
   "source": [
    "def tree_grow(X, y, level=0, min_rmse=0.001, max_depth=None):\n",
    "    \n",
    "    # If only one observation\n",
    "    if X.shape[0] == 1:\n",
    "        tree = dict(y_pred=y.iloc[:1].values[0], y_prob=0.5, level=level, split=-1, n_samples=1, RMSE=0)\n",
    "        return tree\n",
    "    \n",
    "    # Calculate the best split\n",
    "    j, split, RMSE = best_split(X, y)\n",
    "    \n",
    "    # save tree and estimate prediction\n",
    "    y_pred = y.mean()\n",
    "    y_prob = (y.sum() + 1.0) / (y.shape[0] + 2.0)  # Laplace correction\n",
    "    \n",
    "    tree = dict(y_pred=y_pred, y_prob=y_prob, level=level, split=-1, n_samples=X.shape[0], RMSE=RMSE)\n",
    "    \n",
    "    # Check stooping criteria\n",
    "    if (RMSE < min_rmse) or  best_split == [0, 0, 0]:\n",
    "        return tree\n",
    "    if max_depth is not None:\n",
    "        if level >= max_depth:\n",
    "            return tree   \n",
    "    \n",
    "    # No stooping criteria was meet, then continue to create the partition\n",
    "    print(level)\n",
    "    filter_l = X.iloc[:, j] < split\n",
    "    X_l, y_l = X.loc[filter_l], y.loc[filter_l]\n",
    "    X_r, y_r = X.loc[~filter_l], y.loc[~filter_l]\n",
    "    tree['split'] = [j, split]\n",
    "\n",
    "    # Next iteration to each split\n",
    "    \n",
    "    tree['sl'] = tree_grow(X_l, y_l, level + 1, min_rmse=min_rmse, max_depth=max_depth)\n",
    "    tree['sr'] = tree_grow(X_r, y_r, level + 1, min_rmse=min_rmse, max_depth=max_depth)\n",
    "    \n",
    "    return tree"
   ]
  },
  {
   "cell_type": "code",
   "execution_count": 346,
   "metadata": {},
   "outputs": [
    {
     "name": "stdout",
     "output_type": "stream",
     "text": [
      "0 276\n",
      "1 1\n",
      "0\n",
      "0 21\n",
      "1 1\n",
      "1\n",
      "0 15\n",
      "1 1\n",
      "2\n",
      "0 1\n",
      "1 1\n",
      "3\n",
      "0 1\n",
      "1 0\n",
      "0 1\n",
      "1 1\n",
      "4\n",
      "0 0\n",
      "0 1\n",
      "1 1\n",
      "5\n",
      "0 0\n",
      "0 1\n",
      "1 1\n",
      "6\n",
      "0 0\n",
      "0 1\n",
      "1 1\n",
      "0 14\n",
      "1 1\n",
      "3\n",
      "0 14\n",
      "1 0\n",
      "0 14\n",
      "1 1\n",
      "4\n",
      "0 2\n",
      "1 1\n",
      "5\n",
      "0 0\n",
      "0 2\n",
      "1 1\n",
      "6\n",
      "0 0\n",
      "0 2\n",
      "1 1\n",
      "0 12\n",
      "1 1\n",
      "5\n",
      "0 0\n",
      "0 12\n",
      "1 1\n",
      "6\n",
      "0 0\n",
      "0 12\n",
      "1 1\n",
      "0 6\n",
      "1 1\n",
      "2\n",
      "0 6\n",
      "1 0\n",
      "0 6\n",
      "1 1\n",
      "3\n",
      "0 0\n",
      "0 6\n",
      "1 1\n",
      "4\n",
      "0 0\n",
      "0 6\n",
      "1 1\n",
      "5\n",
      "0 0\n",
      "0 6\n",
      "1 1\n",
      "6\n",
      "0 0\n",
      "0 6\n",
      "1 1\n",
      "0 255\n",
      "1 1\n",
      "1\n",
      "0 70\n",
      "1 1\n",
      "2\n",
      "0 0\n",
      "0 70\n",
      "1 1\n",
      "3\n",
      "0 0\n",
      "0 70\n",
      "1 1\n",
      "4\n",
      "0 0\n",
      "0 70\n",
      "1 1\n",
      "5\n",
      "0 0\n",
      "0 70\n",
      "1 1\n",
      "6\n",
      "0 0\n",
      "0 70\n",
      "1 1\n",
      "0 185\n",
      "1 1\n",
      "2\n",
      "0 0\n",
      "0 185\n",
      "1 1\n",
      "3\n",
      "0 0\n",
      "0 185\n",
      "1 1\n",
      "4\n",
      "0 0\n",
      "0 185\n",
      "1 1\n",
      "5\n",
      "0 0\n",
      "0 185\n",
      "1 1\n",
      "6\n",
      "0 0\n",
      "0 185\n",
      "1 1\n"
     ]
    }
   ],
   "source": [
    "tree = tree_grow(X, y, level=0, min_rmse=0.001, max_depth=7)"
   ]
  },
  {
   "cell_type": "code",
   "execution_count": 347,
   "metadata": {},
   "outputs": [
    {
     "data": {
      "text/plain": [
       "{'y_pred': total    191.574132\n",
       " dtype: float64, 'y_prob': total    191.539034\n",
       " dtype: float64, 'level': 0, 'split': [0,\n",
       "  7], 'n_samples': 10886, 'RMSE': 150.2256006040568, 'sl': {'y_pred': total    32.582032\n",
       "  dtype: float64,\n",
       "  'y_prob': total    32.561605\n",
       "  dtype: float64,\n",
       "  'level': 1,\n",
       "  'split': [0, 6],\n",
       "  'n_samples': 3139,\n",
       "  'RMSE': 35.244269462270296,\n",
       "  'sl': {'y_pred': total    25.17772\n",
       "   dtype: float64, 'y_prob': total    25.159345\n",
       "   dtype: float64, 'level': 2, 'split': [0,\n",
       "    2], 'n_samples': 2684, 'RMSE': 27.46590337533088, 'sl': {'y_pred': total    44.510451\n",
       "    dtype: float64,\n",
       "    'y_prob': total    44.413831\n",
       "    dtype: float64,\n",
       "    'level': 3,\n",
       "    'split': [1, 1],\n",
       "    'n_samples': 909,\n",
       "    'RMSE': 30.69400580610836,\n",
       "    'sl': {'y_pred': total    83.2\n",
       "     dtype: float64, 'y_prob': total    82.633562\n",
       "     dtype: float64, 'level': 4, 'split': -1, 'n_samples': 290, 'RMSE': 0},\n",
       "    'sr': {'y_pred': total    26.384491\n",
       "     dtype: float64, 'y_prob': total    26.301127\n",
       "     dtype: float64, 'level': 4, 'split': [0,\n",
       "      1], 'n_samples': 619, 'RMSE': 20.553558004903167, 'sl': {'y_pred': total    36.732258\n",
       "      dtype: float64,\n",
       "      'y_prob': total    36.5\n",
       "      dtype: float64,\n",
       "      'level': 5,\n",
       "      'split': -1,\n",
       "      'n_samples': 310,\n",
       "      'RMSE': 0}, 'sr': {'y_pred': total    16.003236\n",
       "      dtype: float64, 'y_prob': total    15.903537\n",
       "      dtype: float64, 'level': 5, 'split': [0,\n",
       "       0], 'n_samples': 309, 'RMSE': 12.38474329767742, 'sl': {'y_pred': total   NaN\n",
       "       dtype: float64,\n",
       "       'y_prob': total    0.5\n",
       "       dtype: float64,\n",
       "       'level': 6,\n",
       "       'split': -1,\n",
       "       'n_samples': 0,\n",
       "       'RMSE': 0}, 'sr': {'y_pred': total    16.003236\n",
       "       dtype: float64, 'y_prob': total    15.903537\n",
       "       dtype: float64, 'level': 6, 'split': [0,\n",
       "        0], 'n_samples': 309, 'RMSE': 12.38474329767742, 'sl': {'y_pred': total   NaN\n",
       "        dtype: float64,\n",
       "        'y_prob': total    0.5\n",
       "        dtype: float64,\n",
       "        'level': 7,\n",
       "        'split': -1,\n",
       "        'n_samples': 0,\n",
       "        'RMSE': 0}, 'sr': {'y_pred': total    16.003236\n",
       "        dtype: float64, 'y_prob': total    15.903537\n",
       "        dtype: float64, 'level': 7, 'split': -1, 'n_samples': 309, 'RMSE': 12.38474329767742}}}}}, 'sr': {'y_pred': total    15.277183\n",
       "    dtype: float64,\n",
       "    'y_prob': total    15.260551\n",
       "    dtype: float64,\n",
       "    'level': 3,\n",
       "    'split': [1, 1],\n",
       "    'n_samples': 1775,\n",
       "    'RMSE': 16.13723627658291,\n",
       "    'sl': {'y_pred': total    24.273519\n",
       "     dtype: float64, 'y_prob': total    24.190972\n",
       "     dtype: float64, 'level': 4, 'split': -1, 'n_samples': 574, 'RMSE': 0},\n",
       "    'sr': {'y_pred': total    10.977519\n",
       "     dtype: float64, 'y_prob': total    10.9601\n",
       "     dtype: float64, 'level': 4, 'split': [0,\n",
       "      3], 'n_samples': 1201, 'RMSE': 7.417589653876205, 'sl': {'y_pred': total    8.436066\n",
       "      dtype: float64,\n",
       "      'y_prob': total    8.384365\n",
       "      dtype: float64,\n",
       "      'level': 5,\n",
       "      'split': [0, 0],\n",
       "      'n_samples': 305,\n",
       "      'RMSE': 6.9468717523242836,\n",
       "      'sl': {'y_pred': total   NaN\n",
       "       dtype: float64, 'y_prob': total    0.5\n",
       "       dtype: float64, 'level': 6, 'split': -1, 'n_samples': 0, 'RMSE': 0},\n",
       "      'sr': {'y_pred': total    8.436066\n",
       "       dtype: float64, 'y_prob': total    8.384365\n",
       "       dtype: float64, 'level': 6, 'split': [0,\n",
       "        0], 'n_samples': 305, 'RMSE': 6.9468717523242836, 'sl': {'y_pred': total   NaN\n",
       "        dtype: float64,\n",
       "        'y_prob': total    0.5\n",
       "        dtype: float64,\n",
       "        'level': 7,\n",
       "        'split': -1,\n",
       "        'n_samples': 0,\n",
       "        'RMSE': 0}, 'sr': {'y_pred': total    8.436066\n",
       "        dtype: float64, 'y_prob': total    8.384365\n",
       "        dtype: float64, 'level': 7, 'split': -1, 'n_samples': 305, 'RMSE': 6.9468717523242836}}}, 'sr': {'y_pred': total    11.842634\n",
       "      dtype: float64,\n",
       "      'y_prob': total    11.817372\n",
       "      dtype: float64,\n",
       "      'level': 5,\n",
       "      'split': [0, 2],\n",
       "      'n_samples': 896,\n",
       "      'RMSE': 7.407925967864012,\n",
       "      'sl': {'y_pred': total   NaN\n",
       "       dtype: float64, 'y_prob': total    0.5\n",
       "       dtype: float64, 'level': 6, 'split': -1, 'n_samples': 0, 'RMSE': 0},\n",
       "      'sr': {'y_pred': total    11.842634\n",
       "       dtype: float64, 'y_prob': total    11.817372\n",
       "       dtype: float64, 'level': 6, 'split': [0,\n",
       "        2], 'n_samples': 896, 'RMSE': 7.407925967864012, 'sl': {'y_pred': total   NaN\n",
       "        dtype: float64,\n",
       "        'y_prob': total    0.5\n",
       "        dtype: float64,\n",
       "        'level': 7,\n",
       "        'split': -1,\n",
       "        'n_samples': 0,\n",
       "        'RMSE': 0}, 'sr': {'y_pred': total    11.842634\n",
       "        dtype: float64, 'y_prob': total    11.817372\n",
       "        dtype: float64, 'level': 7, 'split': -1, 'n_samples': 896, 'RMSE': 7.407925967864012}}}}}},\n",
       "  'sr': {'y_pred': total    76.259341\n",
       "   dtype: float64, 'y_prob': total    75.92779\n",
       "   dtype: float64, 'level': 2, 'split': [1,\n",
       "    1], 'n_samples': 455, 'RMSE': 38.85415488379482, 'sl': {'y_pred': total    19.993103\n",
       "    dtype: float64,\n",
       "    'y_prob': total    19.727891\n",
       "    dtype: float64,\n",
       "    'level': 3,\n",
       "    'split': -1,\n",
       "    'n_samples': 145,\n",
       "    'RMSE': 0}, 'sr': {'y_pred': total    102.577419\n",
       "    dtype: float64, 'y_prob': total    101.923077\n",
       "    dtype: float64, 'level': 3, 'split': [0,\n",
       "     0], 'n_samples': 310, 'RMSE': 45.40554328583907, 'sl': {'y_pred': total   NaN\n",
       "     dtype: float64,\n",
       "     'y_prob': total    0.5\n",
       "     dtype: float64,\n",
       "     'level': 4,\n",
       "     'split': -1,\n",
       "     'n_samples': 0,\n",
       "     'RMSE': 0}, 'sr': {'y_pred': total    102.577419\n",
       "     dtype: float64, 'y_prob': total    101.923077\n",
       "     dtype: float64, 'level': 4, 'split': [0,\n",
       "      0], 'n_samples': 310, 'RMSE': 45.40554328583907, 'sl': {'y_pred': total   NaN\n",
       "      dtype: float64,\n",
       "      'y_prob': total    0.5\n",
       "      dtype: float64,\n",
       "      'level': 5,\n",
       "      'split': -1,\n",
       "      'n_samples': 0,\n",
       "      'RMSE': 0}, 'sr': {'y_pred': total    102.577419\n",
       "      dtype: float64, 'y_prob': total    101.923077\n",
       "      dtype: float64, 'level': 5, 'split': [0,\n",
       "       0], 'n_samples': 310, 'RMSE': 45.40554328583907, 'sl': {'y_pred': total   NaN\n",
       "       dtype: float64,\n",
       "       'y_prob': total    0.5\n",
       "       dtype: float64,\n",
       "       'level': 6,\n",
       "       'split': -1,\n",
       "       'n_samples': 0,\n",
       "       'RMSE': 0}, 'sr': {'y_pred': total    102.577419\n",
       "       dtype: float64, 'y_prob': total    101.923077\n",
       "       dtype: float64, 'level': 6, 'split': [0,\n",
       "        0], 'n_samples': 310, 'RMSE': 45.40554328583907, 'sl': {'y_pred': total   NaN\n",
       "        dtype: float64,\n",
       "        'y_prob': total    0.5\n",
       "        dtype: float64,\n",
       "        'level': 7,\n",
       "        'split': -1,\n",
       "        'n_samples': 0,\n",
       "        'RMSE': 0}, 'sr': {'y_pred': total    102.577419\n",
       "        dtype: float64, 'y_prob': total    101.923077\n",
       "        dtype: float64, 'level': 7, 'split': -1, 'n_samples': 310, 'RMSE': 45.40554328583907}}}}}}}, 'sr': {'y_pred': total    255.995998\n",
       "  dtype: float64,\n",
       "  'y_prob': total    255.930055\n",
       "  dtype: float64,\n",
       "  'level': 1,\n",
       "  'split': [0, 14],\n",
       "  'n_samples': 7747,\n",
       "  'RMSE': 166.69864069956617,\n",
       "  'sl': {'y_pred': total    242.541889\n",
       "   dtype: float64, 'y_prob': total    242.390091\n",
       "   dtype: float64, 'level': 2, 'split': [0,\n",
       "    2], 'n_samples': 3187, 'RMSE': 157.07140980989075, 'sl': {'y_pred': total   NaN\n",
       "    dtype: float64,\n",
       "    'y_prob': total    0.5\n",
       "    dtype: float64,\n",
       "    'level': 3,\n",
       "    'split': -1,\n",
       "    'n_samples': 0,\n",
       "    'RMSE': 0}, 'sr': {'y_pred': total    242.541889\n",
       "    dtype: float64, 'y_prob': total    242.390091\n",
       "    dtype: float64, 'level': 3, 'split': [0,\n",
       "     2], 'n_samples': 3187, 'RMSE': 157.07140980989075, 'sl': {'y_pred': total   NaN\n",
       "     dtype: float64,\n",
       "     'y_prob': total    0.5\n",
       "     dtype: float64,\n",
       "     'level': 4,\n",
       "     'split': -1,\n",
       "     'n_samples': 0,\n",
       "     'RMSE': 0}, 'sr': {'y_pred': total    242.541889\n",
       "     dtype: float64, 'y_prob': total    242.390091\n",
       "     dtype: float64, 'level': 4, 'split': [0,\n",
       "      2], 'n_samples': 3187, 'RMSE': 157.07140980989075, 'sl': {'y_pred': total   NaN\n",
       "      dtype: float64,\n",
       "      'y_prob': total    0.5\n",
       "      dtype: float64,\n",
       "      'level': 5,\n",
       "      'split': -1,\n",
       "      'n_samples': 0,\n",
       "      'RMSE': 0}, 'sr': {'y_pred': total    242.541889\n",
       "      dtype: float64, 'y_prob': total    242.390091\n",
       "      dtype: float64, 'level': 5, 'split': [0,\n",
       "       2], 'n_samples': 3187, 'RMSE': 157.07140980989075, 'sl': {'y_pred': total   NaN\n",
       "       dtype: float64,\n",
       "       'y_prob': total    0.5\n",
       "       dtype: float64,\n",
       "       'level': 6,\n",
       "       'split': -1,\n",
       "       'n_samples': 0,\n",
       "       'RMSE': 0}, 'sr': {'y_pred': total    242.541889\n",
       "       dtype: float64, 'y_prob': total    242.390091\n",
       "       dtype: float64, 'level': 6, 'split': [0,\n",
       "        2], 'n_samples': 3187, 'RMSE': 157.07140980989075, 'sl': {'y_pred': total   NaN\n",
       "        dtype: float64,\n",
       "        'y_prob': total    0.5\n",
       "        dtype: float64,\n",
       "        'level': 7,\n",
       "        'split': -1,\n",
       "        'n_samples': 0,\n",
       "        'RMSE': 0}, 'sr': {'y_pred': total    242.541889\n",
       "        dtype: float64, 'y_prob': total    242.390091\n",
       "        dtype: float64, 'level': 7, 'split': -1, 'n_samples': 3187, 'RMSE': 157.07140980989075}}}}}},\n",
       "  'sr': {'y_pred': total    265.399123\n",
       "   dtype: float64, 'y_prob': total    265.28299\n",
       "   dtype: float64, 'level': 2, 'split': [0,\n",
       "    6], 'n_samples': 4560, 'RMSE': 163.7708345062305, 'sl': {'y_pred': total   NaN\n",
       "    dtype: float64,\n",
       "    'y_prob': total    0.5\n",
       "    dtype: float64,\n",
       "    'level': 3,\n",
       "    'split': -1,\n",
       "    'n_samples': 0,\n",
       "    'RMSE': 0}, 'sr': {'y_pred': total    265.399123\n",
       "    dtype: float64, 'y_prob': total    265.28299\n",
       "    dtype: float64, 'level': 3, 'split': [0,\n",
       "     6], 'n_samples': 4560, 'RMSE': 163.7708345062305, 'sl': {'y_pred': total   NaN\n",
       "     dtype: float64,\n",
       "     'y_prob': total    0.5\n",
       "     dtype: float64,\n",
       "     'level': 4,\n",
       "     'split': -1,\n",
       "     'n_samples': 0,\n",
       "     'RMSE': 0}, 'sr': {'y_pred': total    265.399123\n",
       "     dtype: float64, 'y_prob': total    265.28299\n",
       "     dtype: float64, 'level': 4, 'split': [0,\n",
       "      6], 'n_samples': 4560, 'RMSE': 163.7708345062305, 'sl': {'y_pred': total   NaN\n",
       "      dtype: float64,\n",
       "      'y_prob': total    0.5\n",
       "      dtype: float64,\n",
       "      'level': 5,\n",
       "      'split': -1,\n",
       "      'n_samples': 0,\n",
       "      'RMSE': 0}, 'sr': {'y_pred': total    265.399123\n",
       "      dtype: float64, 'y_prob': total    265.28299\n",
       "      dtype: float64, 'level': 5, 'split': [0,\n",
       "       6], 'n_samples': 4560, 'RMSE': 163.7708345062305, 'sl': {'y_pred': total   NaN\n",
       "       dtype: float64,\n",
       "       'y_prob': total    0.5\n",
       "       dtype: float64,\n",
       "       'level': 6,\n",
       "       'split': -1,\n",
       "       'n_samples': 0,\n",
       "       'RMSE': 0}, 'sr': {'y_pred': total    265.399123\n",
       "       dtype: float64, 'y_prob': total    265.28299\n",
       "       dtype: float64, 'level': 6, 'split': [0,\n",
       "        6], 'n_samples': 4560, 'RMSE': 163.7708345062305, 'sl': {'y_pred': total   NaN\n",
       "        dtype: float64,\n",
       "        'y_prob': total    0.5\n",
       "        dtype: float64,\n",
       "        'level': 7,\n",
       "        'split': -1,\n",
       "        'n_samples': 0,\n",
       "        'RMSE': 0}, 'sr': {'y_pred': total    265.399123\n",
       "        dtype: float64, 'y_prob': total    265.28299\n",
       "        dtype: float64, 'level': 7, 'split': -1, 'n_samples': 4560, 'RMSE': 163.7708345062305}}}}}}}}"
      ]
     },
     "execution_count": 347,
     "metadata": {},
     "output_type": "execute_result"
    }
   ],
   "source": [
    "tree"
   ]
  },
  {
   "cell_type": "code",
   "execution_count": 348,
   "metadata": {},
   "outputs": [],
   "source": [
    "def tree_predict(X, tree, proba=False):\n",
    "    \n",
    "    predicted = np.ones(X.shape[0])\n",
    "    print(tree['split'])\n",
    "\n",
    "    # Check if final node\n",
    "    if tree['split'] == -1:\n",
    "        if not proba:\n",
    "            print(len(predicted),sum(tree['y_pred']))\n",
    "\n",
    "            \n",
    "            predicted = predicted * sum(tree['y_pred'])\n",
    "        else:\n",
    "            predicted = predicted * tree['y_prob']\n",
    "            \n",
    "    else:\n",
    "        \n",
    "        j, split = tree['split']\n",
    "        filter_l = (X.iloc[:, j] < split)\n",
    "        X_l = X.loc[filter_l]\n",
    "        X_r = X.loc[~filter_l]\n",
    "        print(len(predicted))\n",
    "\n",
    "        if X_l.shape[0] == 0:  # If left node is empty only continue with right\n",
    "            predicted[~filter_l] = tree_predict(X_r, tree['sr'], proba)\n",
    "            \n",
    "        elif X_r.shape[0] == 0:  # If right node is empty only continue with left\n",
    "            predicted[filter_l] = tree_predict(X_l, tree['sl'], proba)\n",
    "            \n",
    "        else:\n",
    "            predicted[filter_l] = tree_predict(X_l, tree['sl'], proba)\n",
    "            predicted[~filter_l] = tree_predict(X_r, tree['sr'], proba)\n",
    "            \n",
    "        \n",
    "    return predicted    "
   ]
  },
  {
   "cell_type": "code",
   "execution_count": 349,
   "metadata": {},
   "outputs": [
    {
     "name": "stdout",
     "output_type": "stream",
     "text": [
      "[0, 7]\n",
      "10886\n",
      "[0, 6]\n",
      "3139\n",
      "[0, 2]\n",
      "2684\n",
      "[1, 1]\n",
      "909\n",
      "-1\n",
      "290 83.2\n",
      "[0, 1]\n",
      "619\n",
      "-1\n",
      "310 36.73225806451613\n",
      "[0, 0]\n",
      "309\n",
      "[0, 0]\n",
      "309\n",
      "-1\n",
      "309 16.003236245954692\n",
      "[1, 1]\n",
      "1775\n",
      "-1\n",
      "574 24.273519163763066\n",
      "[0, 3]\n",
      "1201\n",
      "[0, 0]\n",
      "305\n",
      "[0, 0]\n",
      "305\n",
      "-1\n",
      "305 8.436065573770492\n",
      "[0, 2]\n",
      "896\n",
      "[0, 2]\n",
      "896\n",
      "-1\n",
      "896 11.842633928571429\n",
      "[1, 1]\n",
      "455\n",
      "-1\n",
      "145 19.99310344827586\n",
      "[0, 0]\n",
      "310\n",
      "[0, 0]\n",
      "310\n",
      "[0, 0]\n",
      "310\n",
      "[0, 0]\n",
      "310\n",
      "-1\n",
      "310 102.57741935483871\n",
      "[0, 14]\n",
      "7747\n",
      "[0, 2]\n",
      "3187\n",
      "[0, 2]\n",
      "3187\n",
      "[0, 2]\n",
      "3187\n",
      "[0, 2]\n",
      "3187\n",
      "[0, 2]\n",
      "3187\n",
      "-1\n",
      "3187 242.54188892375274\n",
      "[0, 6]\n",
      "4560\n",
      "[0, 6]\n",
      "4560\n",
      "[0, 6]\n",
      "4560\n",
      "[0, 6]\n",
      "4560\n",
      "[0, 6]\n",
      "4560\n",
      "-1\n",
      "4560 265.39912280701753\n"
     ]
    }
   ],
   "source": [
    "prediction = tree_predict(X, tree, proba=False)"
   ]
  },
  {
   "cell_type": "code",
   "execution_count": 350,
   "metadata": {},
   "outputs": [
    {
     "data": {
      "text/plain": [
       "149.01055361520503"
      ]
     },
     "execution_count": 350,
     "metadata": {},
     "output_type": "execute_result"
    }
   ],
   "source": [
    "from sklearn.metrics import accuracy_score\n",
    "\n",
    "y_true = y\n",
    "y_pred = prediction\n",
    "\n",
    "np.sqrt(metrics.mean_squared_error(y_true, y_pred))"
   ]
  },
  {
   "cell_type": "markdown",
   "metadata": {},
   "source": [
    "# Exercise 7.5\n",
    "\n",
    "Train a Decision Tree using scikit-learn. Comment about the performance of the models."
   ]
  },
  {
   "cell_type": "code",
   "execution_count": 378,
   "metadata": {},
   "outputs": [
    {
     "data": {
      "text/plain": [
       "[150.58047729549764,\n",
       " 142.79903210731652,\n",
       " 136.77375465075121,\n",
       " 132.43260320072835,\n",
       " 117.66091036003505,\n",
       " 108.63388688155047,\n",
       " 107.64196789476493,\n",
       " 107.59630102700518,\n",
       " 107.58012231930059,\n",
       " 107.57576561312104,\n",
       " 107.57576561312104,\n",
       " 107.57576561312104,\n",
       " 107.57576561312104,\n",
       " 107.57576561312104,\n",
       " 107.57576561312104,\n",
       " 107.57576561312104,\n",
       " 107.57576561312104,\n",
       " 107.57576561312104,\n",
       " 107.57576561312104,\n",
       " 107.57576561312104]"
      ]
     },
     "execution_count": 378,
     "metadata": {},
     "output_type": "execute_result"
    }
   ],
   "source": [
    "# list of values to try for max_depth\n",
    "max_depth_range = range(1, 21)\n",
    "\n",
    "# list to store the average RMSE for each value of max_depth\n",
    "RMSE = []\n",
    "\n",
    "# use 10-fold cross-validation with each value of max_depth\n",
    "from sklearn.model_selection import cross_val_score\n",
    "from sklearn.tree import DecisionTreeRegressor\n",
    "\n",
    "# use leave-one-out cross-validation (LOOCV) to estimate the RMSE for this model\n",
    "\n",
    "for depth in max_depth_range:\n",
    "    treereg = DecisionTreeRegressor(max_depth=depth, random_state=1)\n",
    "    scores = cross_val_score(treereg, X, y, cv=10, scoring='neg_mean_squared_error')\n",
    "    RMSE.append( np.mean(np.sqrt(-scores)))\n",
    "RMSE"
   ]
  },
  {
   "cell_type": "code",
   "execution_count": 379,
   "metadata": {},
   "outputs": [
    {
     "data": {
      "text/plain": [
       "Text(0, 0.5, 'RMSE')"
      ]
     },
     "execution_count": 379,
     "metadata": {},
     "output_type": "execute_result"
    },
    {
     "data": {
      "image/png": "[encoded data removed]",
      "text/plain": [
       "<Figure size 432x288 with 1 Axes>"
      ]
     },
     "metadata": {
      "needs_background": "light"
     },
     "output_type": "display_data"
    }
   ],
   "source": [
    "# allow plots to appear in the notebook\n",
    "%matplotlib inline\n",
    "import matplotlib.pyplot as plt \n",
    "\n",
    "# plot max_depth (x-axis) versus RMSE (y-axis)\n",
    "plt.plot(max_depth_range, RMSE)\n",
    "plt.xlabel('max_depth')\n",
    "plt.ylabel('RMSE')"
   ]
  },
  {
   "cell_type": "code",
   "execution_count": 380,
   "metadata": {},
   "outputs": [
    {
     "data": {
      "text/plain": [
       "(107.57576561312104, 10)"
      ]
     },
     "execution_count": 380,
     "metadata": {},
     "output_type": "execute_result"
    }
   ],
   "source": [
    "# show the best accuracy and the corresponding max_depth\n",
    "sorted(zip(RMSE, max_depth_range),reverse=True)[::-1][0]"
   ]
  },
  {
   "cell_type": "code",
   "execution_count": 381,
   "metadata": {},
   "outputs": [
    {
     "data": {
      "text/plain": [
       "DecisionTreeRegressor(criterion='mse', max_depth=7, max_features=None,\n",
       "                      max_leaf_nodes=None, min_impurity_decrease=0.0,\n",
       "                      min_impurity_split=None, min_samples_leaf=1,\n",
       "                      min_samples_split=2, min_weight_fraction_leaf=0.0,\n",
       "                      presort=False, random_state=1, splitter='best')"
      ]
     },
     "execution_count": 381,
     "metadata": {},
     "output_type": "execute_result"
    }
   ],
   "source": [
    "# max_depth=10 was best, so fit a tree using that parameter\n",
    "treereg = DecisionTreeRegressor(max_depth=7, random_state=1)\n",
    "treereg.fit(X, y)"
   ]
  },
  {
   "cell_type": "code",
   "execution_count": 362,
   "metadata": {},
   "outputs": [
    {
     "data": {
      "text/html": [
       "<div>\n",
       "<style scoped>\n",
       "    .dataframe tbody tr th:only-of-type {\n",
       "        vertical-align: middle;\n",
       "    }\n",
       "\n",
       "    .dataframe tbody tr th {\n",
       "        vertical-align: top;\n",
       "    }\n",
       "\n",
       "    .dataframe thead th {\n",
       "        text-align: right;\n",
       "    }\n",
       "</style>\n",
       "<table border=\"1\" class=\"dataframe\">\n",
       "  <thead>\n",
       "    <tr style=\"text-align: right;\">\n",
       "      <th></th>\n",
       "      <th>feature</th>\n",
       "      <th>importance</th>\n",
       "    </tr>\n",
       "  </thead>\n",
       "  <tbody>\n",
       "    <tr>\n",
       "      <th>1</th>\n",
       "      <td>workingday</td>\n",
       "      <td>0.18495</td>\n",
       "    </tr>\n",
       "    <tr>\n",
       "      <th>0</th>\n",
       "      <td>hour</td>\n",
       "      <td>0.81505</td>\n",
       "    </tr>\n",
       "  </tbody>\n",
       "</table>\n",
       "</div>"
      ],
      "text/plain": [
       "      feature  importance\n",
       "1  workingday     0.18495\n",
       "0        hour     0.81505"
      ]
     },
     "execution_count": 362,
     "metadata": {},
     "output_type": "execute_result"
    }
   ],
   "source": [
    "# compute feature importances\n",
    "feature_cols = X.columns\n",
    "pd.DataFrame({'feature':feature_cols, 'importance':treereg.feature_importances_}).sort_values('importance')"
   ]
  },
  {
   "cell_type": "code",
   "execution_count": null,
   "metadata": {},
   "outputs": [],
   "source": [
    "pd.Series(cross_val_score(treereg, X, y, cv=10)).describe()"
   ]
  },
  {
   "cell_type": "markdown",
   "metadata": {},
   "source": [
    "El modelo de arbol de regresión usando la librería tree de sklearn logra un mejor indicador del RMSE para la profundidad óptima vs el modelo construido manualmente. En parte se debe a la opción de cross validation, a mayores particiones o folds el modelo obtiene la profundidad ideal, que para el caso en mención correspondío a 7 usando 10 folds, lo que arrojó un RMSE de 107.57, superando el del modelo manual RMSE = 149.01, valor que se asemeja más al modelo tree de profundidad 2. "
   ]
  },
  {
   "cell_type": "markdown",
   "metadata": {},
   "source": [
    "# Part 2 - Bagging"
   ]
  },
  {
   "cell_type": "markdown",
   "metadata": {},
   "source": [
    "## Mashable news stories analysis\n",
    "\n",
    "Predicting if a news story is going to be popular"
   ]
  },
  {
   "cell_type": "code",
   "execution_count": 543,
   "metadata": {},
   "outputs": [
    {
     "data": {
      "text/html": [
       "<div>\n",
       "<style scoped>\n",
       "    .dataframe tbody tr th:only-of-type {\n",
       "        vertical-align: middle;\n",
       "    }\n",
       "\n",
       "    .dataframe tbody tr th {\n",
       "        vertical-align: top;\n",
       "    }\n",
       "\n",
       "    .dataframe thead th {\n",
       "        text-align: right;\n",
       "    }\n",
       "</style>\n",
       "<table border=\"1\" class=\"dataframe\">\n",
       "  <thead>\n",
       "    <tr style=\"text-align: right;\">\n",
       "      <th></th>\n",
       "      <th>url</th>\n",
       "      <th>timedelta</th>\n",
       "      <th>n_tokens_title</th>\n",
       "      <th>n_tokens_content</th>\n",
       "      <th>n_unique_tokens</th>\n",
       "      <th>n_non_stop_words</th>\n",
       "      <th>n_non_stop_unique_tokens</th>\n",
       "      <th>num_hrefs</th>\n",
       "      <th>num_self_hrefs</th>\n",
       "      <th>num_imgs</th>\n",
       "      <th>...</th>\n",
       "      <th>min_positive_polarity</th>\n",
       "      <th>max_positive_polarity</th>\n",
       "      <th>avg_negative_polarity</th>\n",
       "      <th>min_negative_polarity</th>\n",
       "      <th>max_negative_polarity</th>\n",
       "      <th>title_subjectivity</th>\n",
       "      <th>title_sentiment_polarity</th>\n",
       "      <th>abs_title_subjectivity</th>\n",
       "      <th>abs_title_sentiment_polarity</th>\n",
       "      <th>Popular</th>\n",
       "    </tr>\n",
       "  </thead>\n",
       "  <tbody>\n",
       "    <tr>\n",
       "      <th>0</th>\n",
       "      <td>http://mashable.com/2014/12/10/cia-torture-rep...</td>\n",
       "      <td>28.0</td>\n",
       "      <td>9.0</td>\n",
       "      <td>188.0</td>\n",
       "      <td>0.732620</td>\n",
       "      <td>1.0</td>\n",
       "      <td>0.844262</td>\n",
       "      <td>5.0</td>\n",
       "      <td>1.0</td>\n",
       "      <td>1.0</td>\n",
       "      <td>...</td>\n",
       "      <td>0.200000</td>\n",
       "      <td>0.80</td>\n",
       "      <td>-0.487500</td>\n",
       "      <td>-0.60</td>\n",
       "      <td>-0.250000</td>\n",
       "      <td>0.9</td>\n",
       "      <td>0.8</td>\n",
       "      <td>0.4</td>\n",
       "      <td>0.8</td>\n",
       "      <td>1</td>\n",
       "    </tr>\n",
       "    <tr>\n",
       "      <th>1</th>\n",
       "      <td>http://mashable.com/2013/10/18/bitlock-kicksta...</td>\n",
       "      <td>447.0</td>\n",
       "      <td>7.0</td>\n",
       "      <td>297.0</td>\n",
       "      <td>0.653199</td>\n",
       "      <td>1.0</td>\n",
       "      <td>0.815789</td>\n",
       "      <td>9.0</td>\n",
       "      <td>4.0</td>\n",
       "      <td>1.0</td>\n",
       "      <td>...</td>\n",
       "      <td>0.160000</td>\n",
       "      <td>0.50</td>\n",
       "      <td>-0.135340</td>\n",
       "      <td>-0.40</td>\n",
       "      <td>-0.050000</td>\n",
       "      <td>0.1</td>\n",
       "      <td>-0.1</td>\n",
       "      <td>0.4</td>\n",
       "      <td>0.1</td>\n",
       "      <td>0</td>\n",
       "    </tr>\n",
       "    <tr>\n",
       "      <th>2</th>\n",
       "      <td>http://mashable.com/2013/07/24/google-glass-po...</td>\n",
       "      <td>533.0</td>\n",
       "      <td>11.0</td>\n",
       "      <td>181.0</td>\n",
       "      <td>0.660377</td>\n",
       "      <td>1.0</td>\n",
       "      <td>0.775701</td>\n",
       "      <td>4.0</td>\n",
       "      <td>3.0</td>\n",
       "      <td>1.0</td>\n",
       "      <td>...</td>\n",
       "      <td>0.136364</td>\n",
       "      <td>1.00</td>\n",
       "      <td>0.000000</td>\n",
       "      <td>0.00</td>\n",
       "      <td>0.000000</td>\n",
       "      <td>0.3</td>\n",
       "      <td>1.0</td>\n",
       "      <td>0.2</td>\n",
       "      <td>1.0</td>\n",
       "      <td>0</td>\n",
       "    </tr>\n",
       "    <tr>\n",
       "      <th>3</th>\n",
       "      <td>http://mashable.com/2013/11/21/these-are-the-m...</td>\n",
       "      <td>413.0</td>\n",
       "      <td>12.0</td>\n",
       "      <td>781.0</td>\n",
       "      <td>0.497409</td>\n",
       "      <td>1.0</td>\n",
       "      <td>0.677350</td>\n",
       "      <td>10.0</td>\n",
       "      <td>3.0</td>\n",
       "      <td>1.0</td>\n",
       "      <td>...</td>\n",
       "      <td>0.100000</td>\n",
       "      <td>1.00</td>\n",
       "      <td>-0.195701</td>\n",
       "      <td>-0.40</td>\n",
       "      <td>-0.071429</td>\n",
       "      <td>0.0</td>\n",
       "      <td>0.0</td>\n",
       "      <td>0.5</td>\n",
       "      <td>0.0</td>\n",
       "      <td>0</td>\n",
       "    </tr>\n",
       "    <tr>\n",
       "      <th>4</th>\n",
       "      <td>http://mashable.com/2014/02/11/parking-ticket-...</td>\n",
       "      <td>331.0</td>\n",
       "      <td>8.0</td>\n",
       "      <td>177.0</td>\n",
       "      <td>0.685714</td>\n",
       "      <td>1.0</td>\n",
       "      <td>0.830357</td>\n",
       "      <td>3.0</td>\n",
       "      <td>2.0</td>\n",
       "      <td>1.0</td>\n",
       "      <td>...</td>\n",
       "      <td>0.100000</td>\n",
       "      <td>0.55</td>\n",
       "      <td>-0.175000</td>\n",
       "      <td>-0.25</td>\n",
       "      <td>-0.100000</td>\n",
       "      <td>0.0</td>\n",
       "      <td>0.0</td>\n",
       "      <td>0.5</td>\n",
       "      <td>0.0</td>\n",
       "      <td>0</td>\n",
       "    </tr>\n",
       "  </tbody>\n",
       "</table>\n",
       "<p>5 rows × 61 columns</p>\n",
       "</div>"
      ],
      "text/plain": [
       "                                                 url  timedelta  \\\n",
       "0  http://mashable.com/2014/12/10/cia-torture-rep...       28.0   \n",
       "1  http://mashable.com/2013/10/18/bitlock-kicksta...      447.0   \n",
       "2  http://mashable.com/2013/07/24/google-glass-po...      533.0   \n",
       "3  http://mashable.com/2013/11/21/these-are-the-m...      413.0   \n",
       "4  http://mashable.com/2014/02/11/parking-ticket-...      331.0   \n",
       "\n",
       "   n_tokens_title  n_tokens_content  n_unique_tokens  n_non_stop_words  \\\n",
       "0             9.0             188.0         0.732620               1.0   \n",
       "1             7.0             297.0         0.653199               1.0   \n",
       "2            11.0             181.0         0.660377               1.0   \n",
       "3            12.0             781.0         0.497409               1.0   \n",
       "4             8.0             177.0         0.685714               1.0   \n",
       "\n",
       "   n_non_stop_unique_tokens  num_hrefs  num_self_hrefs  num_imgs  ...  \\\n",
       "0                  0.844262        5.0             1.0       1.0  ...   \n",
       "1                  0.815789        9.0             4.0       1.0  ...   \n",
       "2                  0.775701        4.0             3.0       1.0  ...   \n",
       "3                  0.677350       10.0             3.0       1.0  ...   \n",
       "4                  0.830357        3.0             2.0       1.0  ...   \n",
       "\n",
       "   min_positive_polarity  max_positive_polarity  avg_negative_polarity  \\\n",
       "0               0.200000                   0.80              -0.487500   \n",
       "1               0.160000                   0.50              -0.135340   \n",
       "2               0.136364                   1.00               0.000000   \n",
       "3               0.100000                   1.00              -0.195701   \n",
       "4               0.100000                   0.55              -0.175000   \n",
       "\n",
       "   min_negative_polarity  max_negative_polarity  title_subjectivity  \\\n",
       "0                  -0.60              -0.250000                 0.9   \n",
       "1                  -0.40              -0.050000                 0.1   \n",
       "2                   0.00               0.000000                 0.3   \n",
       "3                  -0.40              -0.071429                 0.0   \n",
       "4                  -0.25              -0.100000                 0.0   \n",
       "\n",
       "   title_sentiment_polarity  abs_title_subjectivity  \\\n",
       "0                       0.8                     0.4   \n",
       "1                      -0.1                     0.4   \n",
       "2                       1.0                     0.2   \n",
       "3                       0.0                     0.5   \n",
       "4                       0.0                     0.5   \n",
       "\n",
       "   abs_title_sentiment_polarity  Popular  \n",
       "0                           0.8        1  \n",
       "1                           0.1        0  \n",
       "2                           1.0        0  \n",
       "3                           0.0        0  \n",
       "4                           0.0        0  \n",
       "\n",
       "[5 rows x 61 columns]"
      ]
     },
     "execution_count": 543,
     "metadata": {},
     "output_type": "execute_result"
    }
   ],
   "source": [
    "df = pd.read_csv('mashable.csv', index_col=0)\n",
    "df.head()"
   ]
  },
  {
   "cell_type": "code",
   "execution_count": 365,
   "metadata": {},
   "outputs": [
    {
     "data": {
      "text/plain": [
       "(6000, 61)"
      ]
     },
     "execution_count": 365,
     "metadata": {},
     "output_type": "execute_result"
    }
   ],
   "source": [
    "df.shape"
   ]
  },
  {
   "cell_type": "code",
   "execution_count": 793,
   "metadata": {},
   "outputs": [],
   "source": [
    "X = df.drop(['url', 'Popular'], axis=1)\n",
    "y = df['Popular']"
   ]
  },
  {
   "cell_type": "code",
   "execution_count": 700,
   "metadata": {},
   "outputs": [
    {
     "data": {
      "text/plain": [
       "0.5"
      ]
     },
     "execution_count": 700,
     "metadata": {},
     "output_type": "execute_result"
    }
   ],
   "source": [
    "y.mean()"
   ]
  },
  {
   "cell_type": "code",
   "execution_count": 794,
   "metadata": {},
   "outputs": [],
   "source": [
    "# train/test split\n",
    "from sklearn.model_selection import train_test_split\n",
    "X_train, X_test, y_train, y_test = train_test_split(X, y, random_state=1)"
   ]
  },
  {
   "cell_type": "markdown",
   "metadata": {},
   "source": [
    "# Exercise 7.6\n",
    "\n",
    "Estimate a Decision Tree Classifier and a Logistic Regression\n",
    "\n",
    "Evaluate using the following metrics:\n",
    "* Accuracy\n",
    "* F1-Score"
   ]
  },
  {
   "cell_type": "code",
   "execution_count": 702,
   "metadata": {},
   "outputs": [],
   "source": [
    "from sklearn.linear_model import LogisticRegression\n",
    "from sklearn.tree import DecisionTreeClassifier \n",
    "\n",
    "models = {'lr': LogisticRegression(),\n",
    "          'dt': DecisionTreeClassifier()}"
   ]
  },
  {
   "cell_type": "code",
   "execution_count": 703,
   "metadata": {},
   "outputs": [],
   "source": [
    "\n",
    "for model in models.keys():\n",
    "    models[model].fit(X_train, y_train)"
   ]
  },
  {
   "cell_type": "code",
   "execution_count": 704,
   "metadata": {},
   "outputs": [],
   "source": [
    "# predict test for each model\n",
    "y_pred = pd.DataFrame(index=X_test.index, columns=models.keys())\n",
    "for model in models.keys():\n",
    "    y_pred[model] = models[model].predict(X_test)"
   ]
  },
  {
   "cell_type": "code",
   "execution_count": 705,
   "metadata": {},
   "outputs": [
    {
     "data": {
      "text/plain": [
       "dict_keys(['lr', 'dt'])"
      ]
     },
     "execution_count": 705,
     "metadata": {},
     "output_type": "execute_result"
    }
   ],
   "source": [
    "models.keys()"
   ]
  },
  {
   "cell_type": "code",
   "execution_count": 706,
   "metadata": {},
   "outputs": [
    {
     "name": "stdout",
     "output_type": "stream",
     "text": [
      "lr Accuracy: 0.6273333333333333\n",
      "lr F1 Score: 0.6104529616724739\n",
      "dt Accuracy: 0.5393333333333333\n",
      "dt F1 Score: 0.5390260173448966\n"
     ]
    }
   ],
   "source": [
    "# Evaluate each model\n",
    "from sklearn.metrics import accuracy_score\n",
    "from sklearn.metrics import f1_score\n",
    "\n",
    "for model in models.keys():\n",
    "    print(model, \"Accuracy:\", accuracy_score(y_pred[model], y_test))\n",
    "    print(model, \"F1 Score:\", f1_score(y_pred[model], y_test))"
   ]
  },
  {
   "cell_type": "markdown",
   "metadata": {},
   "source": [
    "# Exercise 7.7\n",
    "\n",
    "Estimate 300 bagged samples\n",
    "\n",
    "Estimate the following set of classifiers:\n",
    "\n",
    "* 100 Decision Trees where max_depth=None\n",
    "* 100 Decision Trees where max_depth=2\n",
    "* 100 Logistic Regressions"
   ]
  },
  {
   "cell_type": "code",
   "execution_count": 795,
   "metadata": {},
   "outputs": [
    {
     "data": {
      "text/plain": [
       "[array([3582, 3454, 1346, ..., 2409, 3823,  992]),\n",
       " array([ 554, 1524, 1802, ..., 1314,  549, 1303]),\n",
       " array([3259,  595,  126, ...,  246, 2641,  580]),\n",
       " array([ 918, 1126,  281, ..., 3702, 2706, 2033]),\n",
       " array([1803, 3967,  531, ..., 2444, 1572, 3130]),\n",
       " array([1128, 3182, 4095, ..., 2716, 2418, 3709]),\n",
       " array([1745, 2778, 1040, ..., 1783, 3083, 1198]),\n",
       " array([2626, 1128,   88, ..., 1329,  505, 2690]),\n",
       " array([3135,   69, 3069, ..., 1821, 1977, 2603]),\n",
       " array([2047, 1710,  383, ..., 3887, 2554, 1343]),\n",
       " array([4403, 4011, 2930, ..., 2299,  851, 3847]),\n",
       " array([ 823, 2283, 1332, ..., 2728, 4452, 1079]),\n",
       " array([ 973, 3775, 4336, ..., 1340,   79, 1447]),\n",
       " array([ 116, 2089, 3768, ..., 3581, 2923, 1962]),\n",
       " array([1320, 3067, 3040, ...,  812, 2636, 3730]),\n",
       " array([2392, 3749, 3394, ..., 3691, 2789,  394]),\n",
       " array([4494, 2590, 2980, ..., 4198,   57, 3783]),\n",
       " array([ 507, 4234,  246, ..., 1597, 4450, 2199]),\n",
       " array([3410, 4243,  402, ..., 1381, 3379, 2753]),\n",
       " array([2762, 4454, 2143, ..., 1559, 3928,   48]),\n",
       " array([3108, 2501, 1075, ..., 1744, 1524, 3641]),\n",
       " array([3276,  805,  461, ..., 3723, 4185, 1349]),\n",
       " array([ 908, 4096, 2975, ..., 1276, 4243, 3384]),\n",
       " array([2217, 2069, 2928, ..., 2667, 3344, 4330]),\n",
       " array([1759, 2390, 1449, ..., 3945, 2268,   87]),\n",
       " array([1958, 1692, 3358, ..., 2505, 3252, 3129]),\n",
       " array([3505, 3461, 2698, ..., 1985, 1784, 2273]),\n",
       " array([2766, 4129, 3072, ..., 3152, 4323,  555]),\n",
       " array([3054, 1942, 1086, ..., 3290, 1537, 1451]),\n",
       " array([3367, 3665, 4219, ..., 1657, 1071, 3722]),\n",
       " array([ 956, 1512,  913, ..., 4159, 4188, 2270]),\n",
       " array([4129, 3535, 2283, ..., 2469, 2514, 3623]),\n",
       " array([2199,  130, 1236, ..., 3457,  841, 4034]),\n",
       " array([3278, 2133, 4021, ...,  301, 1862, 3388]),\n",
       " array([1087, 2912, 2174, ..., 1121, 1602, 2899]),\n",
       " array([ 593, 3242, 1058, ...,  313, 3304, 2338]),\n",
       " array([ 743, 1494, 3980, ..., 2445, 2766, 2085]),\n",
       " array([2297, 3334, 3746, ...,  804, 1878,  472]),\n",
       " array([4050, 3252, 3987, ...,  917, 2560, 3221]),\n",
       " array([  67,   57, 3878, ...,  127, 2406, 2895]),\n",
       " array([ 672, 3079, 2553, ..., 3007, 4092, 3564]),\n",
       " array([ 208, 1102, 3407, ..., 3005, 1029, 1129]),\n",
       " array([2982, 1681, 3648, ..., 3431, 1507, 2192]),\n",
       " array([ 934, 1174, 1922, ..., 1534, 1266, 2823]),\n",
       " array([2696, 2094, 3130, ..., 3929, 1574, 3347]),\n",
       " array([4104, 4099, 3045, ..., 3934, 3166, 4046]),\n",
       " array([1439,  825, 1844, ..., 3879, 3184, 3102]),\n",
       " array([ 965, 3068,   34, ...,  895, 4058, 4040]),\n",
       " array([1137,  884, 3621, ..., 4087,  630,  789]),\n",
       " array([4234, 3847, 2686, ..., 2031, 3995, 2644]),\n",
       " array([ 866, 3037, 1633, ..., 3446, 3050,  532]),\n",
       " array([2983,  964, 2487, ..., 3033, 3112,  837]),\n",
       " array([1901, 3417, 2984, ..., 3511, 3457,  965]),\n",
       " array([ 890, 4300,  802, ..., 1471, 2244,  521]),\n",
       " array([3110, 2185, 3759, ..., 3820, 3379, 4107]),\n",
       " array([3529, 2065,  780, ...,  886, 4042, 4470]),\n",
       " array([4022, 1820, 3931, ..., 2005, 1148, 1459]),\n",
       " array([4145, 4125, 4249, ...,  335, 1881, 1577]),\n",
       " array([3906,  122, 4492, ...,  622, 3626, 3348]),\n",
       " array([ 746,  715, 3157, ..., 2582, 3096, 1327]),\n",
       " array([2353, 3327, 2420, ..., 1986, 2053, 3292]),\n",
       " array([3069, 1468, 4240, ..., 4259, 3670, 2013]),\n",
       " array([3489, 2628, 3634, ..., 3236,  913,  689]),\n",
       " array([3967, 4336, 4445, ..., 2672, 3024, 3965]),\n",
       " array([3862, 2580,  290, ..., 3013,  241, 3240]),\n",
       " array([ 557, 1360, 3353, ..., 2287,  221, 1352]),\n",
       " array([2500, 1016, 2421, ...,  272,  538, 1309]),\n",
       " array([3641, 1693,  851, ..., 3955, 2054,  510]),\n",
       " array([4343, 3546, 4090, ..., 4312, 3821, 1573]),\n",
       " array([2665, 1605, 2141, ..., 3010, 3191,  193]),\n",
       " array([2662, 3481, 3230, ..., 3111, 2475, 1455]),\n",
       " array([1143, 3903, 1488, ..., 2045, 2715, 3699]),\n",
       " array([1871, 2974, 2030, ..., 2076, 1042, 1360]),\n",
       " array([1044, 3056, 4370, ..., 4005, 3006, 3502]),\n",
       " array([3985, 3789, 3194, ..., 2805,  770,  307]),\n",
       " array([ 219, 1954, 2983, ...,  454,   29,  652]),\n",
       " array([2520, 2218, 3517, ..., 2979, 4083, 2963]),\n",
       " array([3876,  279,  195, ..., 3040, 3524, 4274]),\n",
       " array([ 332, 2354, 2111, ..., 3457, 3164, 3754]),\n",
       " array([ 351, 1993, 2490, ..., 4329, 3245,   74]),\n",
       " array([3009,  700, 4413, ..., 2885,  469, 2525]),\n",
       " array([1918, 3495, 1806, ..., 1681, 1119, 2579]),\n",
       " array([1457, 3873, 3625, ...,  292, 1617, 2704]),\n",
       " array([2765, 1961, 3774, ..., 1939, 3660, 2787]),\n",
       " array([3168,    7, 1643, ...,  573, 2148, 3946]),\n",
       " array([ 633, 4041, 3657, ..., 1388, 4409,  459]),\n",
       " array([3944,  934, 1205, ..., 3454, 1450,  488]),\n",
       " array([2546,  549, 4097, ..., 1567, 1574,  761]),\n",
       " array([ 744, 2022, 2810, ...,  101, 1864,   21]),\n",
       " array([2919, 3696,  996, ..., 1736, 2176, 2505]),\n",
       " array([ 390, 3634, 4129, ..., 2781, 1676,  704]),\n",
       " array([2874, 1968, 3259, ..., 2569, 1075,  507]),\n",
       " array([4246, 1650, 2426, ..., 1896, 1364, 2442]),\n",
       " array([3373, 2868, 4256, ..., 4073,  322, 3438]),\n",
       " array([ 276, 1633, 1284, ..., 4011, 1248, 2454]),\n",
       " array([3273, 1744, 4275, ..., 3152, 2916, 3832]),\n",
       " array([ 158, 4331,  411, ...,   71, 3079,  615]),\n",
       " array([3930,  433, 4254, ..., 3242, 2987, 3196]),\n",
       " array([ 726, 1095, 2465, ..., 3670, 3252, 2499]),\n",
       " array([3261, 1056, 3643, ..., 2146, 1642, 1700]),\n",
       " array([2922, 2894, 2332, ..., 1500, 1206, 1528]),\n",
       " array([1676, 3065,  760, ..., 1639,  703, 1635]),\n",
       " array([ 488, 3390,  942, ..., 1571, 2153, 1302]),\n",
       " array([1491,  675, 1145, ..., 1293,  284, 3003]),\n",
       " array([4017, 2533,  946, ..., 2688, 1848,  975]),\n",
       " array([2840, 1429,  814, ..., 2180, 2212, 1823]),\n",
       " array([3114, 2254, 1468, ...,  890, 1279, 3276]),\n",
       " array([1261,  672, 3863, ..., 2774, 1371, 2670]),\n",
       " array([3434, 3357, 2120, ..., 2442, 1286, 3262]),\n",
       " array([2367, 3790, 4021, ..., 1850, 3997, 2023]),\n",
       " array([2899, 3244,  395, ..., 2848,  924, 1164]),\n",
       " array([3592,   62,  456, ...,  821, 2087, 2901]),\n",
       " array([2513, 1002, 3506, ..., 2823, 3771, 1496]),\n",
       " array([4409,    8, 2883, ..., 1318, 3528, 2661]),\n",
       " array([1241, 2910, 2011, ..., 4010,  401, 1119]),\n",
       " array([2524,  929,  534, ..., 3874, 3246, 3731]),\n",
       " array([3420, 1649, 1048, ..., 1188, 1752, 4161]),\n",
       " array([2237, 3518,  221, ..., 1216, 1696,  539]),\n",
       " array([ 358, 2521, 1678, ..., 3532, 2676, 1236]),\n",
       " array([2914, 1013, 1112, ..., 3296, 4008, 2578]),\n",
       " array([3570,  874, 4229, ..., 2407, 4320, 3489]),\n",
       " array([ 867,  591, 1844, ..., 1861, 1514, 1230]),\n",
       " array([3227, 2561,  740, ..., 4236,  720, 4397]),\n",
       " array([ 807,  417, 3543, ...,  876, 2541, 2637]),\n",
       " array([2976, 1784, 3368, ..., 3527,  822,  558]),\n",
       " array([1159, 1239, 3108, ..., 2519, 3567, 4373]),\n",
       " array([2090,  108, 2354, ..., 3245,  669, 2538]),\n",
       " array([3630,  523, 4440, ..., 3879, 3703, 2642]),\n",
       " array([1416,   95, 1072, ..., 3981, 2246, 2765]),\n",
       " array([2003, 1757, 1788, ..., 4242, 3684,   84]),\n",
       " array([4005, 1392, 3394, ..., 3590, 3731, 4341]),\n",
       " array([1978, 1505, 2771, ..., 1143, 4472, 3748]),\n",
       " array([4137, 3346, 3159, ...,  880,  112, 4419]),\n",
       " array([  77, 3799, 1234, ..., 2062, 2364,  309]),\n",
       " array([1735, 2588, 1073, ..., 1629, 2023, 2905]),\n",
       " array([2630, 3350, 1650, ..., 2200, 2411, 4199]),\n",
       " array([3411,  888, 3942, ..., 3338, 1792, 1884]),\n",
       " array([1160, 3517, 3204, ..., 3430, 2815,  523]),\n",
       " array([1132, 4362, 1876, ..., 4379, 1887, 1952]),\n",
       " array([2916, 3572, 2809, ..., 4078, 3810, 3278]),\n",
       " array([ 835,  957, 4319, ..., 3094, 3790, 3525]),\n",
       " array([1048, 4469,  973, ..., 3983, 2854, 2871]),\n",
       " array([1084,  283, 2591, ..., 3905,  499, 2954]),\n",
       " array([2307, 3776, 2063, ...,  403, 1152,  604]),\n",
       " array([ 868, 3625, 3925, ..., 3044,  873, 3480]),\n",
       " array([ 670, 1332,  921, ..., 2169, 3585, 1176]),\n",
       " array([ 385, 2182, 1300, ..., 2255, 1987, 4253]),\n",
       " array([3242, 3840,  346, ..., 2628,   56, 1199]),\n",
       " array([1282,  443, 3246, ..., 1864, 1160, 4304]),\n",
       " array([3775, 1376, 3321, ...,  172, 3529,  934]),\n",
       " array([4389,  403, 2071, ..., 2517, 1211,  780]),\n",
       " array([2324, 2250,  635, ..., 4028, 2407,  501]),\n",
       " array([2358, 3459,  775, ..., 2282, 3788, 3712]),\n",
       " array([1838, 1860, 3885, ...,  409, 3509,  207]),\n",
       " array([2300, 2853, 3747, ...,   91,   57, 1654]),\n",
       " array([4079,  577, 3684, ..., 3955, 2634, 1984]),\n",
       " array([  17, 1598,  451, ..., 2943, 1961, 2656]),\n",
       " array([1130, 2276, 3827, ..., 2774, 3312, 3557]),\n",
       " array([2987, 1848, 3892, ...,   71, 4054,  368]),\n",
       " array([3486,  267, 2053, ...,  222, 2078, 4002]),\n",
       " array([3031, 1404, 2478, ..., 4370, 3759,  175]),\n",
       " array([ 524, 3839, 1020, ..., 1252, 4390, 1345]),\n",
       " array([3278,  742, 3362, ...,  111, 1483,  477]),\n",
       " array([2005, 2494, 1008, ..., 1060, 3426, 3550]),\n",
       " array([1406, 1558,  704, ..., 2584, 4348, 4163]),\n",
       " array([ 801,  923, 3030, ..., 1708, 1793, 2052]),\n",
       " array([1784, 3890, 1767, ..., 1066, 4315, 3494]),\n",
       " array([2821, 3930, 2762, ..., 3652, 3390,  642]),\n",
       " array([2760, 4027, 4139, ..., 1985, 2988, 3169]),\n",
       " array([ 156, 3431, 1755, ..., 4465, 4016,  293]),\n",
       " array([4092, 3358, 3477, ..., 3454, 4111,  689]),\n",
       " array([2034, 1765,  680, ..., 1418, 2467,  881]),\n",
       " array([1298,  368, 3983, ..., 2970, 1905,  824]),\n",
       " array([3928,  709, 4002, ..., 1068,  224, 4393]),\n",
       " array([3139, 3360, 3327, ..., 1085,  717,  192]),\n",
       " array([2481, 3319,  708, ...,  142, 1948, 1801]),\n",
       " array([2541, 3548, 1051, ..., 1912, 1232, 3040]),\n",
       " array([ 671,  733,   95, ..., 4432,  674, 3746]),\n",
       " array([1648,  661, 3348, ..., 2509, 3392, 1446]),\n",
       " array([2454,  884, 3003, ..., 4222, 3140,  744]),\n",
       " array([2182, 2169, 3841, ..., 4438,  510, 2302]),\n",
       " array([2895, 1565, 2021, ..., 3335, 4293, 1076]),\n",
       " array([1016, 1899, 2221, ..., 1100, 4050, 4296]),\n",
       " array([4110,  977, 3620, ..., 2532,  688, 2363]),\n",
       " array([3488, 3576, 1760, ...,  412, 1085, 1086]),\n",
       " array([1563, 2010,  698, ...,  136, 4440,  933]),\n",
       " array([4128, 1248, 3343, ..., 1695, 3328, 3125]),\n",
       " array([4278, 3189, 2780, ..., 2740, 3865, 4373]),\n",
       " array([2623,   60, 1929, ...,  878,  552,    4]),\n",
       " array([3791, 1388, 4360, ..., 1377,  933,  417]),\n",
       " array([4406,  824,  699, ...,  728, 3001, 2432]),\n",
       " array([2958,  757, 3444, ..., 2221, 1070,  435]),\n",
       " array([2726, 2541, 2139, ..., 3551, 1110, 1287]),\n",
       " array([2349, 3746, 3804, ..., 1937, 1756, 1656]),\n",
       " array([1521, 3153, 1768, ..., 2935,   52,  244]),\n",
       " array([2896, 1940, 4155, ..., 1178, 4474, 3098]),\n",
       " array([1206, 1829,  634, ..., 2238, 1654,  546]),\n",
       " array([ 640, 2428,  195, ..., 2363, 3639, 3966]),\n",
       " array([1993, 3773, 3586, ...,  265, 1989,  535]),\n",
       " array([2142, 1397, 3212, ...,  506, 1362,  611]),\n",
       " array([3389,  447,  776, ..., 3635, 1866, 2717]),\n",
       " array([3757, 2004, 4435, ...,  167,  735, 2454]),\n",
       " array([ 890, 4383, 4148, ..., 4058, 3451, 2968]),\n",
       " array([2529, 1414,  948, ...,  706, 1738, 3943]),\n",
       " array([1903, 4193, 1863, ...,  391, 1817, 1040]),\n",
       " array([1236, 3470,  340, ..., 4091, 3399,  254]),\n",
       " array([2599, 1754, 3035, ..., 1723, 2794, 2921]),\n",
       " array([1667, 2536, 1133, ...,  213,  449, 1695]),\n",
       " array([4350, 2131, 1585, ..., 3077, 4264,   17]),\n",
       " array([3862, 3438,  702, ..., 2414, 3347, 1427]),\n",
       " array([2755, 3783, 2359, ...,  748,  906, 3914]),\n",
       " array([2144, 3361, 2750, ..., 3094, 3701, 1396]),\n",
       " array([ 621,  428, 1707, ..., 1799,  682,  757]),\n",
       " array([3975, 3104, 1273, ..., 1952, 3087, 2158]),\n",
       " array([ 369,  353,  112, ..., 3910,  994, 2282]),\n",
       " array([  51, 2031, 4172, ..., 1568, 4448, 1070]),\n",
       " array([2598, 3652, 4146, ..., 4171, 1415,   86]),\n",
       " array([   1, 2436, 4422, ..., 1740, 3879, 2695]),\n",
       " array([1131, 2856, 2648, ...,  445, 1957, 1408]),\n",
       " array([ 968, 1747, 2432, ..., 2072,  359, 3239]),\n",
       " array([ 158, 2648,   75, ...,  772, 3884,  427]),\n",
       " array([2173, 1000, 4212, ..., 3985, 3635, 2683]),\n",
       " array([4037, 2738, 4043, ...,   15, 1719, 1908]),\n",
       " array([4199, 1414, 4189, ...,  926,  624,  982]),\n",
       " array([1762, 2897, 2018, ..., 2387, 4108, 1879]),\n",
       " array([1383, 3576, 3272, ..., 1628, 3228,  278]),\n",
       " array([2630, 1440, 4218, ..., 3601, 3354, 2241]),\n",
       " array([2865,  585,  719, ...,  486, 4113,  926]),\n",
       " array([1822, 3416, 3946, ..., 1584, 1554,  656]),\n",
       " array([1217,  644, 2893, ...,  367, 2293, 2447]),\n",
       " array([1067, 1325,  488, ..., 3406, 2125, 1658]),\n",
       " array([3264, 1177, 1759, ..., 3724, 3703,  336]),\n",
       " array([4209, 1985, 4033, ..., 1272, 4101, 4163]),\n",
       " array([2735, 1736,  617, ...,  729,  994, 3798]),\n",
       " array([2467, 1122,  253, ..., 1572, 3748, 1825]),\n",
       " array([2175, 2431, 2195, ...,  758, 3396, 2357]),\n",
       " array([ 192, 2029,   56, ..., 2384, 2458, 4113]),\n",
       " array([1695,  797, 3443, ..., 4124, 3160, 3149]),\n",
       " array([1966, 3066,  453, ..., 2694, 2133,  626]),\n",
       " array([1422, 2307, 1693, ..., 1640, 4222, 4141]),\n",
       " array([ 882, 1900, 1689, ...,  505, 1270, 2063]),\n",
       " array([ 309,   99, 1837, ..., 1723, 4115, 1710]),\n",
       " array([2154, 3121, 1891, ...,   97,  579, 1003]),\n",
       " array([ 326, 3141,  806, ..., 2925, 3126,  261]),\n",
       " array([1197, 2919, 1919, ..., 2390, 4406,  492]),\n",
       " array([4294, 2422,  931, ..., 1624, 4171, 3678]),\n",
       " array([4089, 4102, 2357, ...,  242, 3447, 1746]),\n",
       " array([1697, 1005,  391, ..., 1370, 2011, 1955]),\n",
       " array([2796,  393, 3671, ..., 2052, 1524, 1302]),\n",
       " array([1557, 1255, 2227, ..., 4240,  102, 2980]),\n",
       " array([1550, 3662, 4323, ..., 1962,  288, 3501]),\n",
       " array([2742, 1768, 4488, ..., 2751, 2918, 2027]),\n",
       " array([2662,  471, 2927, ..., 2460, 4392, 3815]),\n",
       " array([1126, 2338, 3947, ..., 1966, 2255, 1152]),\n",
       " array([ 598, 1287, 3503, ..., 1615, 4399, 1398]),\n",
       " array([3539,   98, 3382, ..., 2498, 3023,  712]),\n",
       " array([4305, 1046, 4378, ...,  262,  495, 2792]),\n",
       " array([2380, 1960, 1338, ..., 3628,  880, 4127]),\n",
       " array([4256, 2927, 2004, ..., 4253, 4378, 1542]),\n",
       " array([   4, 3040, 2150, ..., 2350, 2988, 2379]),\n",
       " array([2724, 3112, 1445, ..., 2483,  148, 3239]),\n",
       " array([1064, 1097, 2894, ..., 1449,  559, 1237]),\n",
       " array([1041, 2945, 2733, ..., 3981, 3509, 4161]),\n",
       " array([2888, 1470, 2363, ...,  112, 2635,  223]),\n",
       " array([2457, 2291, 2197, ..., 1050, 4461, 4042]),\n",
       " array([  15, 4486,  402, ..., 2837, 2949,  731]),\n",
       " array([3785, 2787,  950, ...,  910, 2062, 3056]),\n",
       " array([1219, 1688,  573, ..., 4064, 1800, 3687]),\n",
       " array([2432, 3418, 1001, ..., 2955, 1455, 1508]),\n",
       " array([2033,  168, 3794, ..., 4259, 3579, 4165]),\n",
       " array([1255, 3778, 1155, ..., 1590, 2019, 4108]),\n",
       " array([1133, 1078, 3881, ..., 3605, 4160,   39]),\n",
       " array([ 721, 3881, 1969, ..., 2176, 3165, 3352]),\n",
       " array([3719, 3138, 3558, ...,   81, 1657, 2542]),\n",
       " array([2512, 3504, 2183, ..., 4062, 4012, 2315]),\n",
       " array([4202, 2525, 2961, ..., 3237, 2141, 3960]),\n",
       " array([3940, 4170,  769, ..., 4259, 2448, 1228]),\n",
       " array([ 518, 1194, 4309, ..., 2992, 2957, 4260]),\n",
       " array([2559, 3659,  104, ..., 2904, 2438, 3228]),\n",
       " array([1299, 1283,  747, ..., 4003, 1542, 2275]),\n",
       " array([4310, 2429, 1029, ..., 4117, 1711, 3552]),\n",
       " array([1674, 1766,  609, ...,  581, 1930, 1892]),\n",
       " array([  60,  168, 1643, ..., 2511,   26, 3047]),\n",
       " array([3240, 4471, 4481, ..., 3794, 4111, 3773]),\n",
       " array([1749,  445, 3943, ..., 4318,  780, 3308]),\n",
       " array([2497, 2831, 4043, ...,  593, 2895, 1525]),\n",
       " array([2243, 3423, 3058, ..., 1317, 2578,  293]),\n",
       " array([2158,  695,  212, ..., 2367, 4272, 3764]),\n",
       " array([1928, 4216,  723, ..., 3874,  559, 2743]),\n",
       " array([ 163, 3698, 2990, ..., 1608, 2618, 1955]),\n",
       " array([3312, 1709, 2299, ..., 4143, 2990, 1352]),\n",
       " array([3567, 4047, 4470, ..., 2794, 4255, 1151]),\n",
       " array([ 237,  809, 1845, ..., 1041, 3436, 1474]),\n",
       " array([1760, 2550, 1802, ..., 2553, 4434, 3287]),\n",
       " array([1839,  794, 1613, ..., 2972, 2209, 3014]),\n",
       " array([ 194, 1233,  842, ...,  515, 2253,  341]),\n",
       " array([2473, 2509,  758, ..., 1275, 3469, 2516]),\n",
       " array([ 963, 2143, 3161, ..., 3031, 2354, 1115]),\n",
       " array([1279, 3572, 3229, ..., 1909,  696, 1760]),\n",
       " array([ 688, 4455, 4445, ..., 3956, 2106, 3232])]"
      ]
     },
     "execution_count": 795,
     "metadata": {},
     "output_type": "execute_result"
    }
   ],
   "source": [
    "# set a seed for reproducibility\n",
    "np.random.seed(123)\n",
    "\n",
    "n_samples = X_train.shape[0]\n",
    "n_B = 300\n",
    "\n",
    "# create ten bootstrap samples (will be used to select rows from the DataFrame)\n",
    "samples = [np.random.choice(a=n_samples, size=n_samples, replace=True) for _ in range(1, n_B +1 )]\n",
    "samples"
   ]
  },
  {
   "cell_type": "code",
   "execution_count": 796,
   "metadata": {},
   "outputs": [],
   "source": [
    "import warnings\n",
    "warnings.filterwarnings('ignore')\n",
    "\n",
    "# DataFrame for storing predicted price from each tree\n",
    "y_pred = pd.DataFrame(index=X_test.index, columns=[list(range(n_B))])\n",
    "\n",
    "# grow one tree for each bootstrap sample and make predictions on testing data\n",
    "\n",
    "models = {}\n",
    "for i, sample in enumerate(samples):\n",
    "    \n",
    "    if i < 100:\n",
    "        models[i] = DecisionTreeClassifier(max_depth=None, random_state=123)\n",
    "        models[i].fit(X_train.iloc[sample,:], y_train.iloc[sample])\n",
    "        y_pred[i] = models[i].predict(X_test)\n",
    "    if  100 <= i < 200:\n",
    "        models[i] = DecisionTreeClassifier(max_depth=2, random_state=123)\n",
    "        models[i].fit(X_train.iloc[sample,:], y_train.iloc[sample])      \n",
    "        y_pred[i] = models[i].predict(X_test)\n",
    "    if  i >= 200: \n",
    "        models[i] = LogisticRegression()\n",
    "        models[i].fit(X_train.iloc[sample,:], y_train.iloc[sample])  \n",
    "        y_pred[i] = models[i].predict(X_test)"
   ]
  },
  {
   "cell_type": "code",
   "execution_count": 797,
   "metadata": {},
   "outputs": [
    {
     "data": {
      "text/html": [
       "<div>\n",
       "<style scoped>\n",
       "    .dataframe tbody tr th:only-of-type {\n",
       "        vertical-align: middle;\n",
       "    }\n",
       "\n",
       "    .dataframe tbody tr th {\n",
       "        vertical-align: top;\n",
       "    }\n",
       "\n",
       "    .dataframe thead tr th {\n",
       "        text-align: left;\n",
       "    }\n",
       "</style>\n",
       "<table border=\"1\" class=\"dataframe\">\n",
       "  <thead>\n",
       "    <tr>\n",
       "      <th></th>\n",
       "      <th>0</th>\n",
       "      <th>1</th>\n",
       "      <th>2</th>\n",
       "      <th>3</th>\n",
       "      <th>4</th>\n",
       "      <th>5</th>\n",
       "      <th>6</th>\n",
       "      <th>7</th>\n",
       "      <th>8</th>\n",
       "      <th>9</th>\n",
       "      <th>...</th>\n",
       "      <th>290</th>\n",
       "      <th>291</th>\n",
       "      <th>292</th>\n",
       "      <th>293</th>\n",
       "      <th>294</th>\n",
       "      <th>295</th>\n",
       "      <th>296</th>\n",
       "      <th>297</th>\n",
       "      <th>298</th>\n",
       "      <th>299</th>\n",
       "    </tr>\n",
       "  </thead>\n",
       "  <tbody>\n",
       "    <tr>\n",
       "      <th>1483</th>\n",
       "      <td>1</td>\n",
       "      <td>1</td>\n",
       "      <td>0</td>\n",
       "      <td>0</td>\n",
       "      <td>1</td>\n",
       "      <td>1</td>\n",
       "      <td>0</td>\n",
       "      <td>1</td>\n",
       "      <td>1</td>\n",
       "      <td>1</td>\n",
       "      <td>...</td>\n",
       "      <td>1</td>\n",
       "      <td>1</td>\n",
       "      <td>1</td>\n",
       "      <td>1</td>\n",
       "      <td>1</td>\n",
       "      <td>1</td>\n",
       "      <td>1</td>\n",
       "      <td>1</td>\n",
       "      <td>1</td>\n",
       "      <td>1</td>\n",
       "    </tr>\n",
       "    <tr>\n",
       "      <th>2185</th>\n",
       "      <td>1</td>\n",
       "      <td>1</td>\n",
       "      <td>1</td>\n",
       "      <td>1</td>\n",
       "      <td>0</td>\n",
       "      <td>1</td>\n",
       "      <td>0</td>\n",
       "      <td>1</td>\n",
       "      <td>1</td>\n",
       "      <td>0</td>\n",
       "      <td>...</td>\n",
       "      <td>1</td>\n",
       "      <td>1</td>\n",
       "      <td>1</td>\n",
       "      <td>1</td>\n",
       "      <td>1</td>\n",
       "      <td>1</td>\n",
       "      <td>1</td>\n",
       "      <td>1</td>\n",
       "      <td>1</td>\n",
       "      <td>1</td>\n",
       "    </tr>\n",
       "    <tr>\n",
       "      <th>2520</th>\n",
       "      <td>1</td>\n",
       "      <td>0</td>\n",
       "      <td>0</td>\n",
       "      <td>0</td>\n",
       "      <td>1</td>\n",
       "      <td>1</td>\n",
       "      <td>1</td>\n",
       "      <td>1</td>\n",
       "      <td>0</td>\n",
       "      <td>0</td>\n",
       "      <td>...</td>\n",
       "      <td>1</td>\n",
       "      <td>1</td>\n",
       "      <td>1</td>\n",
       "      <td>1</td>\n",
       "      <td>1</td>\n",
       "      <td>1</td>\n",
       "      <td>1</td>\n",
       "      <td>1</td>\n",
       "      <td>1</td>\n",
       "      <td>1</td>\n",
       "    </tr>\n",
       "    <tr>\n",
       "      <th>3721</th>\n",
       "      <td>1</td>\n",
       "      <td>0</td>\n",
       "      <td>1</td>\n",
       "      <td>0</td>\n",
       "      <td>1</td>\n",
       "      <td>1</td>\n",
       "      <td>1</td>\n",
       "      <td>0</td>\n",
       "      <td>1</td>\n",
       "      <td>1</td>\n",
       "      <td>...</td>\n",
       "      <td>1</td>\n",
       "      <td>1</td>\n",
       "      <td>1</td>\n",
       "      <td>1</td>\n",
       "      <td>1</td>\n",
       "      <td>1</td>\n",
       "      <td>1</td>\n",
       "      <td>1</td>\n",
       "      <td>1</td>\n",
       "      <td>1</td>\n",
       "    </tr>\n",
       "    <tr>\n",
       "      <th>3727</th>\n",
       "      <td>0</td>\n",
       "      <td>0</td>\n",
       "      <td>0</td>\n",
       "      <td>0</td>\n",
       "      <td>1</td>\n",
       "      <td>0</td>\n",
       "      <td>1</td>\n",
       "      <td>0</td>\n",
       "      <td>0</td>\n",
       "      <td>0</td>\n",
       "      <td>...</td>\n",
       "      <td>0</td>\n",
       "      <td>0</td>\n",
       "      <td>0</td>\n",
       "      <td>0</td>\n",
       "      <td>0</td>\n",
       "      <td>0</td>\n",
       "      <td>0</td>\n",
       "      <td>0</td>\n",
       "      <td>0</td>\n",
       "      <td>0</td>\n",
       "    </tr>\n",
       "  </tbody>\n",
       "</table>\n",
       "<p>5 rows × 300 columns</p>\n",
       "</div>"
      ],
      "text/plain": [
       "     0   1   2   3   4   5   6   7   8   9    ... 290 291 292 293 294 295 296  \\\n",
       "1483   1   1   0   0   1   1   0   1   1   1  ...   1   1   1   1   1   1   1   \n",
       "2185   1   1   1   1   0   1   0   1   1   0  ...   1   1   1   1   1   1   1   \n",
       "2520   1   0   0   0   1   1   1   1   0   0  ...   1   1   1   1   1   1   1   \n",
       "3721   1   0   1   0   1   1   1   0   1   1  ...   1   1   1   1   1   1   1   \n",
       "3727   0   0   0   0   1   0   1   0   0   0  ...   0   0   0   0   0   0   0   \n",
       "\n",
       "     297 298 299  \n",
       "1483   1   1   1  \n",
       "2185   1   1   1  \n",
       "2520   1   1   1  \n",
       "3721   1   1   1  \n",
       "3727   0   0   0  \n",
       "\n",
       "[5 rows x 300 columns]"
      ]
     },
     "execution_count": 797,
     "metadata": {},
     "output_type": "execute_result"
    }
   ],
   "source": [
    "y_pred.head()"
   ]
  },
  {
   "cell_type": "code",
   "execution_count": 798,
   "metadata": {},
   "outputs": [],
   "source": [
    "from sklearn.metrics import accuracy_score\n",
    "accuracy = []\n",
    "sample = []\n",
    "for i in range(n_B):\n",
    "    accuracy.append(metrics.accuracy_score(y_pred[i], y_test))\n",
    "    sample.append(i)"
   ]
  },
  {
   "cell_type": "code",
   "execution_count": 799,
   "metadata": {},
   "outputs": [
    {
     "data": {
      "text/plain": [
       "Text(0, 0.5, 'accuracy')"
      ]
     },
     "execution_count": 799,
     "metadata": {},
     "output_type": "execute_result"
    },
    {
     "data": {
      "image/png": "[encoded data removed]",
      "text/plain": [
       "<Figure size 432x288 with 1 Axes>"
      ]
     },
     "metadata": {},
     "output_type": "display_data"
    }
   ],
   "source": [
    "# plot sample (x-axis) versus accuracy (y-axis)\n",
    "plt.plot(sample, accuracy)\n",
    "plt.xlabel('sample')\n",
    "plt.ylabel('accuracy')"
   ]
  },
  {
   "cell_type": "code",
   "execution_count": 800,
   "metadata": {},
   "outputs": [],
   "source": [
    "from sklearn.metrics import f1_score\n",
    "f1_score = []\n",
    "sample = []\n",
    "for i in range(n_B):\n",
    "    f1_score.append(metrics.f1_score(y_pred[i], y_test))\n",
    "    sample.append(i)"
   ]
  },
  {
   "cell_type": "code",
   "execution_count": 801,
   "metadata": {},
   "outputs": [
    {
     "data": {
      "text/plain": [
       "Text(0, 0.5, 'f1_score')"
      ]
     },
     "execution_count": 801,
     "metadata": {},
     "output_type": "execute_result"
    },
    {
     "data": {
      "image/png": "[encoded data removed]",
      "text/plain": [
       "<Figure size 432x288 with 1 Axes>"
      ]
     },
     "metadata": {},
     "output_type": "display_data"
    }
   ],
   "source": [
    "# plot sample (x-axis) versus f1_score (y-axis)\n",
    "plt.plot(sample, f1_score)\n",
    "plt.xlabel('sample')\n",
    "plt.ylabel('f1_score')"
   ]
  },
  {
   "cell_type": "code",
   "execution_count": 802,
   "metadata": {},
   "outputs": [
    {
     "name": "stdout",
     "output_type": "stream",
     "text": [
      "accuracy tree clasifier: 0.5657710437710437\n",
      "accuracy tree clasifier 2: 0.6382222222222222\n",
      "accuracy logistic regression: 0.6212323232323232\n",
      "accuracy Total: 0.6083901895206243\n"
     ]
    }
   ],
   "source": [
    "print('accuracy tree clasifier:', np.mean(accuracy[0:99]))\n",
    "print('accuracy tree clasifier 2:', np.mean(accuracy[100:199]))\n",
    "print('accuracy logistic regression:', np.mean(accuracy[200:299]))\n",
    "print('accuracy Total:', np.mean(accuracy[0:299]))"
   ]
  },
  {
   "cell_type": "markdown",
   "metadata": {},
   "source": [
    "# Exercise 7.8\n",
    "\n",
    "Ensemble using majority voting\n",
    "\n",
    "Evaluate using the following metrics:\n",
    "* Accuracy\n",
    "* F1-Score"
   ]
  },
  {
   "cell_type": "code",
   "execution_count": 803,
   "metadata": {},
   "outputs": [
    {
     "data": {
      "text/plain": [
       "1483    283\n",
       "2185    262\n",
       "2520    252\n",
       "3721    276\n",
       "3727     19\n",
       "dtype: int64"
      ]
     },
     "execution_count": 803,
     "metadata": {},
     "output_type": "execute_result"
    }
   ],
   "source": [
    "y_pred.sum(axis=1).head()"
   ]
  },
  {
   "cell_type": "code",
   "execution_count": 804,
   "metadata": {},
   "outputs": [
    {
     "name": "stdout",
     "output_type": "stream",
     "text": [
      "f1 score modelo bagging majority voting: 0.7003848268279275\n",
      "accuracy modelo bagging majority voting: 0.6366666666666667\n"
     ]
    }
   ],
   "source": [
    "y_pred_f = (y_pred.sum(axis=1) >= (n_B / 6)).astype(np.int)\n",
    "\n",
    "from sklearn import metrics\n",
    "print('f1 score modelo bagging majority voting:', metrics.f1_score(y_pred_f, y_test))\n",
    "print('accuracy modelo bagging majority voting:', metrics.accuracy_score(y_pred_f, y_test))"
   ]
  },
  {
   "cell_type": "markdown",
   "metadata": {},
   "source": [
    "# Exercise 7.9\n",
    "\n",
    "Estimate te probability as %models that predict positive\n",
    "\n",
    "Modify the probability threshold and select the one that maximizes the F1-Score"
   ]
  },
  {
   "cell_type": "code",
   "execution_count": 853,
   "metadata": {},
   "outputs": [],
   "source": [
    "def perf_measure(y_actual, y_hat):\n",
    "    columna = y_hat.shape[1]\n",
    "    TP = np.arange(len(y_hat))\n",
    "    FN = np.arange(len(y_hat))\n",
    "    PP = np.zeros(len(y_hat))\n",
    "    for i in range(len(y_hat)):\n",
    "        TP[i] = 0\n",
    "        FN[i] = 0\n",
    "        PP[i] = 0\n",
    "        for col in range(columna):\n",
    "            if (y_actual.iloc[i])== (y_hat.iloc[i,col])==1:\n",
    "                TP[i] = TP[i] + 1\n",
    "                \n",
    "            if y_hat.iloc[i,col]==0 and y_actual.iloc[i]!=y_hat.iloc[i,col]:\n",
    "                FN[i] = FN[i] + 1\n",
    "        if TP[i] +  FN[i] == 0:  \n",
    "            PP[i] = 0\n",
    "        else:\n",
    "            PP[i] = ((TP[i])/((TP[i])+(FN[i])))\n",
    "                                \n",
    "    return(PP)"
   ]
  },
  {
   "cell_type": "code",
   "execution_count": 854,
   "metadata": {},
   "outputs": [],
   "source": [
    "prob_TP = pd.DataFrame(perf_measure(y_test, y_pred))"
   ]
  },
  {
   "cell_type": "code",
   "execution_count": 858,
   "metadata": {},
   "outputs": [
    {
     "data": {
      "text/html": [
       "<div>\n",
       "<style scoped>\n",
       "    .dataframe tbody tr th:only-of-type {\n",
       "        vertical-align: middle;\n",
       "    }\n",
       "\n",
       "    .dataframe tbody tr th {\n",
       "        vertical-align: top;\n",
       "    }\n",
       "\n",
       "    .dataframe thead th {\n",
       "        text-align: right;\n",
       "    }\n",
       "</style>\n",
       "<table border=\"1\" class=\"dataframe\">\n",
       "  <thead>\n",
       "    <tr style=\"text-align: right;\">\n",
       "      <th></th>\n",
       "      <th>0</th>\n",
       "    </tr>\n",
       "  </thead>\n",
       "  <tbody>\n",
       "    <tr>\n",
       "      <th>0</th>\n",
       "      <td>0.000000</td>\n",
       "    </tr>\n",
       "    <tr>\n",
       "      <th>1</th>\n",
       "      <td>0.873333</td>\n",
       "    </tr>\n",
       "    <tr>\n",
       "      <th>2</th>\n",
       "      <td>0.000000</td>\n",
       "    </tr>\n",
       "    <tr>\n",
       "      <th>3</th>\n",
       "      <td>0.920000</td>\n",
       "    </tr>\n",
       "    <tr>\n",
       "      <th>4</th>\n",
       "      <td>0.000000</td>\n",
       "    </tr>\n",
       "    <tr>\n",
       "      <th>5</th>\n",
       "      <td>0.526667</td>\n",
       "    </tr>\n",
       "    <tr>\n",
       "      <th>6</th>\n",
       "      <td>0.000000</td>\n",
       "    </tr>\n",
       "    <tr>\n",
       "      <th>7</th>\n",
       "      <td>0.000000</td>\n",
       "    </tr>\n",
       "    <tr>\n",
       "      <th>8</th>\n",
       "      <td>0.383333</td>\n",
       "    </tr>\n",
       "    <tr>\n",
       "      <th>9</th>\n",
       "      <td>0.846667</td>\n",
       "    </tr>\n",
       "  </tbody>\n",
       "</table>\n",
       "</div>"
      ],
      "text/plain": [
       "          0\n",
       "0  0.000000\n",
       "1  0.873333\n",
       "2  0.000000\n",
       "3  0.920000\n",
       "4  0.000000\n",
       "5  0.526667\n",
       "6  0.000000\n",
       "7  0.000000\n",
       "8  0.383333\n",
       "9  0.846667"
      ]
     },
     "execution_count": 858,
     "metadata": {},
     "output_type": "execute_result"
    }
   ],
   "source": [
    "prob_TP.head(10)"
   ]
  },
  {
   "cell_type": "code",
   "execution_count": 856,
   "metadata": {},
   "outputs": [],
   "source": [
    "from sklearn import metrics\n",
    "f1_score = []\n",
    "for th in np.arange(0, 1, 0.05).tolist():\n",
    "    y_pred_f = (prob_TP >= (th)).astype(np.int)\n",
    "    f1_score.append(metrics.f1_score(y_pred_f, y_test))"
   ]
  },
  {
   "cell_type": "code",
   "execution_count": 857,
   "metadata": {},
   "outputs": [
    {
     "data": {
      "text/plain": [
       "Text(0, 0.5, 'f1_score')"
      ]
     },
     "execution_count": 857,
     "metadata": {},
     "output_type": "execute_result"
    },
    {
     "data": {
      "image/png": "[encoded data removed]",
      "text/plain": [
       "<Figure size 432x288 with 1 Axes>"
      ]
     },
     "metadata": {},
     "output_type": "display_data"
    }
   ],
   "source": [
    "# plot threshold (x-axis) versus f1_score (y-axis)\n",
    "plt.plot(np.arange(0, 1, 0.05).tolist(), f1_score)\n",
    "plt.xlabel('threshold')\n",
    "plt.ylabel('f1_score')"
   ]
  },
  {
   "cell_type": "code",
   "execution_count": 859,
   "metadata": {},
   "outputs": [
    {
     "data": {
      "text/plain": [
       "(0.9980119284294234, 0.05)"
      ]
     },
     "execution_count": 859,
     "metadata": {},
     "output_type": "execute_result"
    }
   ],
   "source": [
    "# show the best f1_score and the corresponding probability threshold\n",
    "sorted(zip(f1_score, np.arange(0, 1, 0.05).tolist()))[::-1][0]"
   ]
  },
  {
   "cell_type": "code",
   "execution_count": 860,
   "metadata": {},
   "outputs": [],
   "source": [
    "from sklearn import metrics\n",
    "accuracy = []\n",
    "for th in np.arange(0, 1, 0.05).tolist():\n",
    "    y_pred_f = (prob_TP >= (th)).astype(np.int)\n",
    "    accuracy.append(metrics.accuracy_score(y_pred_f, y_test))"
   ]
  },
  {
   "cell_type": "code",
   "execution_count": 861,
   "metadata": {},
   "outputs": [
    {
     "data": {
      "text/plain": [
       "Text(0, 0.5, 'accuracy')"
      ]
     },
     "execution_count": 861,
     "metadata": {},
     "output_type": "execute_result"
    },
    {
     "data": {
      "image/png": "[encoded data removed]",
      "text/plain": [
       "<Figure size 432x288 with 1 Axes>"
      ]
     },
     "metadata": {},
     "output_type": "display_data"
    }
   ],
   "source": [
    "# plot threshold (x-axis) versus accuracy (y-axis)\n",
    "plt.plot(np.arange(0, 1, 0.05).tolist(), accuracy)\n",
    "plt.xlabel('threshold')\n",
    "plt.ylabel('accuracy')"
   ]
  },
  {
   "cell_type": "markdown",
   "metadata": {},
   "source": [
    "# Exercise 7.10\n",
    "\n",
    "Ensemble using weighted voting using the oob_error\n",
    "\n",
    "Evaluate using the following metrics:\n",
    "* Accuracy\n",
    "* F1-Score"
   ]
  },
  {
   "cell_type": "code",
   "execution_count": 722,
   "metadata": {},
   "outputs": [],
   "source": [
    "samples_oob = []\n",
    "# show the \"out-of-bag\" observations for each sample\n",
    "for sample in samples:\n",
    "    samples_oob.append(sorted(set(range(n_samples)) - set(sample)))"
   ]
  },
  {
   "cell_type": "code",
   "execution_count": 723,
   "metadata": {},
   "outputs": [],
   "source": [
    "errors = np.zeros(n_B)\n",
    "\n",
    "for i in range(n_B):\n",
    "    y_pred_ = models[i].predict(X_train.iloc[samples_oob[i]])\n",
    "    errors[i] = 1 - metrics.accuracy_score(y_train.iloc[samples_oob[i]], y_pred_)"
   ]
  },
  {
   "cell_type": "code",
   "execution_count": 724,
   "metadata": {},
   "outputs": [
    {
     "data": {
      "text/plain": [
       "Text(0.5, 1.0, 'OOB error of each tree')"
      ]
     },
     "execution_count": 724,
     "metadata": {},
     "output_type": "execute_result"
    },
    {
     "data": {
      "image/png": "[encoded data removed]",
      "text/plain": [
       "<Figure size 432x288 with 1 Axes>"
      ]
     },
     "metadata": {},
     "output_type": "display_data"
    }
   ],
   "source": [
    "%matplotlib inline\n",
    "import matplotlib.pyplot as plt\n",
    "plt.style.use('fivethirtyeight')\n",
    "\n",
    "plt.scatter(range(n_B), errors)\n",
    "plt.xlim([0, n_B])\n",
    "plt.title('OOB error of each tree')"
   ]
  },
  {
   "cell_type": "code",
   "execution_count": 725,
   "metadata": {},
   "outputs": [],
   "source": [
    "alpha = (1 - errors) / (1 - errors).sum()"
   ]
  },
  {
   "cell_type": "code",
   "execution_count": 726,
   "metadata": {},
   "outputs": [],
   "source": [
    "weighted_sum_1 = ((y_pred) * alpha).sum(axis=1)"
   ]
  },
  {
   "cell_type": "code",
   "execution_count": 727,
   "metadata": {},
   "outputs": [
    {
     "data": {
      "text/plain": [
       "1483    0.947635\n",
       "2185    0.882777\n",
       "2520    0.851936\n",
       "3721    0.925827\n",
       "3727    0.058627\n",
       "dtype: float64"
      ]
     },
     "execution_count": 727,
     "metadata": {},
     "output_type": "execute_result"
    }
   ],
   "source": [
    "weighted_sum_1.head(5)"
   ]
  },
  {
   "cell_type": "code",
   "execution_count": 728,
   "metadata": {},
   "outputs": [
    {
     "name": "stdout",
     "output_type": "stream",
     "text": [
      "f1 score modelo bagging majority voting: 0.6248275862068966\n",
      "accuracy modelo bagging majority voting: 0.6373333333333333\n"
     ]
    }
   ],
   "source": [
    "y_pred_o = (weighted_sum_1 >= 0.5).astype(np.int)\n",
    "\n",
    "print('f1 score modelo bagging majority voting:', metrics.f1_score(y_pred_o, y_test))\n",
    "print('accuracy modelo bagging majority voting:', metrics.accuracy_score(y_pred_o, y_test))"
   ]
  },
  {
   "cell_type": "markdown",
   "metadata": {},
   "source": [
    "# Exercise 7.11\n",
    "\n",
    "Estimate te probability of the weighted voting\n",
    "\n",
    "Modify the probability threshold and select the one that maximizes the F1-Score"
   ]
  },
  {
   "cell_type": "code",
   "execution_count": 771,
   "metadata": {},
   "outputs": [
    {
     "data": {
      "text/plain": [
       "array([[0.44497243, 0.55502757],\n",
       "       [0.36614238, 0.63385762],\n",
       "       [0.48405442, 0.51594558],\n",
       "       ...,\n",
       "       [0.65772506, 0.34227494],\n",
       "       [0.68864077, 0.31135923],\n",
       "       [0.27738411, 0.72261589]])"
      ]
     },
     "execution_count": 771,
     "metadata": {},
     "output_type": "execute_result"
    }
   ],
   "source": [
    "y_pred_"
   ]
  },
  {
   "cell_type": "code",
   "execution_count": 787,
   "metadata": {},
   "outputs": [],
   "source": [
    "errors = np.zeros(n_B)\n",
    "THRESHOLD = 0.5\n",
    "for i in range(n_B):\n",
    "    y_pred_ = np.where(models[i].predict_proba(X_train.iloc[samples_oob[i]])[:,1] >= THRESHOLD, 1, 0)\n",
    "    errors[i] = 1 - metrics.accuracy_score(y_train.iloc[samples_oob[i]], y_pred_)"
   ]
  },
  {
   "cell_type": "code",
   "execution_count": 788,
   "metadata": {},
   "outputs": [],
   "source": [
    "alpha = (1 - errors) / (1 - errors).sum()"
   ]
  },
  {
   "cell_type": "code",
   "execution_count": 789,
   "metadata": {},
   "outputs": [],
   "source": [
    "weighted_sum_1 = ((y_pred) * alpha).sum(axis=1)"
   ]
  },
  {
   "cell_type": "code",
   "execution_count": 790,
   "metadata": {},
   "outputs": [],
   "source": [
    "from sklearn import metrics\n",
    "f1_score = []\n",
    "for th in np.arange(0, 1, 0.05).tolist():\n",
    "    y_pred_wv = (weighted_sum_1 >= (th)).astype(np.int)\n",
    "    f1_score.append(metrics.f1_score(y_pred_wv, y_test))"
   ]
  },
  {
   "cell_type": "code",
   "execution_count": 791,
   "metadata": {},
   "outputs": [
    {
     "data": {
      "text/plain": [
       "Text(0, 0.5, 'f1_score')"
      ]
     },
     "execution_count": 791,
     "metadata": {},
     "output_type": "execute_result"
    },
    {
     "data": {
      "image/png": "[encoded data removed]",
      "text/plain": [
       "<Figure size 432x288 with 1 Axes>"
      ]
     },
     "metadata": {},
     "output_type": "display_data"
    }
   ],
   "source": [
    "# plot threshold (x-axis) versus f1_score (y-axis)\n",
    "plt.plot(np.arange(0, 1, 0.05).tolist(), f1_score)\n",
    "plt.xlabel('threshold')\n",
    "plt.ylabel('f1_score')"
   ]
  },
  {
   "cell_type": "code",
   "execution_count": 792,
   "metadata": {},
   "outputs": [
    {
     "data": {
      "text/plain": [
       "(0.7032859244727808, 0.1)"
      ]
     },
     "execution_count": 792,
     "metadata": {},
     "output_type": "execute_result"
    }
   ],
   "source": [
    "# show the best accuracy and the corresponding max_depth\n",
    "sorted(zip(f1_score, np.arange(0, 1, 0.05).tolist()))[::-1][0]"
   ]
  },
  {
   "cell_type": "markdown",
   "metadata": {},
   "source": [
    "# Exercise 7.12\n",
    "\n",
    "Estimate a logistic regression using as input the estimated classifiers\n",
    "\n",
    "Modify the probability threshold such that maximizes the F1-Score"
   ]
  },
  {
   "cell_type": "code",
   "execution_count": 629,
   "metadata": {},
   "outputs": [],
   "source": [
    "import warnings\n",
    "warnings.filterwarnings('ignore')\n",
    "\n",
    "# DataFrame for storing predicted price from each tree\n",
    "y_pred = pd.DataFrame(index=X_test.index, columns=[list(range(n_B))])\n",
    "\n",
    "# grow one tree for each bootstrap sample and make predictions on testing data\n",
    "\n",
    "models = {}\n",
    "for i, sample in enumerate(samples):\n",
    "    #X_train = train.iloc[sample, 1:]\n",
    "    #y_train = train.iloc[sample, 0]\n",
    "    if i < 100:\n",
    "        models[i] = DecisionTreeClassifier(max_features=\"sqrt\", max_depth=None, random_state=123)\n",
    "        models[i].fit(X_train.iloc[sample,:], y_train.iloc[sample])\n",
    "        y_pred[i] = models[i].predict(X_test)\n",
    "    if  100 <= i < 200:\n",
    "        models[i] = DecisionTreeClassifier(max_features=\"sqrt\", max_depth=2, random_state=123)\n",
    "        models[i].fit(X_train.iloc[sample,:], y_train.iloc[sample])      \n",
    "        y_pred[i] = models[i].predict(X_test)\n",
    "    if  i >= 200: \n",
    "        models[i] = LogisticRegression()\n",
    "        models[i].fit(X_train.iloc[sample,:], y_train.iloc[sample])  \n",
    "        y_pred[i] = models[i].predict(X_test)"
   ]
  },
  {
   "cell_type": "code",
   "execution_count": 630,
   "metadata": {},
   "outputs": [],
   "source": [
    "# DataFrame for storing predicted price from each tree\n",
    "X_train_2 = pd.DataFrame(index=X_train.index, columns=[list(range(n_B))])\n",
    "\n",
    "# grow one tree for each bootstrap sample and make predictions on testing data\n",
    "\n",
    "for i in range(n_B):\n",
    "    X_train_2[i] = models[i].predict(X_train)"
   ]
  },
  {
   "cell_type": "code",
   "execution_count": 631,
   "metadata": {},
   "outputs": [],
   "source": [
    "from sklearn.linear_model import LogisticRegressionCV"
   ]
  },
  {
   "cell_type": "code",
   "execution_count": 632,
   "metadata": {},
   "outputs": [
    {
     "data": {
      "text/plain": [
       "LogisticRegressionCV(Cs=10, class_weight=None, cv=5, dual=False,\n",
       "                     fit_intercept=True, intercept_scaling=1.0, l1_ratios=None,\n",
       "                     max_iter=100, multi_class='warn', n_jobs=None,\n",
       "                     penalty='l2', random_state=None, refit=True, scoring=None,\n",
       "                     solver='lbfgs', tol=0.0001, verbose=0)"
      ]
     },
     "execution_count": 632,
     "metadata": {},
     "output_type": "execute_result"
    }
   ],
   "source": [
    "lr = LogisticRegressionCV(cv = 5 )\n",
    "lr.fit(X_train_2, y_train)"
   ]
  },
  {
   "cell_type": "code",
   "execution_count": 633,
   "metadata": {},
   "outputs": [
    {
     "data": {
      "text/html": [
       "<div>\n",
       "<style scoped>\n",
       "    .dataframe tbody tr th:only-of-type {\n",
       "        vertical-align: middle;\n",
       "    }\n",
       "\n",
       "    .dataframe tbody tr th {\n",
       "        vertical-align: top;\n",
       "    }\n",
       "\n",
       "    .dataframe thead th {\n",
       "        text-align: right;\n",
       "    }\n",
       "</style>\n",
       "<table border=\"1\" class=\"dataframe\">\n",
       "  <thead>\n",
       "    <tr style=\"text-align: right;\">\n",
       "      <th></th>\n",
       "      <th>0</th>\n",
       "      <th>1</th>\n",
       "      <th>2</th>\n",
       "      <th>3</th>\n",
       "      <th>4</th>\n",
       "      <th>5</th>\n",
       "      <th>6</th>\n",
       "      <th>7</th>\n",
       "      <th>8</th>\n",
       "      <th>9</th>\n",
       "      <th>...</th>\n",
       "      <th>290</th>\n",
       "      <th>291</th>\n",
       "      <th>292</th>\n",
       "      <th>293</th>\n",
       "      <th>294</th>\n",
       "      <th>295</th>\n",
       "      <th>296</th>\n",
       "      <th>297</th>\n",
       "      <th>298</th>\n",
       "      <th>299</th>\n",
       "    </tr>\n",
       "  </thead>\n",
       "  <tbody>\n",
       "    <tr>\n",
       "      <th>1483</th>\n",
       "      <td>1</td>\n",
       "      <td>1</td>\n",
       "      <td>1</td>\n",
       "      <td>0</td>\n",
       "      <td>1</td>\n",
       "      <td>1</td>\n",
       "      <td>1</td>\n",
       "      <td>1</td>\n",
       "      <td>1</td>\n",
       "      <td>1</td>\n",
       "      <td>...</td>\n",
       "      <td>1</td>\n",
       "      <td>1</td>\n",
       "      <td>1</td>\n",
       "      <td>1</td>\n",
       "      <td>1</td>\n",
       "      <td>1</td>\n",
       "      <td>1</td>\n",
       "      <td>1</td>\n",
       "      <td>1</td>\n",
       "      <td>1</td>\n",
       "    </tr>\n",
       "    <tr>\n",
       "      <th>2185</th>\n",
       "      <td>0</td>\n",
       "      <td>1</td>\n",
       "      <td>1</td>\n",
       "      <td>0</td>\n",
       "      <td>0</td>\n",
       "      <td>1</td>\n",
       "      <td>1</td>\n",
       "      <td>1</td>\n",
       "      <td>1</td>\n",
       "      <td>1</td>\n",
       "      <td>...</td>\n",
       "      <td>1</td>\n",
       "      <td>1</td>\n",
       "      <td>1</td>\n",
       "      <td>1</td>\n",
       "      <td>1</td>\n",
       "      <td>1</td>\n",
       "      <td>1</td>\n",
       "      <td>1</td>\n",
       "      <td>1</td>\n",
       "      <td>1</td>\n",
       "    </tr>\n",
       "    <tr>\n",
       "      <th>2520</th>\n",
       "      <td>1</td>\n",
       "      <td>1</td>\n",
       "      <td>0</td>\n",
       "      <td>0</td>\n",
       "      <td>0</td>\n",
       "      <td>0</td>\n",
       "      <td>0</td>\n",
       "      <td>0</td>\n",
       "      <td>0</td>\n",
       "      <td>1</td>\n",
       "      <td>...</td>\n",
       "      <td>1</td>\n",
       "      <td>1</td>\n",
       "      <td>1</td>\n",
       "      <td>1</td>\n",
       "      <td>1</td>\n",
       "      <td>1</td>\n",
       "      <td>1</td>\n",
       "      <td>1</td>\n",
       "      <td>1</td>\n",
       "      <td>1</td>\n",
       "    </tr>\n",
       "    <tr>\n",
       "      <th>3721</th>\n",
       "      <td>1</td>\n",
       "      <td>1</td>\n",
       "      <td>0</td>\n",
       "      <td>0</td>\n",
       "      <td>1</td>\n",
       "      <td>1</td>\n",
       "      <td>1</td>\n",
       "      <td>1</td>\n",
       "      <td>1</td>\n",
       "      <td>0</td>\n",
       "      <td>...</td>\n",
       "      <td>1</td>\n",
       "      <td>1</td>\n",
       "      <td>1</td>\n",
       "      <td>1</td>\n",
       "      <td>1</td>\n",
       "      <td>1</td>\n",
       "      <td>1</td>\n",
       "      <td>1</td>\n",
       "      <td>1</td>\n",
       "      <td>1</td>\n",
       "    </tr>\n",
       "    <tr>\n",
       "      <th>3727</th>\n",
       "      <td>1</td>\n",
       "      <td>0</td>\n",
       "      <td>0</td>\n",
       "      <td>0</td>\n",
       "      <td>0</td>\n",
       "      <td>0</td>\n",
       "      <td>0</td>\n",
       "      <td>0</td>\n",
       "      <td>0</td>\n",
       "      <td>0</td>\n",
       "      <td>...</td>\n",
       "      <td>0</td>\n",
       "      <td>0</td>\n",
       "      <td>0</td>\n",
       "      <td>0</td>\n",
       "      <td>0</td>\n",
       "      <td>0</td>\n",
       "      <td>0</td>\n",
       "      <td>0</td>\n",
       "      <td>0</td>\n",
       "      <td>0</td>\n",
       "    </tr>\n",
       "  </tbody>\n",
       "</table>\n",
       "<p>5 rows × 300 columns</p>\n",
       "</div>"
      ],
      "text/plain": [
       "      0    1    2    3    4    5    6    7    8    9    ...  290  291  292  \\\n",
       "1483    1    1    1    0    1    1    1    1    1    1  ...    1    1    1   \n",
       "2185    0    1    1    0    0    1    1    1    1    1  ...    1    1    1   \n",
       "2520    1    1    0    0    0    0    0    0    0    1  ...    1    1    1   \n",
       "3721    1    1    0    0    1    1    1    1    1    0  ...    1    1    1   \n",
       "3727    1    0    0    0    0    0    0    0    0    0  ...    0    0    0   \n",
       "\n",
       "      293  294  295  296  297  298  299  \n",
       "1483    1    1    1    1    1    1    1  \n",
       "2185    1    1    1    1    1    1    1  \n",
       "2520    1    1    1    1    1    1    1  \n",
       "3721    1    1    1    1    1    1    1  \n",
       "3727    0    0    0    0    0    0    0  \n",
       "\n",
       "[5 rows x 300 columns]"
      ]
     },
     "execution_count": 633,
     "metadata": {},
     "output_type": "execute_result"
    }
   ],
   "source": [
    "# Predict \n",
    "y_pred_df = pd.DataFrame(index=X_test.index, columns=list(range(n_B)))\n",
    "for i in range(n_B):\n",
    "    y_pred_df.iloc[:, i] = models[i].predict(X_test)\n",
    "\n",
    "y_pred_df.head()"
   ]
  },
  {
   "cell_type": "code",
   "execution_count": 635,
   "metadata": {},
   "outputs": [],
   "source": [
    "y_pred_f = lr.predict(y_pred_df)"
   ]
  },
  {
   "cell_type": "code",
   "execution_count": 636,
   "metadata": {},
   "outputs": [
    {
     "data": {
      "text/plain": [
       "(0.6561886051080551, 0.65)"
      ]
     },
     "execution_count": 636,
     "metadata": {},
     "output_type": "execute_result"
    }
   ],
   "source": [
    "metrics.f1_score(y_pred_f, y_test), metrics.accuracy_score(y_pred_f, y_test)"
   ]
  },
  {
   "cell_type": "code",
   "execution_count": 761,
   "metadata": {},
   "outputs": [],
   "source": [
    "threshold_list = [0.05,0.1,0.15,0.2,0.25,0.3,0.35,0.4,0.45,0.5,0.55,0.6,0.65,.7,.75,.8,.85,.9,.95,.99]\n",
    "f1_score = []\n",
    "for THRESHOLD in threshold_list:\n",
    "    preds = np.where(lr.predict_proba(y_pred_df)[:,1] > THRESHOLD, 1, 0)\n",
    "    f1_score.append(metrics.f1_score(preds, y_test))"
   ]
  },
  {
   "cell_type": "code",
   "execution_count": 763,
   "metadata": {},
   "outputs": [
    {
     "data": {
      "text/plain": [
       "Text(0, 0.5, 'f1_score')"
      ]
     },
     "execution_count": 763,
     "metadata": {},
     "output_type": "execute_result"
    },
    {
     "data": {
      "image/png": "[encoded data removed]",
      "text/plain": [
       "<Figure size 432x288 with 1 Axes>"
      ]
     },
     "metadata": {},
     "output_type": "display_data"
    }
   ],
   "source": [
    "# plot threshold (x-axis) versus f1_score (y-axis)\n",
    "plt.plot(threshold_list, f1_score)\n",
    "plt.xlabel('threshold_list')\n",
    "plt.ylabel('f1_score')"
   ]
  },
  {
   "cell_type": "code",
   "execution_count": 764,
   "metadata": {},
   "outputs": [
    {
     "data": {
      "text/plain": [
       "(0.717436974789916, 0.2)"
      ]
     },
     "execution_count": 764,
     "metadata": {},
     "output_type": "execute_result"
    }
   ],
   "source": [
    "# show the best accuracy and the corresponding max_depth\n",
    "sorted(zip(f1_score, np.arange(0, 1, 0.05).tolist()))[::-1][0]"
   ]
  }
 ],
 "metadata": {
  "kernelspec": {
   "display_name": "Python 3",
   "language": "python",
   "name": "python3"
  },
  "language_info": {
   "codemirror_mode": {
    "name": "ipython",
    "version": 3
   },
   "file_extension": ".py",
   "mimetype": "text/x-python",
   "name": "python",
   "nbconvert_exporter": "python",
   "pygments_lexer": "ipython3",
   "version": "3.7.3"
  }
 },
 "nbformat": 4,
 "nbformat_minor": 1
}
